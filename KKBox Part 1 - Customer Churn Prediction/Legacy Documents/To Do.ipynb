{
 "cells": [
  {
   "cell_type": "markdown",
   "metadata": {},
   "source": [
    "TO DOs"
   ]
  },
  {
   "cell_type": "code",
   "execution_count": null,
   "metadata": {},
   "outputs": [],
   "source": [
    "- Does pipeline scale Train set when I transform\n",
    "\n",
    "\n",
    "\n",
    "\n",
    "Other things to consider\n",
    "- If worried about monthly difference Compare Actual Churn rates...\n",
    "- Change Churn to 30 days !!!!"
   ]
  },
  {
   "cell_type": "markdown",
   "metadata": {},
   "source": [
    "Content to Create:"
   ]
  },
  {
   "cell_type": "markdown",
   "metadata": {},
   "source": [
    "- KKBOX LOGO\n",
    "- GRAPHIC WITH ALL TABLES AND THEIR RESPECTIVE FEATURES\n",
    "- Focus Factor Meme\n",
    "- Add BigQuery Python Code snippets: Both Magic and Other\n",
    "- Add base table Bigquery snapshot\n",
    "\n",
    "EDA\n",
    "- Churn Distribution\n",
    "- Add chi2 results\n",
    "\n",
    "\n",
    "Model #1/#2\n",
    "\n",
    "- Model #1: Validation CMs\n",
    "- Model #1: Train and Validation Scores\n",
    "- Model #2: Multi Ratio Validation CMs\n",
    "- Model #2: Train and Validation Scoresn\n",
    "\n",
    "Model #3\n",
    "\n",
    "- Feautre Importance Thresholds for GBT and RFC\n",
    "- CMs for GBT and RFC - Train and Valid\n",
    "- Best Model Scores for GBT and RFC - Train and Valid\n",
    "- GBT and RFC Score Differences\n",
    "\n",
    "Model #4\n",
    "\n",
    "- Feautre Importance Thresholds for GBT and RFC\n",
    "- Best Model Scores for GBT and RFC - Train and Valid\n",
    "- CMs for GBT and RFC - Train and Valid\n",
    "- GBT and RFC Score Differences\n",
    "\n"
   ]
  },
  {
   "cell_type": "markdown",
   "metadata": {},
   "source": [
    "Questions"
   ]
  },
  {
   "cell_type": "code",
   "execution_count": null,
   "metadata": {},
   "outputs": [],
   "source": [
    "- Log Loss Function implementation to ana"
   ]
  },
  {
   "cell_type": "markdown",
   "metadata": {},
   "source": [
    "FUTURE IMPROVEMENTS TO MODEL SECTION"
   ]
  },
  {
   "cell_type": "code",
   "execution_count": null,
   "metadata": {},
   "outputs": [],
   "source": [
    "Feature Ideas:\n",
    "- Features revovling around past cancelations\n",
    "- Features capturing activity after membership expiration date but before end of 30 day window\n",
    "\n",
    "Changing the scope of my Train set to get more Churn data:\n",
    "- Try training on other months than January, different parts of the year. Training on the first month of the year may be affected by seasonality.\n",
    "- Currently we are using one month to predict forward. However using the data from such a largely imbalanced dataset from a single month could be very limiting. We can try to use the data from the past three months to get more churn observations in our Train set.\n",
    "\n",
    "Ensemble of Best Models Ideas:\n",
    "- Ensemble of Continuous Prob Results instead of Binaries\n",
    "- Ensemble of Continuous Prob Results with Adjusted Thresholds to make churn more/less sensitive depending on Train set split.\n",
    "\n",
    "Getting Better Results with Current Model:\n",
    "- Taking three samples of each ratio set to add a bit more stability"
   ]
  },
  {
   "cell_type": "code",
   "execution_count": null,
   "metadata": {},
   "outputs": [],
   "source": [
    "Make Cards:\n",
    "- If worried about monthly difference Compare Actual Churn rates... from month to month and see if proportions are consistent\n",
    "\n",
    "- Ways to handle overfitting in \n",
    " - Via Feature Importance Threshold  @ Mean, >.75 Quartile, >.50 Quartile, >.25 Quartile\n",
    "\n",
    "- Difference between Filter and Wrapper methods\n",
    "https://www.analyticsvidhya.com/blog/2016/12/introduction-to-feature-selection-methods-with-an-example-or-how-to-select-the-right-variables/\n",
    "\n",
    "- Types of embedded feature selection methods\n",
    "https://www.analyticsvidhya.com/blog/2016/12/introduction-to-feature-selection-methods-with-an-example-or-how-to-select-the-right-variables/\n",
    "    \n",
    "How to Address over offer fitting in Classification\n",
    "- Remove worst/confusing models and then Retrain\n",
    "- simple decision tree of Binary Prediction models\n",
    "- Remove features\n",
    "- Logistic Regression\n",
    "\n"
   ]
  },
  {
   "cell_type": "code",
   "execution_count": null,
   "metadata": {},
   "outputs": [],
   "source": [
    "How to Address over fitting in Classification\n",
    "- Remove worst/confusing models and then Retrain\n",
    "- simple decision tree of models\n",
    "    List of Models -> Star on training set, Validate and Find Best, Apply best on Test\n",
    "    - Ensemble of Binary results DONE\n",
    "    - Ensemble of Continuous Prob Results Done\n",
    "    - Ensemble of Continuous Prob Results with Adjusted thresholds DONE\n",
    "    - Ensemble of Everything\n",
    "    - Ensemble Loop Refer to photo\n",
    "\n",
    "- Logistic Regression\n"
   ]
  }
 ],
 "metadata": {
  "kernelspec": {
   "display_name": "Python 3",
   "language": "python",
   "name": "python3"
  },
  "language_info": {
   "codemirror_mode": {
    "name": "ipython",
    "version": 3
   },
   "file_extension": ".py",
   "mimetype": "text/x-python",
   "name": "python",
   "nbconvert_exporter": "python",
   "pygments_lexer": "ipython3",
   "version": "3.7.3"
  }
 },
 "nbformat": 4,
 "nbformat_minor": 4
}
