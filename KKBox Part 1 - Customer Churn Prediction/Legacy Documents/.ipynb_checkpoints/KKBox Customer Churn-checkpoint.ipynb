{
 "cells": [
  {
   "cell_type": "markdown",
   "metadata": {},
   "source": [
    "# KKBox Customer Churn - Supervised Learning Capstone - Data Loading Methods "
   ]
  },
  {
   "cell_type": "markdown",
   "metadata": {},
   "source": [
    "Kaggle Competition: https://www.kaggle.com/c/kkbox-churn-prediction-challenge/data\n",
    "\n",
    "**Scope:** I am trying to see if a user who is active in February 2017, will still be a user in March 2017"
   ]
  },
  {
   "cell_type": "markdown",
   "metadata": {},
   "source": [
    "## Import and Preview Data"
   ]
  },
  {
   "cell_type": "markdown",
   "metadata": {},
   "source": [
    "#### - <font color=blue>Import Libraries</font> -"
   ]
  },
  {
   "cell_type": "code",
   "execution_count": 2,
   "metadata": {},
   "outputs": [],
   "source": [
    "import pandas as pd\n",
    "import numpy as np\n",
    "import matplotlib.pyplot as plt\n",
    "%matplotlib inline\n",
    "import missingno as msno\n",
    "import sqlite3 as sql"
   ]
  },
  {
   "cell_type": "markdown",
   "metadata": {},
   "source": [
    "#### - <font color=blue>Summary of Datasets</font> -\n",
    "For this project we are given several massive datasets totaling over 30 GB. In general the datasets are divided into two versions: ***v1*** and ***v2***.\n",
    "_____\n",
    "**train_v1:** containing the user ids and whether they churned until ***2/28/2017***.\n",
    "\n",
    "**train_v2:** containing the user ids and whether they churned for the month of ***March 2017***.\n",
    "\n",
    "Features:\n",
    "    - msno: user id\n",
    "    - is_churn: This is the target variable. Churn is defined as whether the user did not continue the subscription within 30 days of expiration. is_churn = 1 means churn,is_churn = 0 means renewal.\n",
    "\n",
    "_____\n",
    "**transactions_v1:** transactions of users up until ***2/28/2017***.\n",
    "\n",
    "**transactions_v2:** transactions of users up until ***3/31/2017***.\n",
    "\n",
    "Features:\n",
    "    - msno: user id (***Repeated as a user can have various Transactions***)\n",
    "    - payment_method_id: payment method\n",
    "    - payment_plan_days: length of membership plan in days\n",
    "    - plan_list_price: in New Taiwan Dollar (NTD)\n",
    "    - actual_amount_paid: in New Taiwan Dollar (NTD)\n",
    "    - is_auto_renew\n",
    "    - transaction_date: format %Y%m%d\n",
    "    - membership_expire_date: format %Y%m%d\n",
    "    - is_cancel: whether or not the user canceled the membership in this transaction.\n",
    "\n",
    "_____\n",
    "**user_log_v1:** transactions of users up until ***2/28/2017***.\n",
    "\n",
    "**user_log_v2:** transactions of users for the month of ***March 2017***.\n",
    "\n",
    "Features:\n",
    "    - msno: user id (***Repeated as a user can have various Logins***)\n",
    "    - date: format %Y%m%d\n",
    "    - num_25: # of songs played less than 25% of the song length\n",
    "    - num_50: # of songs played between 25% to 50% of the song length\n",
    "    - num_75: # of songs played between 50% to 75% of of the song length\n",
    "    - num_985: # of songs played between 75% to 98.5% of the song length\n",
    "    - num_100: # of songs played over 98.5% of the song length\n",
    "    - num_unq: # of unique songs played\n",
    "    - total_secs: total seconds played\n",
    "\n",
    "_____\n",
    "**members_v3:** All user information data.\n",
    "\n",
    "Features:\n",
    "    - msno: user id\n",
    "    - city\n",
    "    - bd: age. Note: this column has outlier values ranging from -7000 to 2015, please use your judgement.\n",
    "    - gender\n",
    "    - registered_via: registration method\n",
    "    - registration_init_time: format %Y%m%d\n",
    "\n",
    "_____\n",
    "\n",
    "#### - <font color=blue>Dataset Statistics</font> -\n",
    "**# of Observations**: > 300,000,000\n",
    "\n",
    "**Dataset Sizes**\n",
    "\n",
    "- ***train_v1 Dataset:*** 45.56 MB \n",
    "- ***train_v2 Dataset:*** 44.56 MB   \n",
    "- ***transactions_v1 Dataset:*** 1.68 GB     \n",
    "- ***transactions_v2 Dataset:*** 112.69 MB     \n",
    "- ***user_log_v1 Dataset:*** 29.78 GB     \n",
    "- ***user_log_v2 Dataset:*** 1.40 GB \n",
    "- ***members_v3 Dataset:*** 417.89 MB\n",
    "- ***<font color=red>Total:  33.48 GB</font>***\n",
    "\n",
    "\n",
    "For the most part, ***January 2017 - Train Set*** , ***February 2017 - Validation Set*** data will be coming from the ***v1*** files and ***March 2017 - Test Set*** data will be coming from the ***v2*** files. Although the initial sets will be somewhat limited in features, once we have them imported we will make various queries to create new features."
   ]
  },
  {
   "cell_type": "markdown",
   "metadata": {},
   "source": [
    "### - <font color=blue>Import Data into Database</font> -\n",
    "As described in the 'KKBox Data Loading Methods' Notebook, after working out a succefully lengthy solution completely in Python, I decided to utilize SQLite3 for a more 'Persistent' solution. Postgre was all so considered but this was more practical for the task.\n",
    "\n",
    "Since the data in each dataset are in different timeframes, the initial Train, Validation, and Test Sets will contain general information for each member. For example:\n",
    "- The Transaction datset has recorded every single transaction made by a user.\n",
    "- The User Log dataset has recorded every single time a user has logged onto the platform.\n",
    "\n",
    "Since these datasets capture different types of user behaviors over different timeframes we can't just join them all together immediately. However since they do capture behavior over time, I believe that there would be a ton of value if we are able to get creative on how we capture this ***retrospective data***. As we go through EDA and Feature Creation we will create these new features through additional queries and python commands."
   ]
  },
  {
   "cell_type": "code",
   "execution_count": 3,
   "metadata": {},
   "outputs": [
    {
     "name": "stdout",
     "output_type": "stream",
     "text": [
      "Opened database successfully\n"
     ]
    }
   ],
   "source": [
    "# Create Connection to SQLite\n",
    "cnx = sql.connect(\"C:\\J-5 Local SSD\\Projects\\KKBox Customer Churn\\Database\\KKBox_DB.db\")  # Opens file if exists, else creates file\n",
    "cur = cnx.cursor()  # This object lets us actually send messages to our DB and receive results\n",
    "print(\"Opened database successfully\")"
   ]
  },
  {
   "cell_type": "code",
   "execution_count": 1,
   "metadata": {},
   "outputs": [],
   "source": [
    "# # Set file path for all Data\n",
    "# path = 'C:/J-5 Local SSD/Projects/KKBox Customer Churn/Datasets/'\n",
    "\n",
    "# # Create list of all dataset names\n",
    "# data_list = ['train_v1', 'train_v2', \"transactions_v1\", 'transactions_v2', 'user_logs_v1', 'user_logs_v2', 'members_v3']\n",
    "\n",
    "# for dset in data_list:\n",
    "#     for chunk in pd.read_csv(path+dset+'.csv', chunksize=1000000):\n",
    "#         chunk.to_sql(name=dset, con=cnx, if_exists=\"append\", index=False)  #\"name\" is name of table "
   ]
  },
  {
   "cell_type": "markdown",
   "metadata": {},
   "source": [
    "Now that our datasets are loaded, we will create our Train, Validation, and Test sets respective to their indiviudal months and write them as ***train_jan, valid_feb, test_march.***\n",
    "    \n",
    "By creating these sets in our SQLite Database we avoid having to do this in-memory here in this JupyterNB. Also, this is mainly done to simulate working with a massive dataset stored in a database as is expected to happen in practice. Not toy datasets here :) \n",
    "\n",
    "Let's get started!"
   ]
  },
  {
   "cell_type": "markdown",
   "metadata": {},
   "source": [
    "### - <font color=blue>Build out our Datasets</font> -\n",
    "\n",
    "**How we will build them:**\n",
    "    \n",
    "    1) Get all unique users from transactions v1 and v2 with expirations dates falling within each timeframe.\n",
    "       - Now that we have the basis for each set we will merge continuous merge on msno for each set.\n",
    "\n",
    "    2) Join members_v3 and all sets on msno\n",
    "\n",
    "    3.a) Join train_v1 and train_jan on msno\n",
    "\n",
    "    3.b) Join train_v1 and val_feb on msno \n",
    "\n",
    "    4) Join train_v2 and test_mar on msno\n",
    "\n",
    "This will be all done using SQL commands from this notebook."
   ]
  },
  {
   "cell_type": "markdown",
   "metadata": {},
   "source": [
    "**Build all the basis for all three Main Datasets**"
   ]
  },
  {
   "cell_type": "code",
   "execution_count": 56,
   "metadata": {},
   "outputs": [],
   "source": [
    "# Build all three sets with respect to their respective months and all the users who have Memebership Expirations falling in those months\n",
    "sets = {'train_jan': ['transactions_v1','20170101','20170101'], 'valid_feb': ['transactions_v1','20170201','20170228'], 'test_mar': ['transactions_v2','20170301','20170331']}\n",
    "\n",
    "for setname, info in sets.items():  \n",
    "    cur.execute(f'''CREATE TABLE IF NOT EXISTS {setname} AS\n",
    "                    SELECT *\n",
    "                    FROM {info[0]}\n",
    "                    WHERE membership_expire_date >= {info[1]} AND membership_expire_date <= {info[2]}\n",
    "    ''')\n",
    "    \n",
    "cnx.commit()"
   ]
  },
  {
   "cell_type": "code",
   "execution_count": 4,
   "metadata": {},
   "outputs": [],
   "source": [
    "# Create list of all table names in DB\n",
    "alltable_names = [name[0] for name in cur.execute(\"SELECT name FROM sqlite_master WHERE type='table';\")]\n",
    "\n",
    "# Create a list of all dataset names\n",
    "datasets = alltable_names[-3:]"
   ]
  },
  {
   "cell_type": "markdown",
   "metadata": {},
   "source": [
    "**Index msno columns on all tables**"
   ]
  },
  {
   "cell_type": "code",
   "execution_count": 19,
   "metadata": {},
   "outputs": [
    {
     "name": "stdout",
     "output_type": "stream",
     "text": [
      "train_v1 index created!\n",
      "train_v2 index created!\n",
      "transactions_v1 index created!\n",
      "transactions_v2 index created!\n",
      "user_logs_v1 index created!\n",
      "user_logs_v2 index created!\n",
      "members_v3 index created!\n",
      "train_jan index created!\n",
      "valid_feb index created!\n",
      "test_mar index created!\n"
     ]
    }
   ],
   "source": [
    "# Index msno columns in all tables, to help with performance moving forward\n",
    "for table in alltable_names:\n",
    "    cur.execute(f\"CREATE INDEX IF NOT EXISTS msno_idx ON {table}(msno);\")\n",
    "    cnx.commit\n",
    "    print(f'{table} index created!')\n"
   ]
  },
  {
   "cell_type": "markdown",
   "metadata": {},
   "source": [
    "**Join members_v3 data onto Main Datasets**"
   ]
  },
  {
   "cell_type": "code",
   "execution_count": 36,
   "metadata": {},
   "outputs": [],
   "source": [
    "# Make list of member_v3 columns\n",
    "member_columns = [column[0] for column in cur.execute('select * from members_v3 limit 10').description]\n",
    "member_columns.remove('msno')\n",
    "\n",
    "# Create dictionary of member_columns and their datatypes\n",
    "datatypes = ['INTEGER','INTEGER','TEXT','INTEGER','INTEGER']\n",
    "member_dict = dict(zip(member_columns, datatypes))"
   ]
  },
  {
   "cell_type": "code",
   "execution_count": 34,
   "metadata": {},
   "outputs": [
    {
     "name": "stdout",
     "output_type": "stream",
     "text": [
      "train_jan Columns have been added\n",
      "valid_feb Columns have been added\n",
      "test_mar Columns have been added\n"
     ]
    }
   ],
   "source": [
    "# Create new columns in each Main Dataset to add members_v3 data\n",
    "for dataset in datasets:\n",
    "    for column, coltype in member_dict.items():\n",
    "        cur.execute(f'ALTER TABLE {dataset} ADD COLUMN {column} {coltype};')\n",
    "        cnx.commit()\n",
    "        \n",
    "    print(f'{dataset} Columns have been added')"
   ]
  },
  {
   "cell_type": "code",
   "execution_count": null,
   "metadata": {},
   "outputs": [],
   "source": [
    "# Join members_v3 and all sets on msno\n",
    "for dataset in datasets:\n",
    "    for column, coltype in member_dict.items():\n",
    "        cur.execute(f'UPDATE {dataset} SET {column} = (SELECT {column} FROM members_v3 WHERE msno = {dataset}.msno)')\n",
    "        cnx.commit()\n",
    "    \n",
    "    print(f'{dataset} Has joined successfully')"
   ]
  },
  {
   "cell_type": "markdown",
   "metadata": {},
   "source": [
    "**Join train_v1 and train_v2 onto all Main Datasets**"
   ]
  },
  {
   "cell_type": "code",
   "execution_count": null,
   "metadata": {},
   "outputs": [],
   "source": [
    "# Make list of train_v1/train_v2 columns\n",
    "train_columns = [column[0] for column in cur.execute('select * from train_v1 limit 1').description]\n",
    "train_columns.remove('msno')\n",
    "\n",
    "# Create dictionary of member_columns and their datatypes\n",
    "datatypes = ['INTEGER']\n",
    "train_dict = dict(zip(train_columns, datatypes))"
   ]
  },
  {
   "cell_type": "code",
   "execution_count": null,
   "metadata": {},
   "outputs": [],
   "source": [
    "# Create new columns in each Main Dataset to add train_v1/train_v2 data\n",
    "for dataset in datasets:\n",
    "    for column, coltype in train_dict.items():\n",
    "        cur.execute(f'ALTER TABLE {dataset} ADD COLUMN {column} {coltype};')\n",
    "        cnx.commit()\n",
    "        \n",
    "    print(f'{dataset} Columns have been added')"
   ]
  },
  {
   "cell_type": "code",
   "execution_count": null,
   "metadata": {},
   "outputs": [],
   "source": [
    "# Join train_v1 and train_jan,valid_feb on msno\n",
    "for dataset in datasets[:2]:\n",
    "    for column, coltype in train_dict.items():\n",
    "        cur.execute(f'UPDATE {dataset} SET {column} = (SELECT {column} FROM train_v1 WHERE msno = {dataset}.msno)')\n",
    "        cnx.commit()\n",
    "    \n",
    "    print(f'{dataset} Has joined successfully')\n",
    "\n",
    "# Join train_v2 and test_mmar on msno\n",
    "for dataset in datasets[2]:\n",
    "    for column, coltype in train_dict.items():\n",
    "        cur.execute(f'UPDATE {dataset} SET {column} = (SELECT {column} FROM train_v2 WHERE msno = {dataset}.msno)')\n",
    "        cnx.commit()\n",
    "    \n",
    "    print(f'{dataset} Has joined successfully')"
   ]
  },
  {
   "cell_type": "markdown",
   "metadata": {},
   "source": [
    "### - <font color=blue>Pull Training Data from Database</font> -\n",
    "Our Train"
   ]
  },
  {
   "cell_type": "code",
   "execution_count": 8,
   "metadata": {},
   "outputs": [],
   "source": [
    "# Create Connection to SQLite\n",
    "df = pd.read_sql_query(\"SELECT * FROM train_jan\", cnx)"
   ]
  },
  {
   "cell_type": "markdown",
   "metadata": {},
   "source": [
    "### Clean Data"
   ]
  },
  {
   "cell_type": "markdown",
   "metadata": {},
   "source": [
    "#### - <font color=blue>Detect Missing Values in Dataset</font> -"
   ]
  },
  {
   "cell_type": "code",
   "execution_count": 1,
   "metadata": {},
   "outputs": [
    {
     "ename": "NameError",
     "evalue": "name 'train_jan' is not defined",
     "output_type": "error",
     "traceback": [
      "\u001b[1;31m---------------------------------------------------------------------------\u001b[0m",
      "\u001b[1;31mNameError\u001b[0m                                 Traceback (most recent call last)",
      "\u001b[1;32m<ipython-input-1-1d0c83b91a06>\u001b[0m in \u001b[0;36m<module>\u001b[1;34m\u001b[0m\n\u001b[0;32m      1\u001b[0m \u001b[1;31m# Table of Features and their respective totals percentages of missing data in both Test and Train sets\u001b[0m\u001b[1;33m\u001b[0m\u001b[1;33m\u001b[0m\u001b[1;33m\u001b[0m\u001b[0m\n\u001b[1;32m----> 2\u001b[1;33m \u001b[0mtotal_missing_train\u001b[0m \u001b[1;33m=\u001b[0m \u001b[0mtrain_jan\u001b[0m\u001b[1;33m.\u001b[0m\u001b[0misnull\u001b[0m\u001b[1;33m(\u001b[0m\u001b[1;33m)\u001b[0m\u001b[1;33m.\u001b[0m\u001b[0msum\u001b[0m\u001b[1;33m(\u001b[0m\u001b[1;33m)\u001b[0m\u001b[1;33m.\u001b[0m\u001b[0msort_values\u001b[0m\u001b[1;33m(\u001b[0m\u001b[0mascending\u001b[0m\u001b[1;33m=\u001b[0m\u001b[1;32mFalse\u001b[0m\u001b[1;33m)\u001b[0m\u001b[1;33m\u001b[0m\u001b[1;33m\u001b[0m\u001b[0m\n\u001b[0m\u001b[0;32m      3\u001b[0m \u001b[0mpercent_missing_train\u001b[0m \u001b[1;33m=\u001b[0m \u001b[1;33m(\u001b[0m\u001b[0mtrain_jan\u001b[0m\u001b[1;33m.\u001b[0m\u001b[0misnull\u001b[0m\u001b[1;33m(\u001b[0m\u001b[1;33m)\u001b[0m\u001b[1;33m.\u001b[0m\u001b[0msum\u001b[0m\u001b[1;33m(\u001b[0m\u001b[1;33m)\u001b[0m\u001b[1;33m/\u001b[0m\u001b[0mtrain_jan\u001b[0m\u001b[1;33m.\u001b[0m\u001b[0misnull\u001b[0m\u001b[1;33m(\u001b[0m\u001b[1;33m)\u001b[0m\u001b[1;33m.\u001b[0m\u001b[0mcount\u001b[0m\u001b[1;33m(\u001b[0m\u001b[1;33m)\u001b[0m\u001b[1;33m)\u001b[0m\u001b[1;33m\u001b[0m\u001b[1;33m\u001b[0m\u001b[0m\n\u001b[0;32m      4\u001b[0m \u001b[1;33m\u001b[0m\u001b[0m\n\u001b[0;32m      5\u001b[0m \u001b[0mtotal_missing_valid\u001b[0m \u001b[1;33m=\u001b[0m \u001b[0mvalid_feb\u001b[0m\u001b[1;33m.\u001b[0m\u001b[0misnull\u001b[0m\u001b[1;33m(\u001b[0m\u001b[1;33m)\u001b[0m\u001b[1;33m.\u001b[0m\u001b[0msum\u001b[0m\u001b[1;33m(\u001b[0m\u001b[1;33m)\u001b[0m\u001b[1;33m.\u001b[0m\u001b[0msort_values\u001b[0m\u001b[1;33m(\u001b[0m\u001b[0mascending\u001b[0m\u001b[1;33m=\u001b[0m\u001b[1;32mFalse\u001b[0m\u001b[1;33m)\u001b[0m\u001b[1;33m\u001b[0m\u001b[1;33m\u001b[0m\u001b[0m\n",
      "\u001b[1;31mNameError\u001b[0m: name 'train_jan' is not defined"
     ]
    }
   ],
   "source": [
    "# Table of Features and their respective totals percentages of missing data in both Test and Train sets\n",
    "total_missing_train = train_jan.isnull().sum().sort_values(ascending=False)\n",
    "percent_missing_train = (train_jan.isnull().sum()/train_jan.isnull().count())\n",
    "\n",
    "total_missing_valid = valid_feb.isnull().sum().sort_values(ascending=False)\n",
    "percent_missing_valid = (valid_feb.isnull().sum()/valid_feb.isnull().count())\n",
    "\n",
    "total_missing_test = test_mar.isnull().sum().sort_values(ascending=False)\n",
    "percent_missing_test = (test_mar.isnull().sum()/test_mar.isnull().count())\n",
    "\n",
    "columns = [total_missing_train, percent_missing_train, total_missing_valid, percent_missing_valid, total_missing_test, percent_missing_test]\n",
    "\n",
    "missing_data = pd.concat(columns, axis=1, keys=['Total Missing Train', 'Percent Missing Train', 'Total Missing Validation', 'Percent Missing Validation', 'Total Missing Test', 'Percent Missing Test'], sort=False).sort_values(by='Percent Train',ascending = False)\n",
    "missing_data"
   ]
  },
  {
   "cell_type": "markdown",
   "metadata": {},
   "source": [
    "We notice several things:\n",
    "- Aside from gender all other missing values seem to be in groups. My initial suspicion is that each group is related to the table in which the data was imported from. \n",
    "- When we merged the sets we didnt account for the user's who Churned in train set and is in the Test set. We must remove those.\n",
    "\n",
    "Let's create a Nullity Matrix to get a better sense of these missing values. What are looking for is to get a better sense at which mechanism is at play (MCAR, MAR, or NMAR). Understanding which one is at play gives us insight on how we handle the missing data. Let's dive in.\n",
    "\n",
    "https://medium.com/ibm-data-science-experience/missing-data-conundrum-exploration-and-imputation-techniques-9f40abe0fd87"
   ]
  },
  {
   "cell_type": "code",
   "execution_count": 50,
   "metadata": {},
   "outputs": [],
   "source": [
    "# Convert Train Set into Boolen Values based on whether they are null or not.\n",
    "missingdata_df = train.columns[train.isnull().any()].tolist()"
   ]
  },
  {
   "cell_type": "code",
   "execution_count": 74,
   "metadata": {},
   "outputs": [
    {
     "data": {
      "text/plain": [
       "<matplotlib.axes._subplots.AxesSubplot at 0x1c5f41850f0>"
      ]
     },
     "execution_count": 74,
     "metadata": {},
     "output_type": "execute_result"
    },
    {
     "data": {
      "image/png": "[encoded data removed]",
      "text/plain": [
       "<Figure size 1440x720 with 2 Axes>"
      ]
     },
     "metadata": {
      "needs_background": "light"
     },
     "output_type": "display_data"
    }
   ],
   "source": [
    "# Nullity matrix for missing Train Set value\n",
    "msno.matrix(train[missingdata_df], figsize=(20,10))"
   ]
  },
  {
   "cell_type": "code",
   "execution_count": null,
   "metadata": {},
   "outputs": [],
   "source": [
    "# check data types and make sure they are correct\n",
    "\n"
   ]
  },
  {
   "cell_type": "code",
   "execution_count": 89,
   "metadata": {},
   "outputs": [
    {
     "name": "stdout",
     "output_type": "stream",
     "text": [
      "These are the problematic values for the variable: num_25_sum\n"
     ]
    }
   ],
   "source": [
    "# print all values that cannot be converted to float\n",
    "for column_name in [\"num_25_sum\"]:\n",
    "    print(f\"These are the problematic values for the variable: {column_name}\")\n",
    "    for value in train[column_name]:\n",
    "        try:\n",
    "            float(value)\n",
    "        except:\n",
    "            print(value)"
   ]
  },
  {
   "cell_type": "code",
   "execution_count": null,
   "metadata": {},
   "outputs": [],
   "source": [
    "# inspect rows where num_25_sum, ... are null\n",
    "\n"
   ]
  },
  {
   "cell_type": "code",
   "execution_count": null,
   "metadata": {},
   "outputs": [],
   "source": []
  },
  {
   "cell_type": "code",
   "execution_count": null,
   "metadata": {},
   "outputs": [],
   "source": []
  },
  {
   "cell_type": "markdown",
   "metadata": {},
   "source": [
    "#### - <font color=blue>Handle Missing Values in Dataset</font> -"
   ]
  },
  {
   "cell_type": "markdown",
   "metadata": {},
   "source": [
    "We have 5 features that seem to be missing a significant chunk of data. Of the 5, 4 of these features seem to be missing the same exact amount of data. Since I am not in contact with the KKBox to futher investigate this issue I will be dropping these 5 features as any sort of \"naive\" Imputation or Interpolation would be irresponsible. "
   ]
  },
  {
   "cell_type": "markdown",
   "metadata": {},
   "source": [
    "Although I am curious what would happen if we added fillers for the missing values:\n",
    "- Run initial model with features removed\n",
    "- Then set missing data to -99, run Random Forest. Only works with RF"
   ]
  },
  {
   "cell_type": "code",
   "execution_count": null,
   "metadata": {},
   "outputs": [],
   "source": [
    "# Remove any column above threshold of missing values, Make a Copy\n",
    "train = train.drop(columns=train.columns[train.isnull().sum() / train.shape[0] > .1], axis=1)\n",
    "test = test.drop(columns=test.columns[test.isnull().sum() / test.shape[0] > .1], axis=1)"
   ]
  },
  {
   "cell_type": "code",
   "execution_count": null,
   "metadata": {},
   "outputs": [],
   "source": [
    "# Remove any column above threshold of missing values, Make a Copy\n",
    "train = train.drop(columns=train.columns[train.isnull().sum() / train.shape[0] > .1], axis=1)\n",
    "test = test.drop(columns=test.columns[test.isnull().sum() / test.shape[0] > .1], axis=1)"
   ]
  },
  {
   "cell_type": "markdown",
   "metadata": {},
   "source": [
    "### Exploratory Data Analysis"
   ]
  },
  {
   "cell_type": "markdown",
   "metadata": {},
   "source": [
    "As we are dealing with and extremely large datasets and we are provided with both a Train and a Test set already. Each of which have roughly 1,000,000 observations.\n",
    "In light of this we will be performing EDA on both sets. The test set will purely be used to understand the relationship between the two. The test set WILL NOT be used for Modeling and Training purposes. Here is the overall structure on how we approach this projected.\n",
    "\n",
    "As this is real company data I want to make this analysis as authentic as possible. It also important to note that since we are dealing with ~1,000,000 observations we may need to take a statified subset of our training data in improve performance on visualizations.\n",
    "\n",
    "***Data Split Strategy***\n",
    "- ~20-30% Stratified Sampling on Train Set for EDA\n",
    "- 50/50 Split on Train set for Feature Selection, Modeling Decisions, and Model Training and Tuning\n",
    "- Validation Set for validation\n",
    "- Test Set for testing"
   ]
  },
  {
   "cell_type": "markdown",
   "metadata": {},
   "source": [
    "#### - <font color=blue>Create Stratified Sampled EDA Train Set</font> -"
   ]
  },
  {
   "cell_type": "code",
   "execution_count": 44,
   "metadata": {},
   "outputs": [],
   "source": [
    "# Specificy X and y\n",
    "y = train['is_churn']\n",
    "X = train.drop('is_churn', axis=1)"
   ]
  },
  {
   "cell_type": "code",
   "execution_count": 47,
   "metadata": {},
   "outputs": [],
   "source": [
    "# Split into train and test\n",
    "from sklearn.model_selection import train_test_split\n",
    "X_train, X_test, y_train, y_test = train_test_split(X, y, test_size=0.3, stratify=y)"
   ]
  },
  {
   "cell_type": "code",
   "execution_count": null,
   "metadata": {},
   "outputs": [],
   "source": [
    "# Merge X_train and X_test into a single train set\n",
    "train_strat = pd.concat([X_train,y_train], axis=1)\n",
    "train_strat.shape()"
   ]
  },
  {
   "cell_type": "markdown",
   "metadata": {},
   "source": [
    "#### - <font color=blue>Split Feautres by Categorical or Continuous</font> -"
   ]
  },
  {
   "cell_type": "code",
   "execution_count": null,
   "metadata": {},
   "outputs": [],
   "source": [
    "# Split features into respective groups to make EDA and Transformations Easier\n",
    "date_feats = ['transaction_date', 'membership_expire_date']\n",
    "cont_feats = ['num_25', 'num_50','num_75', 'num_985', 'num_100', 'num_unq', 'total_secs','payment_method_id','plan_list_price', 'actual_amount_paid', 'payment_plan_days']\n",
    "cat_feats = ['is_cancel', 'is_auto_renew', 'payment_method_id']"
   ]
  },
  {
   "cell_type": "code",
   "execution_count": null,
   "metadata": {},
   "outputs": [],
   "source": [
    "# Split features into respective groups to make EDA and Transformations Easier\n",
    "date_feats = ['transaction_date', 'membership_expire_date']\n",
    "cont_feats = ['payment_method_id','plan_list_price', 'actual_amount_paid', 'payment_plan_days']\n",
    "cat_feats = ['is_cancel', 'is_auto_renew', 'payment_method_id']"
   ]
  },
  {
   "cell_type": "markdown",
   "metadata": {},
   "source": [
    "#### - <font color=blue>Inspect Target Variable</font> -"
   ]
  },
  {
   "cell_type": "code",
   "execution_count": null,
   "metadata": {},
   "outputs": [],
   "source": [
    "# Print out Binary counts and their relative frequency\n",
    "totals = train_strat['is_churn'].value_counts() \n",
    "relative = train_strat['is_churn'].value_counts() / train_strat['is_churn'].value_counts().sum()\n",
    "\n",
    "pd.concat([totals, relative], axis=1, keys=['Total Count', 'Relative %'])"
   ]
  },
  {
   "cell_type": "markdown",
   "metadata": {},
   "source": [
    "We can see that there is clear and large class imbalance between users who churn and those which do not. Although we will continue the EDA phase with this data so we can be true with the 'population, we will need to consider an even resampling of our data when it comes to Parameter Tuning and Model Training. This large of a class imbalance may drown out what makes a customer churn and thus defeat the purpose of this analysis."
   ]
  },
  {
   "cell_type": "markdown",
   "metadata": {},
   "source": [
    "#### - <font color=blue>Continuous Feature Univariate Analysis</font> -"
   ]
  },
  {
   "cell_type": "markdown",
   "metadata": {},
   "source": [
    "First we will start of by inspecting each continuous features individually to get a sense of its distribution. Then we will compare these features against our Target Variable to see if we can uncover any insights on relationships"
   ]
  },
  {
   "cell_type": "code",
   "execution_count": null,
   "metadata": {},
   "outputs": [],
   "source": [
    "# Display Histogram for each Continuous Feature\n",
    "plt.figure(figsize=(20,40))\n",
    "for index, column in enumerate(cont_feats):\n",
    "    plt.subplot(11,4,index+1)\n",
    "    plt.hist(train_strat[column], bins=150)\n",
    "    plt.title(f\"{column} Distribution\")\n",
    "    plt.xlabel(f'{column}')\n",
    "    plt.xticks(rotation='vertical')\n",
    "\n",
    "plt.tight_layout()\n",
    "plt.show()"
   ]
  },
  {
   "cell_type": "markdown",
   "metadata": {},
   "source": [
    "Many of these distributions are significantly skewed and I am suspecting that we will see a considerable amount of outliers. Let's Calculate a 5-Number Summary to get a better sense of the distribution."
   ]
  },
  {
   "cell_type": "code",
   "execution_count": null,
   "metadata": {},
   "outputs": [],
   "source": [
    "# Calculate a 5-Number summary for each Continuous Varaible\n",
    "train_strat[cont_feats].describe()"
   ]
  },
  {
   "cell_type": "markdown",
   "metadata": {},
   "source": [
    "As expected we can see that outliers are present in many of our skewed distributions. Lets look at these features in comparison with are Target Variable."
   ]
  },
  {
   "cell_type": "markdown",
   "metadata": {},
   "source": [
    "#### - <font color=blue>Target Variable vs Continuous Features</font> -"
   ]
  },
  {
   "cell_type": "code",
   "execution_count": null,
   "metadata": {},
   "outputs": [],
   "source": [
    "plt.figure(figsize=(20,40))\n",
    "\n",
    "for index, column in enumerate(cont_feats):\n",
    "    plt.subplot(11,4,index+1)\n",
    "    sns.boxplot(train_strat['is_churn'],train_strat[column])\n",
    "    plt.title(f\"Customer Churn vs {column}\")\n",
    "    plt.ylabel(column)\n",
    "    plt.xlabel('Customer Churn')\n",
    "    plt.xticks(rotation='vertical')\n",
    "\n",
    "plt.tight_layout()\n",
    "plt.show()"
   ]
  },
  {
   "cell_type": "markdown",
   "metadata": {},
   "source": [
    "Originially I felt that our data might contain a lot of outliers. However, n second thought I do not think these are outliers. Based on 'how many' and 'how close' these visual outliers are, we could very well be looking at exponential distribution with very long tails.\n",
    "\n",
    "Let's leave these distributions as-is for a baseline of our model and then we will consider transformation if necessary."
   ]
  },
  {
   "cell_type": "markdown",
   "metadata": {},
   "source": [
    "#### - <font color=blue>Categorical Feature Univariate Analysis</font> -"
   ]
  },
  {
   "cell_type": "code",
   "execution_count": null,
   "metadata": {},
   "outputs": [],
   "source": [
    "plt.figure(figsize=(20,40))\n",
    "\n",
    "for index, column in enumerate(cat_feats):\n",
    "    plt.subplot(11,4,index+1)\n",
    "    \n",
    "    # bar chart of a categorical column\n",
    "    plt.bar(train_strat.groupby(column)[column].count().index, train_strat.groupby(column)[column].count(), \n",
    "             color=[\"red\",\"green\",\"blue\",\"grey\",\"pink\"])\n",
    "    plt.title(f\"{column} Bar Plot\")\n",
    "    plt.ylabel('Count')\n",
    "    plt.xlabel(column)\n",
    "    plt.xticks(rotation='vertical')\n",
    "\n",
    "plt.tight_layout()\n",
    "plt.show()"
   ]
  },
  {
   "cell_type": "code",
   "execution_count": null,
   "metadata": {},
   "outputs": [],
   "source": [
    "print(stats.chisquare(count_table, axis=None))"
   ]
  },
  {
   "cell_type": "markdown",
   "metadata": {},
   "source": [
    "#### - <font color=blue>Target Variable vs Categorical Features</font> -"
   ]
  },
  {
   "cell_type": "code",
   "execution_count": null,
   "metadata": {},
   "outputs": [],
   "source": [
    "# create crosstab: gender by race/ethnicity\n",
    "for feature in cat_feats:\n",
    "    print(f'''\n",
    "Customer Churn vs {feature}\n",
    "{pd.crosstab(train_strat[\"is_churn\"], train[feature])}\n",
    "''')"
   ]
  },
  {
   "cell_type": "code",
   "execution_count": null,
   "metadata": {},
   "outputs": [],
   "source": [
    "# Plot counts for each combination of levels.\n",
    "plt.figure(figsize=(20,40))\n",
    "\n",
    "for index, column in enumerate(cat_feats):\n",
    "    plt.subplot(11,4,index+1)\n",
    "    sns.countplot(x=column, hue=\"is_churn\", data=train_strat, palette=\"Greens_d\")\n",
    "    plt.title(f\"Customer Churn vs {column}\")\n",
    "    plt.ylabel('Count')\n",
    "    plt.xlabel(column)\n",
    "    plt.xticks(rotation='vertical')\n",
    "\n",
    "plt.tight_layout()\n",
    "plt.show()"
   ]
  },
  {
   "cell_type": "code",
   "execution_count": null,
   "metadata": {},
   "outputs": [],
   "source": [
    "# Conduct Chi-square Test of Independence.\n",
    "# Does user churn affect the probability of being part of a specific category\n",
    "# Ho: Categories are not Independent\n",
    "from scipy.stats import chi2_contingency\n",
    "import numpy as np\n",
    "\n",
    "# Create Contingency Table and Run test\n",
    "for feature in cat_feats:\n",
    "    obs = np.array([train_strat['is_churn'], train_strat[feature]])\n",
    "    chi2, p, dof, expected = chi2_contingency(obs)\n",
    "    \n",
    "    print(f'''\n",
    "    Chi-Square ToI: is_churn vs {feature}\n",
    "    chisquare stat = {chi2}\n",
    "    p-Value = {p}\n",
    "    Deg. of freedom = {dof}\n",
    "    expected frequencies = {expected}''')"
   ]
  },
  {
   "cell_type": "markdown",
   "metadata": {},
   "source": [
    "### Feature Creation"
   ]
  },
  {
   "cell_type": "markdown",
   "metadata": {},
   "source": [
    "If we read through the description of each feature, we can get creative and create some new features that may be of use."
   ]
  },
  {
   "cell_type": "markdown",
   "metadata": {},
   "source": [
    "You can create more features from this processed user_logs file:\n",
    "\n",
    "    Mean/median/standard_dev for each column.\n",
    "    Number of completed songs against incomplete songs\n",
    "    Duration of membership\n",
    "    Number of repeated songs\n",
    "    Number of times user has logged on\n"
   ]
  },
  {
   "cell_type": "code",
   "execution_count": null,
   "metadata": {},
   "outputs": [],
   "source": [
    "# Create empty lists to store new feature names\n",
    "new_cont = []\n",
    "new_cat = []"
   ]
  },
  {
   "cell_type": "markdown",
   "metadata": {},
   "source": [
    "#### - <font color=blue> New Features from SQL Database </font> -"
   ]
  },
  {
   "cell_type": "code",
   "execution_count": null,
   "metadata": {},
   "outputs": [],
   "source": []
  },
  {
   "cell_type": "code",
   "execution_count": null,
   "metadata": {},
   "outputs": [],
   "source": [
    "country_table = pd.read_sql_query(\"SELECT * FROM Country\", con)"
   ]
  },
  {
   "cell_type": "markdown",
   "metadata": {},
   "source": [
    "#### - <font color=blue> New Features from Training Set </font> -"
   ]
  },
  {
   "cell_type": "markdown",
   "metadata": {},
   "source": [
    "**discount**: a column to see how much discount was offered to the customer."
   ]
  },
  {
   "cell_type": "code",
   "execution_count": null,
   "metadata": {},
   "outputs": [],
   "source": [
    "train_strat['discount'] = train_strat['plan_list_price'] - train_strat['actual_amount_paid']\n",
    "new_cont.append('discount')"
   ]
  },
  {
   "cell_type": "markdown",
   "metadata": {},
   "source": [
    "**is_discount**: a column to see if a discount was offered to the customer."
   ]
  },
  {
   "cell_type": "code",
   "execution_count": null,
   "metadata": {},
   "outputs": [],
   "source": [
    "train_strat['is_discount'] = train_strat['discount'].apply(lambda x: 1 if x > 0 else 0).astype(np.int8)\n",
    "new_cat.append('is_discount')"
   ]
  },
  {
   "cell_type": "markdown",
   "metadata": {},
   "source": [
    "**autorenew_&_not_cancel**: A binary feature to see whether members have auto renewed and not cancelled at the same time."
   ]
  },
  {
   "cell_type": "code",
   "execution_count": null,
   "metadata": {},
   "outputs": [],
   "source": [
    "train_strat['Autorenew_&_notCancel'] = ((train_strat['is_auto_renew'] == 1) == (train_strat['is_cancel'] == 0)).astype(np.int8)\n",
    "new_cat.append('Autorenew_&_notCancel')"
   ]
  },
  {
   "cell_type": "markdown",
   "metadata": {},
   "source": [
    "**notAutorenew_&_cancel**: A binary feature to see whether members have NOT auto renewed and cancelled at the same time."
   ]
  },
  {
   "cell_type": "code",
   "execution_count": null,
   "metadata": {},
   "outputs": [],
   "source": [
    "train_strat['notAutorenew_&_cancel'] = ((train_strat['is_auto_renew'] == 0) == (train_strat['is_cancel'] == 1)).astype(np.int8)\n",
    "new_cat.append('notAutorenew_&_cancel')"
   ]
  },
  {
   "cell_type": "markdown",
   "metadata": {},
   "source": [
    "**membership_duration**: How long is left on their current membership after the most recent transaction."
   ]
  },
  {
   "cell_type": "code",
   "execution_count": null,
   "metadata": {},
   "outputs": [],
   "source": [
    "# difference in days\n",
    "train_strat['membership_duration_remain'] = train_strat['membership_expire_date'] - train_strat['transaction_date']\n",
    "train_strat['membership_duration_remain'] = (train_strat['membership_duration_remain'] / np.timedelta64(1, 'D')).astype(int)\n",
    "new_cont.append('membership_duration_remain')"
   ]
  },
  {
   "cell_type": "markdown",
   "metadata": {},
   "source": [
    "#### - <font color=blue> NEW Continuous Feature Univariate Analysis</font> -"
   ]
  },
  {
   "cell_type": "code",
   "execution_count": null,
   "metadata": {},
   "outputs": [],
   "source": [
    "# Display Histogram for each Continuous Feature\n",
    "plt.figure(figsize=(20,40))\n",
    "for index, column in enumerate(new_cont):\n",
    "    plt.subplot(11,4,index+1)\n",
    "    plt.hist(train_strat[column], bins=100)\n",
    "    plt.title(f\"{column} Distribution\")\n",
    "    plt.xlabel(f'{column}')\n",
    "    plt.xticks(rotation='vertical')\n",
    "\n",
    "plt.tight_layout()\n",
    "plt.show()"
   ]
  },
  {
   "cell_type": "markdown",
   "metadata": {},
   "source": [
    "#### - <font color=blue>Target Variable vs NEW Continuous Features</font> -"
   ]
  },
  {
   "cell_type": "code",
   "execution_count": null,
   "metadata": {},
   "outputs": [],
   "source": [
    "plt.figure(figsize=(20,40))\n",
    "\n",
    "for index, column in enumerate(new_cont):\n",
    "    plt.subplot(11,4,index+1)\n",
    "    sns.boxplot(train_strat['is_churn'],train_strat[column])\n",
    "    plt.title(f\"Customer Churn vs {column}\")\n",
    "    plt.ylabel(column)\n",
    "    plt.xlabel('Customer Churn')\n",
    "    plt.xticks(rotation='vertical')\n",
    "\n",
    "plt.tight_layout()\n",
    "plt.show()"
   ]
  },
  {
   "cell_type": "markdown",
   "metadata": {},
   "source": [
    "#### - <font color=blue>NEW Categorical Feature Univariate Analysis</font> -"
   ]
  },
  {
   "cell_type": "code",
   "execution_count": null,
   "metadata": {},
   "outputs": [],
   "source": [
    "plt.figure(figsize=(20,40))\n",
    "\n",
    "for index, column in enumerate(new_cat):\n",
    "    plt.subplot(11,4,index+1)\n",
    "    \n",
    "    # bar chart of a categorical column\n",
    "    plt.bar(train_strat.groupby(column)[column].count().index, train_strat.groupby(column)[column].count(), \n",
    "             color=[\"red\",\"green\",\"blue\",\"grey\",\"pink\"])\n",
    "    plt.title(f\"{column} Bar Plot\")\n",
    "    plt.ylabel('Count')\n",
    "    plt.xlabel(column)\n",
    "    plt.xticks(rotation='vertical')\n",
    "\n",
    "plt.tight_layout()\n",
    "plt.show()"
   ]
  },
  {
   "cell_type": "markdown",
   "metadata": {},
   "source": [
    "#### - <font color=blue>Target Variable vs NEW Categorical Features</font> -"
   ]
  },
  {
   "cell_type": "code",
   "execution_count": null,
   "metadata": {},
   "outputs": [],
   "source": [
    "# Plot counts for each combination of levels.\n",
    "plt.figure(figsize=(20,40))\n",
    "\n",
    "for index, column in enumerate(new_cat):\n",
    "    plt.subplot(11,4,index+1)\n",
    "    sns.countplot(x=column, hue=\"is_churn\", data=train_strat, palette=\"Greens_d\")\n",
    "    plt.title(f\"Customer Churn vs {column}\")\n",
    "    plt.ylabel('Count')\n",
    "    plt.xlabel(column)\n",
    "    plt.xticks(rotation='vertical')\n",
    "\n",
    "plt.tight_layout()\n",
    "plt.show()"
   ]
  },
  {
   "cell_type": "markdown",
   "metadata": {},
   "source": [
    "#### - <font color=red>How can I interpret these???</font> -\n"
   ]
  },
  {
   "cell_type": "markdown",
   "metadata": {},
   "source": [
    "### Feature Selection"
   ]
  },
  {
   "cell_type": "markdown",
   "metadata": {},
   "source": [
    "#### - <font color=blue>Data Pre-Processing</font> -"
   ]
  },
  {
   "cell_type": "markdown",
   "metadata": {},
   "source": [
    "First we will need to add our new features to the parent dataset. Once we do this we will need to split our data into a balanced sample set. We will use this dataset for Feature Selection, Modeling Decisions, and Model Training."
   ]
  },
  {
   "cell_type": "code",
   "execution_count": null,
   "metadata": {},
   "outputs": [],
   "source": [
    "# add discount feature to Train and Test parent datasets\n",
    "train['discount'] = train['plan_list_price'] - train['actual_amount_paid']\n",
    "test['discount'] = test['plan_list_price'] - test['actual_amount_paid']\n",
    "\n",
    "# add is_discount feature to parent dataset\n",
    "train['is_discount'] = train['discount'].apply(lambda x: 1 if x > 0 else 0).astype(np.int8)\n",
    "test['is_discount'] = test['discount'].apply(lambda x: 1 if x > 0 else 0).astype(np.int8)\n",
    "\n",
    "# add autorenew_&notcancel feature to parent dataset\n",
    "train['Autorenew_&_notCancel'] = ((train['is_auto_renew'] == 1) == (train['is_cancel'] == 0)).astype(np.int8)\n",
    "test['Autorenew_&_notCancel'] = ((test['is_auto_renew'] == 1) == (test['is_cancel'] == 0)).astype(np.int8)\n",
    "\n",
    "# add notAutorenew_&_cancel feature to parent dataset\n",
    "train['notAutorenew_&_cancel'] = ((train['is_auto_renew'] == 0) == (train['is_cancel'] == 1)).astype(np.int8)\n",
    "test['notAutorenew_&_cancel'] = ((test['is_auto_renew'] == 0) == (test['is_cancel'] == 1)).astype(np.int8)\n",
    "\n",
    "# add membership_duration_remain feature to parent dataset\n",
    "train['membership_duration_remain'] = train['membership_expire_date'] - train['transaction_date']\n",
    "train['membership_duration_remain'] = (train['membership_duration_remain'] / np.timedelta64(1, 'D')).astype(int)\n",
    "test['membership_duration_remain'] = test['membership_expire_date'] - test['transaction_date']\n",
    "test['membership_duration_remain'] = (test['membership_duration_remain'] / np.timedelta64(1, 'D')).astype(int)\n",
    "\n",
    "\n",
    "# Add Continuous Columns names to cont_feats list\n",
    "cont_feats.append('discount')\n",
    "cont_feats.append('membership_duration_remain')\n",
    "\n",
    "# Add Continuous Columns names to cat_feats list\n",
    "cat_feats.append('is_discount')\n",
    "cat_feats.append('Autorenew_&_notCancel')\n",
    "cat_feats.append('notAutorenew_&_cancel')"
   ]
  },
  {
   "cell_type": "code",
   "execution_count": null,
   "metadata": {},
   "outputs": [],
   "source": [
    "# Create balanced dataset with equal samples of our Target Variable\n",
    "from sklearn.utils import resample\n",
    "\n",
    "# Separate train set via is_churn = 0 and 1\n",
    "train_churn_0 = train[train['is_churn']==0]\n",
    "train_churn_1 = train[train['is_churn']==1]\n",
    " \n",
    "# Sample when is_churn = 0\n",
    "train_churn_0 = resample(train_churn_0, \n",
    "                         replace=False,     # sample without replacement\n",
    "                         n_samples=10000)    # to match majority class\n",
    "\n",
    "# Sample when is_churn = 1\n",
    "train_churn_1 = resample(train_churn_1, \n",
    "                         replace=False,     # sample without replacement\n",
    "                         n_samples=10000)    # to match majority class\n",
    " \n",
    "# Combine both sample sets to make one large 50/50 split\n",
    "train_churn_5050 = pd.concat([train_churn_0, train_churn_1])\n",
    " \n",
    "# Display new class counts to check \n",
    "train_churn_5050['is_churn'].value_counts()"
   ]
  },
  {
   "cell_type": "markdown",
   "metadata": {},
   "source": [
    "#### - <font color=blue>Feature Selection</font> -"
   ]
  },
  {
   "cell_type": "markdown",
   "metadata": {},
   "source": [
    "1) Drop highly correlated continuous features.\n",
    "- Inspect via correlation and heatmap"
   ]
  },
  {
   "cell_type": "markdown",
   "metadata": {},
   "source": [
    "### Model Pre-Processing"
   ]
  },
  {
   "cell_type": "markdown",
   "metadata": {},
   "source": [
    "#### - <font color=blue>Train Test Split</font> -"
   ]
  },
  {
   "cell_type": "code",
   "execution_count": null,
   "metadata": {},
   "outputs": [],
   "source": [
    "# Splitting the dataset into the Training set and Test set\n",
    "from sklearn.model_selection import train_test_split\n",
    "X_train, X_test, y_train, y_test = train_test_split(X, y, test_size = 0.2)"
   ]
  },
  {
   "cell_type": "markdown",
   "metadata": {},
   "source": [
    "#### - <font color=blue>Feature Scaling</font> -"
   ]
  },
  {
   "cell_type": "code",
   "execution_count": null,
   "metadata": {},
   "outputs": [],
   "source": [
    "Scale all features"
   ]
  },
  {
   "cell_type": "code",
   "execution_count": null,
   "metadata": {},
   "outputs": [],
   "source": []
  },
  {
   "cell_type": "markdown",
   "metadata": {},
   "source": [
    "----"
   ]
  }
 ],
 "metadata": {
  "kernelspec": {
   "display_name": "Python 3",
   "language": "python",
   "name": "python3"
  },
  "language_info": {
   "codemirror_mode": {
    "name": "ipython",
    "version": 3
   },
   "file_extension": ".py",
   "mimetype": "text/x-python",
   "name": "python",
   "nbconvert_exporter": "python",
   "pygments_lexer": "ipython3",
   "version": "3.7.3"
  }
 },
 "nbformat": 4,
 "nbformat_minor": 4
}
