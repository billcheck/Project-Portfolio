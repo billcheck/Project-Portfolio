{
 "cells": [
  {
   "cell_type": "markdown",
   "metadata": {},
   "source": [
    "# KKBox Customer Churn Prediction\n",
    "### w/ XGBOOST"
   ]
  },
  {
   "cell_type": "markdown",
   "metadata": {},
   "source": [
    "---"
   ]
  },
  {
   "cell_type": "markdown",
   "metadata": {},
   "source": [
    "# Part III: <font color=green>*Model Creation and Evaluation*</font>\n",
    "Please refer to the following article for a comprehensive review of the project: XXXXXX"
   ]
  },
  {
   "cell_type": "markdown",
   "metadata": {},
   "source": [
    "---"
   ]
  },
  {
   "cell_type": "code",
   "execution_count": 1,
   "metadata": {},
   "outputs": [],
   "source": [
    "# General Imports\n",
    "from __future__ import absolute_import\n",
    "import pandas as pd\n",
    "import numpy as np\n",
    "import matplotlib.pyplot as plt\n",
    "%matplotlib inline\n",
    "import seaborn as sns\n",
    "from scipy import stats\n",
    "import warnings\n",
    "warnings.filterwarnings('ignore')\n",
    "import time \n",
    "\n",
    "# General Imports\n",
    "from sklearn import preprocessing\n",
    "from sklearn.preprocessing import StandardScaler\n",
    "from sklearn.ensemble import GradientBoostingClassifier\n",
    "from xgboost import XGBClassifier\n",
    "from sklearn.ensemble import RandomForestClassifier\n",
    "from sklearn.feature_selection import RFE, RFECV\n",
    "from sklearn.metrics import confusion_matrix, roc_curve, auc\n",
    "from sklearn.model_selection import RandomizedSearchCV, GridSearchCV"
   ]
  },
  {
   "cell_type": "markdown",
   "metadata": {},
   "source": [
    "## Import Data"
   ]
  },
  {
   "cell_type": "code",
   "execution_count": 2,
   "metadata": {},
   "outputs": [],
   "source": [
    "## Working Locally\n",
    "\n",
    "# Import Subsamples\n",
    "DRV_Jan2016_1to1 = pd.read_csv('D:\\J-5 Local\\DRV_Jan2016_1to1_clust')\n",
    "DRV_Jan2016_3to1 = pd.read_csv('D:\\J-5 Local\\DRV_Jan2016_3to1_clust')\n",
    "DRV_Jan2016_5to1 = pd.read_csv('D:\\J-5 Local\\DRV_Jan2016_5to1_clust')\n",
    "DRV_Jan2016_7to1 = pd.read_csv('D:\\J-5 Local\\DRV_Jan2016_7to1_clust')\n",
    "DRV_Jan2016_9to1 = pd.read_csv('D:\\J-5 Local\\DRV_Jan2016_9to1_clust')\n",
    "DRV_Jan2016_11to1 = pd.read_csv('D:\\J-5 Local\\DRV_Jan2016_11to1_clust')\n",
    "DRV_Jan2016_13to1 = pd.read_csv('D:\\J-5 Local\\DRV_Jan2016_13to1_clust')\n",
    "\n",
    "# Import Main Sets\n",
    "DRV_Jan2016 = pd.read_csv('D:\\J-5 Local\\DRV_Jan2016_With_Cluster')\n",
    "\n",
    "# Import DRV_Feb2016 (Validation Set) \n",
    "DRV_Feb2016 = pd.read_csv('D:\\J-5 Local\\DRV_Feb2016_With_Cluster')"
   ]
  },
  {
   "cell_type": "markdown",
   "metadata": {},
   "source": [
    "## Model Pre-Processing"
   ]
  },
  {
   "cell_type": "markdown",
   "metadata": {},
   "source": [
    "### - <font color=blue>Data Pre-Processing</font> -"
   ]
  },
  {
   "cell_type": "markdown",
   "metadata": {},
   "source": [
    "#### <font color=purple>*Split Feautres by Categorical or Continuous*</font> -"
   ]
  },
  {
   "cell_type": "code",
   "execution_count": 3,
   "metadata": {},
   "outputs": [],
   "source": [
    "# Create list of Categorical feature names\n",
    "cat_feats = ['is_auto_renew', 'total_spent_zero', 'city_agg', 'payment_method_agg', 'never_active_subscriber', 'Cluster']"
   ]
  },
  {
   "cell_type": "markdown",
   "metadata": {},
   "source": [
    "#### <font color=purple>*Initial Feature Selection*</font>"
   ]
  },
  {
   "cell_type": "code",
   "execution_count": 4,
   "metadata": {},
   "outputs": [],
   "source": [
    "# Drop all un-needed columns\n",
    "DRV_Jan2016 = DRV_Jan2016.drop(['Unnamed: 0', 'msno', 'membership_expire_date', 'is_net_paid_amount', 'registration_init_time','registration_init_time',\n",
    "                          'city','bd','payment_method_id','registered_via'], axis=1)\n",
    "DRV_Feb2016 = DRV_Feb2016.drop(['Unnamed: 0', 'msno', 'membership_expire_date', 'is_net_paid_amount', 'registration_init_time','registration_init_time',\n",
    "                          'city','bd','payment_method_id','registered_via'], axis=1)\n",
    "\n",
    "DRV_Jan2016_1to1 = DRV_Jan2016_1to1.drop(['Unnamed: 0', 'msno', 'membership_expire_date', 'is_net_paid_amount', 'registration_init_time','registration_init_time',\n",
    "                          'city','bd','payment_method_id','registered_via'], axis=1)\n",
    "DRV_Jan2016_3to1 = DRV_Jan2016_3to1.drop(['Unnamed: 0', 'msno', 'membership_expire_date', 'is_net_paid_amount', 'registration_init_time','registration_init_time',\n",
    "                          'city','bd','payment_method_id','registered_via'], axis=1)\n",
    "DRV_Jan2016_5to1 = DRV_Jan2016_5to1.drop(['Unnamed: 0', 'msno', 'membership_expire_date', 'is_net_paid_amount', 'registration_init_time','registration_init_time',\n",
    "                          'city','bd','payment_method_id','registered_via'], axis=1)\n",
    "DRV_Jan2016_7to1 = DRV_Jan2016_7to1.drop(['Unnamed: 0', 'msno', 'membership_expire_date', 'is_net_paid_amount', 'registration_init_time','registration_init_time',\n",
    "                          'city','bd','payment_method_id','registered_via'], axis=1)\n",
    "DRV_Jan2016_9to1 = DRV_Jan2016_9to1.drop(['Unnamed: 0', 'msno', 'membership_expire_date', 'is_net_paid_amount', 'registration_init_time','registration_init_time',\n",
    "                          'city','bd','payment_method_id','registered_via'], axis=1)\n",
    "DRV_Jan2016_11to1 = DRV_Jan2016_11to1.drop(['Unnamed: 0', 'msno', 'membership_expire_date', 'is_net_paid_amount', 'registration_init_time','registration_init_time',\n",
    "                          'city','bd','payment_method_id','registered_via'], axis=1)\n",
    "DRV_Jan2016_13to1 = DRV_Jan2016_13to1.drop(['Unnamed: 0', 'msno', 'membership_expire_date', 'is_net_paid_amount', 'registration_init_time','registration_init_time',\n",
    "                          'city','bd','payment_method_id','registered_via'], axis=1)"
   ]
  },
  {
   "cell_type": "markdown",
   "metadata": {},
   "source": [
    "#### <font color=purple>*Encode Categorical Variables*</font>"
   ]
  },
  {
   "cell_type": "code",
   "execution_count": 5,
   "metadata": {},
   "outputs": [],
   "source": [
    "# Encoded all categoricals\n",
    "DRV_Jan2016 = pd.get_dummies(DRV_Jan2016, prefix=cat_feats, columns=cat_feats, drop_first=True)\n",
    "DRV_Feb2016 = pd.get_dummies(DRV_Feb2016, prefix=cat_feats, columns=cat_feats, drop_first=True)\n",
    "\n",
    "DRV_Jan2016_1to1 = pd.get_dummies(DRV_Jan2016_1to1, prefix=cat_feats, columns=cat_feats, drop_first=True)\n",
    "DRV_Jan2016_3to1 = pd.get_dummies(DRV_Jan2016_3to1, prefix=cat_feats, columns=cat_feats, drop_first=True)\n",
    "DRV_Jan2016_5to1 = pd.get_dummies(DRV_Jan2016_5to1, prefix=cat_feats, columns=cat_feats, drop_first=True)\n",
    "DRV_Jan2016_7to1 = pd.get_dummies(DRV_Jan2016_7to1, prefix=cat_feats, columns=cat_feats, drop_first=True)\n",
    "DRV_Jan2016_9to1 = pd.get_dummies(DRV_Jan2016_9to1, prefix=cat_feats, columns=cat_feats, drop_first=True)\n",
    "DRV_Jan2016_11to1 = pd.get_dummies(DRV_Jan2016_11to1, prefix=cat_feats, columns=cat_feats, drop_first=True)\n",
    "DRV_Jan2016_13to1 = pd.get_dummies(DRV_Jan2016_13to1, prefix=cat_feats, columns=cat_feats, drop_first=True)"
   ]
  },
  {
   "cell_type": "markdown",
   "metadata": {},
   "source": [
    "#### <font color=purple>*Feature Scaling*</font>"
   ]
  },
  {
   "cell_type": "code",
   "execution_count": 6,
   "metadata": {},
   "outputs": [],
   "source": [
    "# Instantiate Scaler Object\n",
    "scaler = StandardScaler()\n",
    "\n",
    "# # Scale Train and Validation Sets\n",
    "DRV_Jan2016_scaled = scaler.fit_transform(DRV_Jan2016.drop('is_churn', axis=1))\n",
    "DRV_Feb2016_scaled = scaler.fit_transform(DRV_Feb2016.drop('is_churn', axis=1))\n",
    "\n",
    "# Scale Split Sets\n",
    "DRV_Jan2016_1to1_scaled = scaler.fit_transform(DRV_Jan2016_1to1.drop('is_churn', axis=1))\n",
    "DRV_Jan2016_3to1_scaled = scaler.fit_transform(DRV_Jan2016_3to1.drop('is_churn', axis=1))\n",
    "DRV_Jan2016_5to1_scaled = scaler.fit_transform(DRV_Jan2016_5to1.drop('is_churn', axis=1))\n",
    "DRV_Jan2016_7to1_scaled = scaler.fit_transform(DRV_Jan2016_7to1.drop('is_churn', axis=1))\n",
    "DRV_Jan2016_9to1_scaled = scaler.fit_transform(DRV_Jan2016_9to1.drop('is_churn', axis=1))\n",
    "DRV_Jan2016_11to1_scaled = scaler.fit_transform(DRV_Jan2016_11to1.drop('is_churn', axis=1))\n",
    "DRV_Jan2016_13to1_scaled = scaler.fit_transform(DRV_Jan2016_13to1.drop('is_churn', axis=1))"
   ]
  },
  {
   "cell_type": "code",
   "execution_count": 7,
   "metadata": {},
   "outputs": [
    {
     "data": {
      "text/plain": [
       "(38013, 239)"
      ]
     },
     "execution_count": 7,
     "metadata": {},
     "output_type": "execute_result"
    }
   ],
   "source": [
    "DRV_Jan2016_1to1_scaled.shape"
   ]
  },
  {
   "cell_type": "code",
   "execution_count": 8,
   "metadata": {},
   "outputs": [
    {
     "data": {
      "text/plain": [
       "(264393, 239)"
      ]
     },
     "execution_count": 8,
     "metadata": {},
     "output_type": "execute_result"
    }
   ],
   "source": [
    "DRV_Jan2016_13to1_scaled.shape"
   ]
  },
  {
   "cell_type": "markdown",
   "metadata": {},
   "source": [
    "## Model Creation: Pipeline and Tuning"
   ]
  },
  {
   "cell_type": "markdown",
   "metadata": {},
   "source": [
    "### - <font color=blue>Model Tuning</font> -"
   ]
  },
  {
   "cell_type": "markdown",
   "metadata": {},
   "source": [
    "#### <font color=purple>XGBOOST Parameter Tuning</font>"
   ]
  },
  {
   "cell_type": "code",
   "execution_count": 9,
   "metadata": {},
   "outputs": [],
   "source": [
    "# Create Param Grid\n",
    "params = {\n",
    "        'min_child_weight': [1, 5, 10],\n",
    "        'gamma': [0.5, 1, 1.5, 2, 5],\n",
    "        'subsample': [0.6, 0.8, 1.0],\n",
    "        'colsample_bytree': [0.6, 0.8, 1.0],\n",
    "        'max_depth': [3, 4, 5, 6],\n",
    "        'learning_rate': [.1, .075, .05, .025, .01],\n",
    "        'n_estimators': [100, 250, 500, 750, 1000]\n",
    "        }\n",
    "\n",
    "# Instatiate Esitmator Object\n",
    "xgb = XGBClassifier(objective='binary:logistic', n_jobs=1)\n",
    "\n",
    "# Instatiate StratKFold Object\n",
    "from sklearn.model_selection import StratifiedKFold\n",
    "skf = StratifiedKFold(n_splits=4, shuffle = True)\n",
    "\n",
    "# # Instatiate Random Search CV Object\n",
    "# rscv = RandomizedSearchCV(xgb, param_distributions=params, n_iter=5, scoring='recall', \n",
    "#                                    n_jobs=4, cv=skf, verbose=3)"
   ]
  },
  {
   "cell_type": "markdown",
   "metadata": {},
   "source": [
    "***Create Custom Evaluator***"
   ]
  },
  {
   "cell_type": "code",
   "execution_count": 10,
   "metadata": {},
   "outputs": [],
   "source": [
    "# Custom evaluator that we can use instead of BinaryClassificationEvaluator() in grid search\n",
    "class ClassEvaluatorPandas:\n",
    "\n",
    "    def __init__(self, modelname, model, y_pred, y_true):\n",
    "        \n",
    "        # Initialize variables\n",
    "        self.modelname = modelname\n",
    "        self.y_pred = y_pred\n",
    "        self.y_true = y_true\n",
    "        self.model = model\n",
    "        \n",
    "        # Calculate confusion matrix\n",
    "        from sklearn.metrics import confusion_matrix\n",
    "        self.cm = confusion_matrix(y_true,y_pred)\n",
    "        \n",
    "        # Calculate confusion matrix values\n",
    "        self.tp = self.cm[0][0]\n",
    "        self.fp = self.cm[0][1]\n",
    "        self.tn = self.cm[1][1]\n",
    "        self.fn = self.cm[1][0]\n",
    "        \n",
    "    def evaluate(self):\n",
    "        \n",
    "        # Calculate Metrics and add epsilon to prevent division by zero\n",
    "        precision = self.tp / float(self.tp + self.fp + 0.00001)\n",
    "        recall = self.tp / float(self.tp + self.fn + 0.00001)\n",
    "        f1 = (2 * precision * recall) / float(precision + recall + 0.00001)\n",
    "        error = (self.fp + self.fn + 0.00001) / (self.tp + self.fp + self.tn + self.fn + 0.00001)\n",
    "        \n",
    "        # Instantiate Evaluator and call AUC metric\n",
    "        from sklearn.metrics import confusion_matrix, roc_curve, auc, roc_auc_score\n",
    "        \n",
    "        AUC = roc_auc_score(self.y_true, self.y_pred)\n",
    "        \n",
    "        return pd.DataFrame(data=[[self.modelname, AUC, f1, precision, recall, error]], \n",
    "                            columns=['modelname', 'AUC', 'f1', 'precision', 'recall', 'error'])\n",
    "    \n",
    "    def confusionmatrix(self):\n",
    "        from sklearn.metrics import confusion_matrix\n",
    "        # Print Confusion Matrix\n",
    "        return self.cm\n",
    "        \n",
    "    \n",
    "    def modelparams(self):\n",
    "        scores = self.model.avgMetrics\n",
    "        params = [{p.name: v for p, v in m.items()} for m in self.model.getEstimatorParamMaps()]\n",
    "        params_pd = pd.DataFrame(params)\n",
    "        params_pd['AUC score'] = scores\n",
    "        return params_pd"
   ]
  },
  {
   "cell_type": "markdown",
   "metadata": {},
   "source": [
    "## Model Execution and Evaluation"
   ]
  },
  {
   "cell_type": "markdown",
   "metadata": {},
   "source": [
    "### <font color=blue>Train Model: All Splits, XGB + GridCV </font>"
   ]
  },
  {
   "cell_type": "code",
   "execution_count": 11,
   "metadata": {},
   "outputs": [
    {
     "name": "stdout",
     "output_type": "stream",
     "text": [
      "Fitting 4 folds for each of 5 candidates, totalling 20 fits\n",
      "[CV] subsample=0.6, n_estimators=100, min_child_weight=1, max_depth=6, learning_rate=0.1, gamma=1.5, colsample_bytree=0.6 \n"
     ]
    },
    {
     "name": "stderr",
     "output_type": "stream",
     "text": [
      "[Parallel(n_jobs=1)]: Using backend SequentialBackend with 1 concurrent workers.\n"
     ]
    },
    {
     "name": "stdout",
     "output_type": "stream",
     "text": [
      "[CV]  subsample=0.6, n_estimators=100, min_child_weight=1, max_depth=6, learning_rate=0.1, gamma=1.5, colsample_bytree=0.6, score=0.905, total=  38.2s\n",
      "[CV] subsample=0.6, n_estimators=100, min_child_weight=1, max_depth=6, learning_rate=0.1, gamma=1.5, colsample_bytree=0.6 \n"
     ]
    },
    {
     "name": "stderr",
     "output_type": "stream",
     "text": [
      "[Parallel(n_jobs=1)]: Done   1 out of   1 | elapsed:   38.1s remaining:    0.0s\n"
     ]
    },
    {
     "name": "stdout",
     "output_type": "stream",
     "text": [
      "[CV]  subsample=0.6, n_estimators=100, min_child_weight=1, max_depth=6, learning_rate=0.1, gamma=1.5, colsample_bytree=0.6, score=0.905, total=  37.1s\n",
      "[CV] subsample=0.6, n_estimators=100, min_child_weight=1, max_depth=6, learning_rate=0.1, gamma=1.5, colsample_bytree=0.6 \n"
     ]
    },
    {
     "name": "stderr",
     "output_type": "stream",
     "text": [
      "[Parallel(n_jobs=1)]: Done   2 out of   2 | elapsed:  1.3min remaining:    0.0s\n"
     ]
    },
    {
     "name": "stdout",
     "output_type": "stream",
     "text": [
      "[CV]  subsample=0.6, n_estimators=100, min_child_weight=1, max_depth=6, learning_rate=0.1, gamma=1.5, colsample_bytree=0.6, score=0.911, total=  37.1s\n",
      "[CV] subsample=0.6, n_estimators=100, min_child_weight=1, max_depth=6, learning_rate=0.1, gamma=1.5, colsample_bytree=0.6 \n",
      "[CV]  subsample=0.6, n_estimators=100, min_child_weight=1, max_depth=6, learning_rate=0.1, gamma=1.5, colsample_bytree=0.6, score=0.902, total=  37.0s\n",
      "[CV] subsample=0.6, n_estimators=1000, min_child_weight=5, max_depth=4, learning_rate=0.025, gamma=0.5, colsample_bytree=1.0 \n",
      "[CV]  subsample=0.6, n_estimators=1000, min_child_weight=5, max_depth=4, learning_rate=0.025, gamma=0.5, colsample_bytree=1.0, score=0.906, total= 6.1min\n",
      "[CV] subsample=0.6, n_estimators=1000, min_child_weight=5, max_depth=4, learning_rate=0.025, gamma=0.5, colsample_bytree=1.0 \n",
      "[CV]  subsample=0.6, n_estimators=1000, min_child_weight=5, max_depth=4, learning_rate=0.025, gamma=0.5, colsample_bytree=1.0, score=0.905, total= 6.1min\n",
      "[CV] subsample=0.6, n_estimators=1000, min_child_weight=5, max_depth=4, learning_rate=0.025, gamma=0.5, colsample_bytree=1.0 \n",
      "[CV]  subsample=0.6, n_estimators=1000, min_child_weight=5, max_depth=4, learning_rate=0.025, gamma=0.5, colsample_bytree=1.0, score=0.912, total= 6.1min\n",
      "[CV] subsample=0.6, n_estimators=1000, min_child_weight=5, max_depth=4, learning_rate=0.025, gamma=0.5, colsample_bytree=1.0 \n",
      "[CV]  subsample=0.6, n_estimators=1000, min_child_weight=5, max_depth=4, learning_rate=0.025, gamma=0.5, colsample_bytree=1.0, score=0.905, total= 6.1min\n",
      "[CV] subsample=0.6, n_estimators=750, min_child_weight=10, max_depth=6, learning_rate=0.1, gamma=2, colsample_bytree=0.6 \n",
      "[CV]  subsample=0.6, n_estimators=750, min_child_weight=10, max_depth=6, learning_rate=0.1, gamma=2, colsample_bytree=0.6, score=0.897, total= 4.3min\n",
      "[CV] subsample=0.6, n_estimators=750, min_child_weight=10, max_depth=6, learning_rate=0.1, gamma=2, colsample_bytree=0.6 \n",
      "[CV]  subsample=0.6, n_estimators=750, min_child_weight=10, max_depth=6, learning_rate=0.1, gamma=2, colsample_bytree=0.6, score=0.899, total= 4.3min\n",
      "[CV] subsample=0.6, n_estimators=750, min_child_weight=10, max_depth=6, learning_rate=0.1, gamma=2, colsample_bytree=0.6 \n",
      "[CV]  subsample=0.6, n_estimators=750, min_child_weight=10, max_depth=6, learning_rate=0.1, gamma=2, colsample_bytree=0.6, score=0.900, total= 4.3min\n",
      "[CV] subsample=0.6, n_estimators=750, min_child_weight=10, max_depth=6, learning_rate=0.1, gamma=2, colsample_bytree=0.6 \n",
      "[CV]  subsample=0.6, n_estimators=750, min_child_weight=10, max_depth=6, learning_rate=0.1, gamma=2, colsample_bytree=0.6, score=0.896, total= 4.3min\n",
      "[CV] subsample=1.0, n_estimators=100, min_child_weight=10, max_depth=3, learning_rate=0.01, gamma=5, colsample_bytree=0.8 \n",
      "[CV]  subsample=1.0, n_estimators=100, min_child_weight=10, max_depth=3, learning_rate=0.01, gamma=5, colsample_bytree=0.8, score=0.862, total=  25.7s\n",
      "[CV] subsample=1.0, n_estimators=100, min_child_weight=10, max_depth=3, learning_rate=0.01, gamma=5, colsample_bytree=0.8 \n",
      "[CV]  subsample=1.0, n_estimators=100, min_child_weight=10, max_depth=3, learning_rate=0.01, gamma=5, colsample_bytree=0.8, score=0.876, total=  25.9s\n",
      "[CV] subsample=1.0, n_estimators=100, min_child_weight=10, max_depth=3, learning_rate=0.01, gamma=5, colsample_bytree=0.8 \n",
      "[CV]  subsample=1.0, n_estimators=100, min_child_weight=10, max_depth=3, learning_rate=0.01, gamma=5, colsample_bytree=0.8, score=0.905, total=  25.8s\n",
      "[CV] subsample=1.0, n_estimators=100, min_child_weight=10, max_depth=3, learning_rate=0.01, gamma=5, colsample_bytree=0.8 \n",
      "[CV]  subsample=1.0, n_estimators=100, min_child_weight=10, max_depth=3, learning_rate=0.01, gamma=5, colsample_bytree=0.8, score=0.898, total=  25.8s\n",
      "[CV] subsample=0.8, n_estimators=100, min_child_weight=5, max_depth=5, learning_rate=0.075, gamma=1, colsample_bytree=0.8 \n",
      "[CV]  subsample=0.8, n_estimators=100, min_child_weight=5, max_depth=5, learning_rate=0.075, gamma=1, colsample_bytree=0.8, score=0.908, total=  38.4s\n",
      "[CV] subsample=0.8, n_estimators=100, min_child_weight=5, max_depth=5, learning_rate=0.075, gamma=1, colsample_bytree=0.8 \n",
      "[CV]  subsample=0.8, n_estimators=100, min_child_weight=5, max_depth=5, learning_rate=0.075, gamma=1, colsample_bytree=0.8, score=0.909, total=  38.5s\n",
      "[CV] subsample=0.8, n_estimators=100, min_child_weight=5, max_depth=5, learning_rate=0.075, gamma=1, colsample_bytree=0.8 \n",
      "[CV]  subsample=0.8, n_estimators=100, min_child_weight=5, max_depth=5, learning_rate=0.075, gamma=1, colsample_bytree=0.8, score=0.910, total=  38.8s\n",
      "[CV] subsample=0.8, n_estimators=100, min_child_weight=5, max_depth=5, learning_rate=0.075, gamma=1, colsample_bytree=0.8 \n",
      "[CV]  subsample=0.8, n_estimators=100, min_child_weight=5, max_depth=5, learning_rate=0.075, gamma=1, colsample_bytree=0.8, score=0.906, total=  38.7s\n"
     ]
    },
    {
     "name": "stderr",
     "output_type": "stream",
     "text": [
      "[Parallel(n_jobs=1)]: Done  20 out of  20 | elapsed: 48.6min finished\n"
     ]
    },
    {
     "name": "stdout",
     "output_type": "stream",
     "text": [
      "Time spent for training: 2971\n"
     ]
    }
   ],
   "source": [
    "start = time.time()\n",
    "rscv = RandomizedSearchCV(xgb, param_distributions=params, n_iter=5, scoring='recall', \n",
    "                                   n_jobs=1, cv=skf, verbose=3)\n",
    "gbx1to1 = rscv.fit(DRV_Jan2016_1to1_scaled, DRV_Jan2016_1to1['is_churn'])\n",
    "end = time.time()\n",
    "print('Time spent for training: {}'.format(round(end-start)))"
   ]
  },
  {
   "cell_type": "code",
   "execution_count": 12,
   "metadata": {},
   "outputs": [
    {
     "name": "stdout",
     "output_type": "stream",
     "text": [
      "Fitting 4 folds for each of 5 candidates, totalling 20 fits\n",
      "[CV] subsample=0.8, n_estimators=500, min_child_weight=5, max_depth=5, learning_rate=0.05, gamma=5, colsample_bytree=0.8 \n"
     ]
    },
    {
     "name": "stderr",
     "output_type": "stream",
     "text": [
      "[Parallel(n_jobs=1)]: Using backend SequentialBackend with 1 concurrent workers.\n"
     ]
    },
    {
     "name": "stdout",
     "output_type": "stream",
     "text": [
      "[CV]  subsample=0.8, n_estimators=500, min_child_weight=5, max_depth=5, learning_rate=0.05, gamma=5, colsample_bytree=0.8, score=0.802, total= 6.4min\n",
      "[CV] subsample=0.8, n_estimators=500, min_child_weight=5, max_depth=5, learning_rate=0.05, gamma=5, colsample_bytree=0.8 \n"
     ]
    },
    {
     "name": "stderr",
     "output_type": "stream",
     "text": [
      "[Parallel(n_jobs=1)]: Done   1 out of   1 | elapsed:  6.4min remaining:    0.0s\n"
     ]
    },
    {
     "name": "stdout",
     "output_type": "stream",
     "text": [
      "[CV]  subsample=0.8, n_estimators=500, min_child_weight=5, max_depth=5, learning_rate=0.05, gamma=5, colsample_bytree=0.8, score=0.788, total= 6.4min\n",
      "[CV] subsample=0.8, n_estimators=500, min_child_weight=5, max_depth=5, learning_rate=0.05, gamma=5, colsample_bytree=0.8 \n"
     ]
    },
    {
     "name": "stderr",
     "output_type": "stream",
     "text": [
      "[Parallel(n_jobs=1)]: Done   2 out of   2 | elapsed: 12.8min remaining:    0.0s\n"
     ]
    },
    {
     "name": "stdout",
     "output_type": "stream",
     "text": [
      "[CV]  subsample=0.8, n_estimators=500, min_child_weight=5, max_depth=5, learning_rate=0.05, gamma=5, colsample_bytree=0.8, score=0.799, total= 6.4min\n",
      "[CV] subsample=0.8, n_estimators=500, min_child_weight=5, max_depth=5, learning_rate=0.05, gamma=5, colsample_bytree=0.8 \n",
      "[CV]  subsample=0.8, n_estimators=500, min_child_weight=5, max_depth=5, learning_rate=0.05, gamma=5, colsample_bytree=0.8, score=0.788, total=13.0min\n",
      "[CV] subsample=1.0, n_estimators=250, min_child_weight=5, max_depth=5, learning_rate=0.025, gamma=1, colsample_bytree=1.0 \n",
      "[CV]  subsample=1.0, n_estimators=250, min_child_weight=5, max_depth=5, learning_rate=0.025, gamma=1, colsample_bytree=1.0, score=0.795, total= 9.2min\n",
      "[CV] subsample=1.0, n_estimators=250, min_child_weight=5, max_depth=5, learning_rate=0.025, gamma=1, colsample_bytree=1.0 \n",
      "[CV]  subsample=1.0, n_estimators=250, min_child_weight=5, max_depth=5, learning_rate=0.025, gamma=1, colsample_bytree=1.0, score=0.783, total= 9.2min\n",
      "[CV] subsample=1.0, n_estimators=250, min_child_weight=5, max_depth=5, learning_rate=0.025, gamma=1, colsample_bytree=1.0 \n",
      "[CV]  subsample=1.0, n_estimators=250, min_child_weight=5, max_depth=5, learning_rate=0.025, gamma=1, colsample_bytree=1.0, score=0.799, total= 9.2min\n",
      "[CV] subsample=1.0, n_estimators=250, min_child_weight=5, max_depth=5, learning_rate=0.025, gamma=1, colsample_bytree=1.0 \n",
      "[CV]  subsample=1.0, n_estimators=250, min_child_weight=5, max_depth=5, learning_rate=0.025, gamma=1, colsample_bytree=1.0, score=0.784, total= 9.2min\n",
      "[CV] subsample=1.0, n_estimators=750, min_child_weight=1, max_depth=6, learning_rate=0.01, gamma=1, colsample_bytree=1.0 \n",
      "[CV]  subsample=1.0, n_estimators=750, min_child_weight=1, max_depth=6, learning_rate=0.01, gamma=1, colsample_bytree=1.0, score=0.798, total=56.5min\n",
      "[CV] subsample=1.0, n_estimators=750, min_child_weight=1, max_depth=6, learning_rate=0.01, gamma=1, colsample_bytree=1.0 \n",
      "[CV]  subsample=1.0, n_estimators=750, min_child_weight=1, max_depth=6, learning_rate=0.01, gamma=1, colsample_bytree=1.0, score=0.790, total=14.5min\n",
      "[CV] subsample=1.0, n_estimators=750, min_child_weight=1, max_depth=6, learning_rate=0.01, gamma=1, colsample_bytree=1.0 \n",
      "[CV]  subsample=1.0, n_estimators=750, min_child_weight=1, max_depth=6, learning_rate=0.01, gamma=1, colsample_bytree=1.0, score=0.805, total=14.2min\n",
      "[CV] subsample=1.0, n_estimators=750, min_child_weight=1, max_depth=6, learning_rate=0.01, gamma=1, colsample_bytree=1.0 \n",
      "[CV]  subsample=1.0, n_estimators=750, min_child_weight=1, max_depth=6, learning_rate=0.01, gamma=1, colsample_bytree=1.0, score=0.790, total=13.8min\n",
      "[CV] subsample=1.0, n_estimators=250, min_child_weight=1, max_depth=5, learning_rate=0.01, gamma=0.5, colsample_bytree=0.6 \n",
      "[CV]  subsample=1.0, n_estimators=250, min_child_weight=1, max_depth=5, learning_rate=0.01, gamma=0.5, colsample_bytree=0.6, score=0.780, total= 2.7min\n",
      "[CV] subsample=1.0, n_estimators=250, min_child_weight=1, max_depth=5, learning_rate=0.01, gamma=0.5, colsample_bytree=0.6 \n",
      "[CV]  subsample=1.0, n_estimators=250, min_child_weight=1, max_depth=5, learning_rate=0.01, gamma=0.5, colsample_bytree=0.6, score=0.765, total= 2.6min\n",
      "[CV] subsample=1.0, n_estimators=250, min_child_weight=1, max_depth=5, learning_rate=0.01, gamma=0.5, colsample_bytree=0.6 \n",
      "[CV]  subsample=1.0, n_estimators=250, min_child_weight=1, max_depth=5, learning_rate=0.01, gamma=0.5, colsample_bytree=0.6, score=0.773, total= 2.6min\n",
      "[CV] subsample=1.0, n_estimators=250, min_child_weight=1, max_depth=5, learning_rate=0.01, gamma=0.5, colsample_bytree=0.6 \n",
      "[CV]  subsample=1.0, n_estimators=250, min_child_weight=1, max_depth=5, learning_rate=0.01, gamma=0.5, colsample_bytree=0.6, score=0.765, total= 2.6min\n",
      "[CV] subsample=0.6, n_estimators=1000, min_child_weight=5, max_depth=5, learning_rate=0.1, gamma=1, colsample_bytree=0.8 \n",
      "[CV]  subsample=0.6, n_estimators=1000, min_child_weight=5, max_depth=5, learning_rate=0.1, gamma=1, colsample_bytree=0.8, score=0.790, total=12.9min\n",
      "[CV] subsample=0.6, n_estimators=1000, min_child_weight=5, max_depth=5, learning_rate=0.1, gamma=1, colsample_bytree=0.8 \n",
      "[CV]  subsample=0.6, n_estimators=1000, min_child_weight=5, max_depth=5, learning_rate=0.1, gamma=1, colsample_bytree=0.8, score=0.775, total=12.9min\n",
      "[CV] subsample=0.6, n_estimators=1000, min_child_weight=5, max_depth=5, learning_rate=0.1, gamma=1, colsample_bytree=0.8 \n",
      "[CV]  subsample=0.6, n_estimators=1000, min_child_weight=5, max_depth=5, learning_rate=0.1, gamma=1, colsample_bytree=0.8, score=0.791, total=12.9min\n",
      "[CV] subsample=0.6, n_estimators=1000, min_child_weight=5, max_depth=5, learning_rate=0.1, gamma=1, colsample_bytree=0.8 \n",
      "[CV]  subsample=0.6, n_estimators=1000, min_child_weight=5, max_depth=5, learning_rate=0.1, gamma=1, colsample_bytree=0.8, score=0.784, total=12.9min\n"
     ]
    },
    {
     "name": "stderr",
     "output_type": "stream",
     "text": [
      "[Parallel(n_jobs=1)]: Done  20 out of  20 | elapsed: 230.1min finished\n"
     ]
    },
    {
     "name": "stdout",
     "output_type": "stream",
     "text": [
      "Time spent for training: 14909\n"
     ]
    }
   ],
   "source": [
    "start = time.time()\n",
    "rscv = RandomizedSearchCV(xgb, param_distributions=params, n_iter=5, scoring='recall', \n",
    "                                   n_jobs=1, cv=skf, verbose=3)\n",
    "gbx3to1 = rscv.fit(DRV_Jan2016_3to1_scaled, DRV_Jan2016_3to1['is_churn'])\n",
    "end = time.time()\n",
    "print('Time spent for training: {}'.format(round(end-start)))"
   ]
  },
  {
   "cell_type": "code",
   "execution_count": 13,
   "metadata": {},
   "outputs": [
    {
     "name": "stdout",
     "output_type": "stream",
     "text": [
      "Fitting 4 folds for each of 5 candidates, totalling 20 fits\n",
      "[CV] subsample=0.8, n_estimators=250, min_child_weight=10, max_depth=3, learning_rate=0.01, gamma=0.5, colsample_bytree=0.6 \n"
     ]
    },
    {
     "name": "stderr",
     "output_type": "stream",
     "text": [
      "[Parallel(n_jobs=1)]: Using backend SequentialBackend with 1 concurrent workers.\n"
     ]
    },
    {
     "name": "stdout",
     "output_type": "stream",
     "text": [
      "[CV]  subsample=0.8, n_estimators=250, min_child_weight=10, max_depth=3, learning_rate=0.01, gamma=0.5, colsample_bytree=0.6, score=0.572, total= 2.7min\n",
      "[CV] subsample=0.8, n_estimators=250, min_child_weight=10, max_depth=3, learning_rate=0.01, gamma=0.5, colsample_bytree=0.6 \n"
     ]
    },
    {
     "name": "stderr",
     "output_type": "stream",
     "text": [
      "[Parallel(n_jobs=1)]: Done   1 out of   1 | elapsed:  2.7min remaining:    0.0s\n"
     ]
    },
    {
     "name": "stdout",
     "output_type": "stream",
     "text": [
      "[CV]  subsample=0.8, n_estimators=250, min_child_weight=10, max_depth=3, learning_rate=0.01, gamma=0.5, colsample_bytree=0.6, score=0.601, total= 2.7min\n",
      "[CV] subsample=0.8, n_estimators=250, min_child_weight=10, max_depth=3, learning_rate=0.01, gamma=0.5, colsample_bytree=0.6 \n"
     ]
    },
    {
     "name": "stderr",
     "output_type": "stream",
     "text": [
      "[Parallel(n_jobs=1)]: Done   2 out of   2 | elapsed:  5.4min remaining:    0.0s\n"
     ]
    },
    {
     "name": "stdout",
     "output_type": "stream",
     "text": [
      "[CV]  subsample=0.8, n_estimators=250, min_child_weight=10, max_depth=3, learning_rate=0.01, gamma=0.5, colsample_bytree=0.6, score=0.579, total= 2.7min\n",
      "[CV] subsample=0.8, n_estimators=250, min_child_weight=10, max_depth=3, learning_rate=0.01, gamma=0.5, colsample_bytree=0.6 \n",
      "[CV]  subsample=0.8, n_estimators=250, min_child_weight=10, max_depth=3, learning_rate=0.01, gamma=0.5, colsample_bytree=0.6, score=0.585, total= 2.7min\n",
      "[CV] subsample=0.8, n_estimators=750, min_child_weight=10, max_depth=5, learning_rate=0.1, gamma=0.5, colsample_bytree=0.8 \n",
      "[CV]  subsample=0.8, n_estimators=750, min_child_weight=10, max_depth=5, learning_rate=0.1, gamma=0.5, colsample_bytree=0.8, score=0.699, total=14.5min\n",
      "[CV] subsample=0.8, n_estimators=750, min_child_weight=10, max_depth=5, learning_rate=0.1, gamma=0.5, colsample_bytree=0.8 \n",
      "[CV]  subsample=0.8, n_estimators=750, min_child_weight=10, max_depth=5, learning_rate=0.1, gamma=0.5, colsample_bytree=0.8, score=0.731, total=14.5min\n",
      "[CV] subsample=0.8, n_estimators=750, min_child_weight=10, max_depth=5, learning_rate=0.1, gamma=0.5, colsample_bytree=0.8 \n",
      "[CV]  subsample=0.8, n_estimators=750, min_child_weight=10, max_depth=5, learning_rate=0.1, gamma=0.5, colsample_bytree=0.8, score=0.712, total=14.5min\n",
      "[CV] subsample=0.8, n_estimators=750, min_child_weight=10, max_depth=5, learning_rate=0.1, gamma=0.5, colsample_bytree=0.8 \n",
      "[CV]  subsample=0.8, n_estimators=750, min_child_weight=10, max_depth=5, learning_rate=0.1, gamma=0.5, colsample_bytree=0.8, score=0.713, total=14.5min\n",
      "[CV] subsample=1.0, n_estimators=500, min_child_weight=1, max_depth=6, learning_rate=0.1, gamma=1, colsample_bytree=0.8 \n",
      "[CV]  subsample=1.0, n_estimators=500, min_child_weight=1, max_depth=6, learning_rate=0.1, gamma=1, colsample_bytree=0.8, score=0.702, total=11.4min\n",
      "[CV] subsample=1.0, n_estimators=500, min_child_weight=1, max_depth=6, learning_rate=0.1, gamma=1, colsample_bytree=0.8 \n",
      "[CV]  subsample=1.0, n_estimators=500, min_child_weight=1, max_depth=6, learning_rate=0.1, gamma=1, colsample_bytree=0.8, score=0.732, total=11.4min\n",
      "[CV] subsample=1.0, n_estimators=500, min_child_weight=1, max_depth=6, learning_rate=0.1, gamma=1, colsample_bytree=0.8 \n",
      "[CV]  subsample=1.0, n_estimators=500, min_child_weight=1, max_depth=6, learning_rate=0.1, gamma=1, colsample_bytree=0.8, score=0.720, total=11.4min\n",
      "[CV] subsample=1.0, n_estimators=500, min_child_weight=1, max_depth=6, learning_rate=0.1, gamma=1, colsample_bytree=0.8 \n",
      "[CV]  subsample=1.0, n_estimators=500, min_child_weight=1, max_depth=6, learning_rate=0.1, gamma=1, colsample_bytree=0.8, score=0.715, total=11.4min\n",
      "[CV] subsample=0.6, n_estimators=500, min_child_weight=5, max_depth=5, learning_rate=0.075, gamma=2, colsample_bytree=0.6 \n",
      "[CV]  subsample=0.6, n_estimators=500, min_child_weight=5, max_depth=5, learning_rate=0.075, gamma=2, colsample_bytree=0.6, score=0.696, total= 7.9min\n",
      "[CV] subsample=0.6, n_estimators=500, min_child_weight=5, max_depth=5, learning_rate=0.075, gamma=2, colsample_bytree=0.6 \n",
      "[CV]  subsample=0.6, n_estimators=500, min_child_weight=5, max_depth=5, learning_rate=0.075, gamma=2, colsample_bytree=0.6, score=0.733, total= 7.9min\n",
      "[CV] subsample=0.6, n_estimators=500, min_child_weight=5, max_depth=5, learning_rate=0.075, gamma=2, colsample_bytree=0.6 \n",
      "[CV]  subsample=0.6, n_estimators=500, min_child_weight=5, max_depth=5, learning_rate=0.075, gamma=2, colsample_bytree=0.6, score=0.714, total= 7.9min\n",
      "[CV] subsample=0.6, n_estimators=500, min_child_weight=5, max_depth=5, learning_rate=0.075, gamma=2, colsample_bytree=0.6 \n",
      "[CV]  subsample=0.6, n_estimators=500, min_child_weight=5, max_depth=5, learning_rate=0.075, gamma=2, colsample_bytree=0.6, score=0.710, total= 7.9min\n",
      "[CV] subsample=0.6, n_estimators=250, min_child_weight=1, max_depth=5, learning_rate=0.025, gamma=1, colsample_bytree=0.6 \n",
      "[CV]  subsample=0.6, n_estimators=250, min_child_weight=1, max_depth=5, learning_rate=0.025, gamma=1, colsample_bytree=0.6, score=0.689, total= 4.0min\n",
      "[CV] subsample=0.6, n_estimators=250, min_child_weight=1, max_depth=5, learning_rate=0.025, gamma=1, colsample_bytree=0.6 \n",
      "[CV]  subsample=0.6, n_estimators=250, min_child_weight=1, max_depth=5, learning_rate=0.025, gamma=1, colsample_bytree=0.6, score=0.723, total= 4.0min\n",
      "[CV] subsample=0.6, n_estimators=250, min_child_weight=1, max_depth=5, learning_rate=0.025, gamma=1, colsample_bytree=0.6 \n",
      "[CV]  subsample=0.6, n_estimators=250, min_child_weight=1, max_depth=5, learning_rate=0.025, gamma=1, colsample_bytree=0.6, score=0.703, total= 4.0min\n",
      "[CV] subsample=0.6, n_estimators=250, min_child_weight=1, max_depth=5, learning_rate=0.025, gamma=1, colsample_bytree=0.6 \n",
      "[CV]  subsample=0.6, n_estimators=250, min_child_weight=1, max_depth=5, learning_rate=0.025, gamma=1, colsample_bytree=0.6, score=0.704, total= 4.0min\n"
     ]
    },
    {
     "name": "stderr",
     "output_type": "stream",
     "text": [
      "[Parallel(n_jobs=1)]: Done  20 out of  20 | elapsed: 162.1min finished\n"
     ]
    },
    {
     "name": "stdout",
     "output_type": "stream",
     "text": [
      "Time spent for training: 10640\n"
     ]
    }
   ],
   "source": [
    "start = time.time()\n",
    "rscv = RandomizedSearchCV(xgb, param_distributions=params, n_iter=5, scoring='recall', \n",
    "                                   n_jobs=1, cv=skf, verbose=3)\n",
    "gbx5to1 = rscv.fit(DRV_Jan2016_5to1_scaled, DRV_Jan2016_5to1['is_churn'])\n",
    "end = time.time()\n",
    "print('Time spent for training: {}'.format(round(end-start)))"
   ]
  },
  {
   "cell_type": "code",
   "execution_count": 14,
   "metadata": {},
   "outputs": [
    {
     "name": "stdout",
     "output_type": "stream",
     "text": [
      "Fitting 4 folds for each of 5 candidates, totalling 20 fits\n"
     ]
    },
    {
     "name": "stderr",
     "output_type": "stream",
     "text": [
      "[Parallel(n_jobs=4)]: Using backend LokyBackend with 4 concurrent workers.\n",
      "[Parallel(n_jobs=4)]: Done  20 out of  20 | elapsed: 44.6min remaining:    0.0s\n",
      "[Parallel(n_jobs=4)]: Done  20 out of  20 | elapsed: 44.6min finished\n"
     ]
    },
    {
     "name": "stdout",
     "output_type": "stream",
     "text": [
      "Time spent for training: 3485\n"
     ]
    }
   ],
   "source": [
    "start = time.time()\n",
    "rscv = RandomizedSearchCV(xgb, param_distributions=params, n_iter=5, scoring='recall', \n",
    "                                   n_jobs=4, cv=skf, verbose=3)\n",
    "gbx7to1 = rscv.fit(DRV_Jan2016_7to1_scaled, DRV_Jan2016_7to1['is_churn'])\n",
    "end = time.time()\n",
    "print('Time spent for training: {}'.format(round(end-start)))"
   ]
  },
  {
   "cell_type": "code",
   "execution_count": 15,
   "metadata": {},
   "outputs": [
    {
     "name": "stdout",
     "output_type": "stream",
     "text": [
      "Fitting 4 folds for each of 5 candidates, totalling 20 fits\n"
     ]
    },
    {
     "name": "stderr",
     "output_type": "stream",
     "text": [
      "[Parallel(n_jobs=4)]: Using backend LokyBackend with 4 concurrent workers.\n",
      "[Parallel(n_jobs=4)]: Done  20 out of  20 | elapsed: 123.3min remaining:    0.0s\n",
      "[Parallel(n_jobs=4)]: Done  20 out of  20 | elapsed: 123.3min finished\n"
     ]
    },
    {
     "name": "stdout",
     "output_type": "stream",
     "text": [
      "Time spent for training: 8927\n"
     ]
    }
   ],
   "source": [
    "start = time.time()\n",
    "rscv = RandomizedSearchCV(xgb, param_distributions=params, n_iter=5, scoring='recall', \n",
    "                                   n_jobs=4, cv=skf, verbose=3)\n",
    "gbx9to1 = rscv.fit(DRV_Jan2016_9to1_scaled, DRV_Jan2016_9to1['is_churn'])\n",
    "end = time.time()\n",
    "print('Time spent for training: {}'.format(round(end-start)))"
   ]
  },
  {
   "cell_type": "code",
   "execution_count": 16,
   "metadata": {},
   "outputs": [
    {
     "name": "stdout",
     "output_type": "stream",
     "text": [
      "Fitting 4 folds for each of 5 candidates, totalling 20 fits\n"
     ]
    },
    {
     "name": "stderr",
     "output_type": "stream",
     "text": [
      "[Parallel(n_jobs=4)]: Using backend LokyBackend with 4 concurrent workers.\n",
      "[Parallel(n_jobs=4)]: Done  20 out of  20 | elapsed: 119.0min remaining:    0.0s\n",
      "[Parallel(n_jobs=4)]: Done  20 out of  20 | elapsed: 119.0min finished\n"
     ]
    },
    {
     "name": "stdout",
     "output_type": "stream",
     "text": [
      "Time spent for training: 9012\n"
     ]
    }
   ],
   "source": [
    "start = time.time()\n",
    "rscv = RandomizedSearchCV(xgb, param_distributions=params, n_iter=5, scoring='recall', \n",
    "                                   n_jobs=4, cv=skf, verbose=3)\n",
    "gbx11to1 = rscv.fit(DRV_Jan2016_11to1_scaled, DRV_Jan2016_11to1['is_churn'])\n",
    "end = time.time()\n",
    "print('Time spent for training: {}'.format(round(end-start)))"
   ]
  },
  {
   "cell_type": "code",
   "execution_count": 17,
   "metadata": {},
   "outputs": [
    {
     "name": "stdout",
     "output_type": "stream",
     "text": [
      "Fitting 4 folds for each of 5 candidates, totalling 20 fits\n"
     ]
    },
    {
     "name": "stderr",
     "output_type": "stream",
     "text": [
      "[Parallel(n_jobs=4)]: Using backend LokyBackend with 4 concurrent workers.\n",
      "[Parallel(n_jobs=4)]: Done  20 out of  20 | elapsed: 161.3min remaining:    0.0s\n",
      "[Parallel(n_jobs=4)]: Done  20 out of  20 | elapsed: 161.4min finished\n"
     ]
    },
    {
     "name": "stdout",
     "output_type": "stream",
     "text": [
      "Time spent for training: 11891\n"
     ]
    }
   ],
   "source": [
    "start = time.time()\n",
    "rscv = RandomizedSearchCV(xgb, param_distributions=params, n_iter=5, scoring='recall', \n",
    "                                   n_jobs=4, cv=skf, verbose=3)\n",
    "gbx13to1 = rscv.fit(DRV_Jan2016_13to1_scaled, DRV_Jan2016_13to1['is_churn'])\n",
    "end = time.time()\n",
    "print('Time spent for training: {}'.format(round(end-start)))"
   ]
  },
  {
   "cell_type": "code",
   "execution_count": 18,
   "metadata": {},
   "outputs": [],
   "source": [
    "# Dictionary of Models that were created\n",
    "ensembles_created = {\n",
    "                  'gbx1to1' : gbx1to1,\n",
    "                  'gbx3to1' : gbx3to1,\n",
    "                  'gbx5to1' : gbx5to1,\n",
    "                  'gbx7to1' : gbx7to1,\n",
    "                  'gbx9to1' : gbx9to1,\n",
    "                  'gbx11to1' : gbx11to1,\n",
    "                  'gbx13to1' : gbx13to1}"
   ]
  },
  {
   "cell_type": "markdown",
   "metadata": {},
   "source": [
    "#### - <font color=blue>Evaluate Train Model: All Splits, XGB + GridCV </font> -"
   ]
  },
  {
   "cell_type": "code",
   "execution_count": 19,
   "metadata": {},
   "outputs": [
    {
     "name": "stdout",
     "output_type": "stream",
     "text": [
      "gbx1to1\n",
      "[[549877 122874]\n",
      " [  1386  17762]]\n",
      "\n",
      "gbx3to1\n",
      "[[627060  45691]\n",
      " [  4122  15026]]\n",
      "\n",
      "gbx5to1\n",
      "[[642246  30505]\n",
      " [  4186  14962]]\n",
      "\n",
      "gbx7to1\n",
      "[[635090  37661]\n",
      " [  4233  14915]]\n",
      "\n",
      "gbx9to1\n",
      "[[650096  22655]\n",
      " [  4820  14328]]\n",
      "\n",
      "gbx11to1\n",
      "[[661803  10948]\n",
      " [  7297  11851]]\n",
      "\n",
      "gbx13to1\n",
      "[[666593   6158]\n",
      " [  8973  10175]]\n",
      "\n"
     ]
    }
   ],
   "source": [
    "# Train Model Results\n",
    "train_all_results = pd.DataFrame()\n",
    "\n",
    "for model_name, model1 in ensembles_created.items():\n",
    "    \n",
    "    # Temporary Variables for our Loop\n",
    "    temp = model1.predict(DRV_Jan2016_scaled)\n",
    "    temp_class = ClassEvaluatorPandas(modelname=model_name, model=model1, y_pred=temp, y_true=DRV_Jan2016['is_churn'])\n",
    "   \n",
    "    # Create a Dataframe of Train Results and Print Confusion Matrixes\n",
    "    train_all_results = train_all_results.append(temp_class.evaluate())\n",
    "    print('{}'.format(model_name))\n",
    "    print(temp_class.confusionmatrix())\n",
    "    print('')"
   ]
  },
  {
   "cell_type": "code",
   "execution_count": 20,
   "metadata": {},
   "outputs": [
    {
     "data": {
      "text/html": [
       "<div>\n",
       "<style scoped>\n",
       "    .dataframe tbody tr th:only-of-type {\n",
       "        vertical-align: middle;\n",
       "    }\n",
       "\n",
       "    .dataframe tbody tr th {\n",
       "        vertical-align: top;\n",
       "    }\n",
       "\n",
       "    .dataframe thead th {\n",
       "        text-align: right;\n",
       "    }\n",
       "</style>\n",
       "<table border=\"1\" class=\"dataframe\">\n",
       "  <thead>\n",
       "    <tr style=\"text-align: right;\">\n",
       "      <th></th>\n",
       "      <th>modelname</th>\n",
       "      <th>AUC</th>\n",
       "      <th>f1</th>\n",
       "      <th>precision</th>\n",
       "      <th>recall</th>\n",
       "      <th>error</th>\n",
       "    </tr>\n",
       "  </thead>\n",
       "  <tbody>\n",
       "    <tr>\n",
       "      <td>0</td>\n",
       "      <td>gbx1to1</td>\n",
       "      <td>0.872486</td>\n",
       "      <td>0.898477</td>\n",
       "      <td>0.817356</td>\n",
       "      <td>0.997486</td>\n",
       "      <td>0.179593</td>\n",
       "    </tr>\n",
       "    <tr>\n",
       "      <td>0</td>\n",
       "      <td>gbx3to1</td>\n",
       "      <td>0.858406</td>\n",
       "      <td>0.961793</td>\n",
       "      <td>0.932083</td>\n",
       "      <td>0.993469</td>\n",
       "      <td>0.071995</td>\n",
       "    </tr>\n",
       "    <tr>\n",
       "      <td>0</td>\n",
       "      <td>gbx5to1</td>\n",
       "      <td>0.868022</td>\n",
       "      <td>0.973698</td>\n",
       "      <td>0.954656</td>\n",
       "      <td>0.993524</td>\n",
       "      <td>0.050139</td>\n",
       "    </tr>\n",
       "    <tr>\n",
       "      <td>0</td>\n",
       "      <td>gbx7to1</td>\n",
       "      <td>0.861476</td>\n",
       "      <td>0.968065</td>\n",
       "      <td>0.944019</td>\n",
       "      <td>0.993379</td>\n",
       "      <td>0.060549</td>\n",
       "    </tr>\n",
       "    <tr>\n",
       "      <td>0</td>\n",
       "      <td>gbx9to1</td>\n",
       "      <td>0.857301</td>\n",
       "      <td>0.979301</td>\n",
       "      <td>0.966325</td>\n",
       "      <td>0.992640</td>\n",
       "      <td>0.039710</td>\n",
       "    </tr>\n",
       "    <tr>\n",
       "      <td>0</td>\n",
       "      <td>gbx11to1</td>\n",
       "      <td>0.801321</td>\n",
       "      <td>0.986398</td>\n",
       "      <td>0.983727</td>\n",
       "      <td>0.989094</td>\n",
       "      <td>0.026369</td>\n",
       "    </tr>\n",
       "    <tr>\n",
       "      <td>0</td>\n",
       "      <td>gbx13to1</td>\n",
       "      <td>0.761117</td>\n",
       "      <td>0.988773</td>\n",
       "      <td>0.990847</td>\n",
       "      <td>0.986718</td>\n",
       "      <td>0.021869</td>\n",
       "    </tr>\n",
       "  </tbody>\n",
       "</table>\n",
       "</div>"
      ],
      "text/plain": [
       "  modelname       AUC        f1  precision    recall     error\n",
       "0   gbx1to1  0.872486  0.898477   0.817356  0.997486  0.179593\n",
       "0   gbx3to1  0.858406  0.961793   0.932083  0.993469  0.071995\n",
       "0   gbx5to1  0.868022  0.973698   0.954656  0.993524  0.050139\n",
       "0   gbx7to1  0.861476  0.968065   0.944019  0.993379  0.060549\n",
       "0   gbx9to1  0.857301  0.979301   0.966325  0.992640  0.039710\n",
       "0  gbx11to1  0.801321  0.986398   0.983727  0.989094  0.026369\n",
       "0  gbx13to1  0.761117  0.988773   0.990847  0.986718  0.021869"
      ]
     },
     "execution_count": 20,
     "metadata": {},
     "output_type": "execute_result"
    }
   ],
   "source": [
    "train_all_results"
   ]
  },
  {
   "cell_type": "markdown",
   "metadata": {},
   "source": [
    "#### - <font color=blue>Evaluate Valuation Model: All Splits, XGB + GridCV </font> -"
   ]
  },
  {
   "cell_type": "code",
   "execution_count": 21,
   "metadata": {},
   "outputs": [
    {
     "name": "stdout",
     "output_type": "stream",
     "text": [
      "gbx1to1\n",
      "[[426173 102031]\n",
      " [  1571  18352]]\n",
      "\n",
      "gbx3to1\n",
      "[[491210  36994]\n",
      " [  4714  15209]]\n",
      "\n",
      "gbx5to1\n",
      "[[507790  20414]\n",
      " [  7481  12442]]\n",
      "\n",
      "gbx7to1\n",
      "[[510516  17688]\n",
      " [  8466  11457]]\n",
      "\n",
      "gbx9to1\n",
      "[[519327   8877]\n",
      " [ 10797   9126]]\n",
      "\n",
      "gbx11to1\n",
      "[[520290   7914]\n",
      " [ 11156   8767]]\n",
      "\n",
      "gbx13to1\n",
      "[[522139   6065]\n",
      " [ 12350   7573]]\n",
      "\n"
     ]
    }
   ],
   "source": [
    "# Validation Model Results\n",
    "validation_all_results = pd.DataFrame()\n",
    "\n",
    "# Create a Dataframe of Validation Results and Print Confusion Matrixes\n",
    "for model_name, model1 in ensembles_created.items():\n",
    "    \n",
    "    # Temporary Variables for our Loop\n",
    "    temp = model1.predict(DRV_Feb2016_scaled)\n",
    "    temp_class = ClassEvaluatorPandas(modelname=model_name, model=model1, y_pred=temp, y_true=DRV_Feb2016['is_churn'])\n",
    "\n",
    "    # Validation Results and Print Confusion Matrixes\n",
    "    validation_all_results = validation_all_results.append(temp_class.evaluate())\n",
    "    print('{}'.format(model_name))\n",
    "    print(temp_class.confusionmatrix())\n",
    "    print('')"
   ]
  },
  {
   "cell_type": "code",
   "execution_count": 22,
   "metadata": {},
   "outputs": [
    {
     "data": {
      "text/html": [
       "<div>\n",
       "<style scoped>\n",
       "    .dataframe tbody tr th:only-of-type {\n",
       "        vertical-align: middle;\n",
       "    }\n",
       "\n",
       "    .dataframe tbody tr th {\n",
       "        vertical-align: top;\n",
       "    }\n",
       "\n",
       "    .dataframe thead th {\n",
       "        text-align: right;\n",
       "    }\n",
       "</style>\n",
       "<table border=\"1\" class=\"dataframe\">\n",
       "  <thead>\n",
       "    <tr style=\"text-align: right;\">\n",
       "      <th></th>\n",
       "      <th>modelname</th>\n",
       "      <th>AUC</th>\n",
       "      <th>f1</th>\n",
       "      <th>precision</th>\n",
       "      <th>recall</th>\n",
       "      <th>error</th>\n",
       "    </tr>\n",
       "  </thead>\n",
       "  <tbody>\n",
       "    <tr>\n",
       "      <td>0</td>\n",
       "      <td>gbx1to1</td>\n",
       "      <td>0.863990</td>\n",
       "      <td>0.891619</td>\n",
       "      <td>0.806834</td>\n",
       "      <td>0.996327</td>\n",
       "      <td>0.189011</td>\n",
       "    </tr>\n",
       "    <tr>\n",
       "      <td>0</td>\n",
       "      <td>gbx3to1</td>\n",
       "      <td>0.846676</td>\n",
       "      <td>0.959270</td>\n",
       "      <td>0.929963</td>\n",
       "      <td>0.990495</td>\n",
       "      <td>0.076092</td>\n",
       "    </tr>\n",
       "    <tr>\n",
       "      <td>0</td>\n",
       "      <td>gbx5to1</td>\n",
       "      <td>0.792928</td>\n",
       "      <td>0.973262</td>\n",
       "      <td>0.961352</td>\n",
       "      <td>0.985481</td>\n",
       "      <td>0.050891</td>\n",
       "    </tr>\n",
       "    <tr>\n",
       "      <td>0</td>\n",
       "      <td>gbx7to1</td>\n",
       "      <td>0.770788</td>\n",
       "      <td>0.975019</td>\n",
       "      <td>0.966513</td>\n",
       "      <td>0.983687</td>\n",
       "      <td>0.047715</td>\n",
       "    </tr>\n",
       "    <tr>\n",
       "      <td>0</td>\n",
       "      <td>gbx9to1</td>\n",
       "      <td>0.720629</td>\n",
       "      <td>0.981405</td>\n",
       "      <td>0.983194</td>\n",
       "      <td>0.979633</td>\n",
       "      <td>0.035893</td>\n",
       "    </tr>\n",
       "    <tr>\n",
       "      <td>0</td>\n",
       "      <td>gbx11to1</td>\n",
       "      <td>0.712531</td>\n",
       "      <td>0.981998</td>\n",
       "      <td>0.985017</td>\n",
       "      <td>0.979008</td>\n",
       "      <td>0.034791</td>\n",
       "    </tr>\n",
       "    <tr>\n",
       "      <td>0</td>\n",
       "      <td>gbx13to1</td>\n",
       "      <td>0.684316</td>\n",
       "      <td>0.982666</td>\n",
       "      <td>0.988518</td>\n",
       "      <td>0.976894</td>\n",
       "      <td>0.033596</td>\n",
       "    </tr>\n",
       "  </tbody>\n",
       "</table>\n",
       "</div>"
      ],
      "text/plain": [
       "  modelname       AUC        f1  precision    recall     error\n",
       "0   gbx1to1  0.863990  0.891619   0.806834  0.996327  0.189011\n",
       "0   gbx3to1  0.846676  0.959270   0.929963  0.990495  0.076092\n",
       "0   gbx5to1  0.792928  0.973262   0.961352  0.985481  0.050891\n",
       "0   gbx7to1  0.770788  0.975019   0.966513  0.983687  0.047715\n",
       "0   gbx9to1  0.720629  0.981405   0.983194  0.979633  0.035893\n",
       "0  gbx11to1  0.712531  0.981998   0.985017  0.979008  0.034791\n",
       "0  gbx13to1  0.684316  0.982666   0.988518  0.976894  0.033596"
      ]
     },
     "execution_count": 22,
     "metadata": {},
     "output_type": "execute_result"
    }
   ],
   "source": [
    "validation_all_results"
   ]
  },
  {
   "cell_type": "markdown",
   "metadata": {},
   "source": [
    "#### <font color=purple>Generalization Between Train and Validation</font>"
   ]
  },
  {
   "cell_type": "code",
   "execution_count": 23,
   "metadata": {},
   "outputs": [
    {
     "data": {
      "text/html": [
       "<div>\n",
       "<style scoped>\n",
       "    .dataframe tbody tr th:only-of-type {\n",
       "        vertical-align: middle;\n",
       "    }\n",
       "\n",
       "    .dataframe tbody tr th {\n",
       "        vertical-align: top;\n",
       "    }\n",
       "\n",
       "    .dataframe thead th {\n",
       "        text-align: right;\n",
       "    }\n",
       "</style>\n",
       "<table border=\"1\" class=\"dataframe\">\n",
       "  <thead>\n",
       "    <tr style=\"text-align: right;\">\n",
       "      <th></th>\n",
       "      <th>AUC</th>\n",
       "      <th>f1</th>\n",
       "      <th>precision</th>\n",
       "      <th>recall</th>\n",
       "      <th>error</th>\n",
       "      <th>modelname</th>\n",
       "    </tr>\n",
       "  </thead>\n",
       "  <tbody>\n",
       "    <tr>\n",
       "      <td>0</td>\n",
       "      <td>0.008496</td>\n",
       "      <td>0.006858</td>\n",
       "      <td>0.010522</td>\n",
       "      <td>0.001159</td>\n",
       "      <td>-0.009418</td>\n",
       "      <td>gbx1to1</td>\n",
       "    </tr>\n",
       "    <tr>\n",
       "      <td>0</td>\n",
       "      <td>0.011731</td>\n",
       "      <td>0.002523</td>\n",
       "      <td>0.002121</td>\n",
       "      <td>0.002975</td>\n",
       "      <td>-0.004097</td>\n",
       "      <td>gbx3to1</td>\n",
       "    </tr>\n",
       "    <tr>\n",
       "      <td>0</td>\n",
       "      <td>0.075094</td>\n",
       "      <td>0.000435</td>\n",
       "      <td>-0.006696</td>\n",
       "      <td>0.008043</td>\n",
       "      <td>-0.000753</td>\n",
       "      <td>gbx5to1</td>\n",
       "    </tr>\n",
       "    <tr>\n",
       "      <td>0</td>\n",
       "      <td>0.076801</td>\n",
       "      <td>0.006106</td>\n",
       "      <td>0.002329</td>\n",
       "      <td>0.009824</td>\n",
       "      <td>-0.011727</td>\n",
       "      <td>gbx13to1</td>\n",
       "    </tr>\n",
       "    <tr>\n",
       "      <td>0</td>\n",
       "      <td>0.088791</td>\n",
       "      <td>0.004400</td>\n",
       "      <td>-0.001291</td>\n",
       "      <td>0.010086</td>\n",
       "      <td>-0.008422</td>\n",
       "      <td>gbx11to1</td>\n",
       "    </tr>\n",
       "    <tr>\n",
       "      <td>0</td>\n",
       "      <td>0.090687</td>\n",
       "      <td>-0.006954</td>\n",
       "      <td>-0.022494</td>\n",
       "      <td>0.009692</td>\n",
       "      <td>0.012834</td>\n",
       "      <td>gbx7to1</td>\n",
       "    </tr>\n",
       "    <tr>\n",
       "      <td>0</td>\n",
       "      <td>0.136672</td>\n",
       "      <td>-0.002104</td>\n",
       "      <td>-0.016869</td>\n",
       "      <td>0.013007</td>\n",
       "      <td>0.003816</td>\n",
       "      <td>gbx9to1</td>\n",
       "    </tr>\n",
       "  </tbody>\n",
       "</table>\n",
       "</div>"
      ],
      "text/plain": [
       "        AUC        f1  precision    recall     error modelname\n",
       "0  0.008496  0.006858   0.010522  0.001159 -0.009418   gbx1to1\n",
       "0  0.011731  0.002523   0.002121  0.002975 -0.004097   gbx3to1\n",
       "0  0.075094  0.000435  -0.006696  0.008043 -0.000753   gbx5to1\n",
       "0  0.076801  0.006106   0.002329  0.009824 -0.011727  gbx13to1\n",
       "0  0.088791  0.004400  -0.001291  0.010086 -0.008422  gbx11to1\n",
       "0  0.090687 -0.006954  -0.022494  0.009692  0.012834   gbx7to1\n",
       "0  0.136672 -0.002104  -0.016869  0.013007  0.003816   gbx9to1"
      ]
     },
     "execution_count": 23,
     "metadata": {},
     "output_type": "execute_result"
    }
   ],
   "source": [
    "results_all = train_all_results[train_all_results.columns[1:]] - validation_all_results[validation_all_results.columns[1:]]\n",
    "results_all['modelname'] = train_all_results['modelname']\n",
    "results_all.sort_values('AUC', ascending=True)"
   ]
  },
  {
   "cell_type": "markdown",
   "metadata": {},
   "source": [
    " "
   ]
  }
 ],
 "metadata": {
  "kernelspec": {
   "display_name": "Python 3",
   "language": "python",
   "name": "python3"
  },
  "language_info": {
   "codemirror_mode": {
    "name": "ipython",
    "version": 3
   },
   "file_extension": ".py",
   "mimetype": "text/x-python",
   "name": "python",
   "nbconvert_exporter": "python",
   "pygments_lexer": "ipython3",
   "version": "3.7.5"
  }
 },
 "nbformat": 4,
 "nbformat_minor": 4
}
