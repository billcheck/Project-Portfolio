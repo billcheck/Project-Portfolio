{
 "cells": [
  {
   "cell_type": "markdown",
   "metadata": {},
   "source": [
    "# Soccer's One Statistic To Rule Them All\n",
    "## Quantifying the Value of Individual Talent In A Largely, Unquantifiable Game"
   ]
  },
  {
   "cell_type": "markdown",
   "metadata": {},
   "source": [
    "It is of no surprise that when it comes to statistics the world’s most popular sport is a bit old fashion in comparison to its data-rich peers. People in soccer have historically paid little attention to statistics, arguing that the only way to judge players is to see them in action. What else would you expect from a game that is essentially one long continuous event? \n",
    "\n",
    "The main reason, in my opinion, that organizations in Baseball, Football, and Basketball have all fully embraced the statistical renaissance over the past two decades, is because their respective games can be broken down into discrete events. Each of these games is a culmination of starts and stops allowing each player to have a unique recorded statistic unique their position. On top of these individual recorded statistics, each sport also offers aggregate statistics that are quite accurate of a player’s overall performance:\n",
    "- **On Base Percentage (OBP)** is a Baseball statistic that refers to how frequently a batter reaches base per plate appearance. Times on base include hits, walks, and hit-by-pitches.\n",
    "- **Total Quarterback Rating (Total QBR)** is an American Football aggregate statistic that “incorporates all of a quarterback’s contributions to winning, including how he impacts the game on passes, rushes, turnovers, and penalties.”\n",
    "- **Player Efficiency Rating (PER)** is an aggregate statistic for the NBA strives to measure a player's per-minute performance, while adjusting for pace. PER takes into account accomplishments, such as field goals, free throws, 3-pointers, assists, rebounds, blocks and steals, and negative results, such as missed shots, turnovers and personal fouls. The NBA goes as far as even providing a categorical \"grade\" on different ranges of this statistic. You could know whether a player is a \"Runaway MVP Candidate\" or a \"Fringe Roster Player\" all from just a single number.\n",
    "\n",
    "![title](img/PER_NBA.jpg)\n",
    "\n",
    "These aggregate statistics allow a team owner to reasonably quantify a player’s overall impact on his/her team. Thus, if one can quantify a player’s individual performance along with their impact on a team then one can essentially quantify their market value while significantly reducing the downside on such an investment. Unfortunately for soccer club owners, they do not get to enjoy such privileged information. \n",
    "\n",
    "Analyzing soccer statistics is difficult because there are no magic-bullet figures like ***Player Efficiency Rating*** in basketball that can encapsulate a player’s overall ability. In a nutshell, the only individual statistics generated during a soccer match are a bit more rudimentary:\n",
    "\n",
    "    1) Who scored a goal and at what time\n",
    "\n",
    "    2) Who assisted the goal\n",
    "\n",
    "    3) How much distance did a player cover \n",
    "\n",
    "    4) What percentage of a player’s passes did they complete\n",
    "\n",
    "    5) How many goals did you allow (If you are a goalie.)\n",
    "\n",
    "That’s about all we get numerically. If you are a Striker or an Attacking Midfielder then ***goals scored*** and ***goals assisted per minute of gameplay*** are a decent way to quantify your production. However, if you are a Defending Midfielder or a Defending Back, there isn’t any statistic that could represent your performance. It is clear that judging talent in soccer, and assigning its respective monetary value, is a subjective art.\n",
    "\n",
    "### How can we quantify, unquantifiable value? How can we numerically represent subjective judgment?\n",
    "That’s what a lot of sports analysis is about: using data to learn things about the game that aren’t obvious and may even be counterintuitive.\n",
    "\n",
    "In pondering these questions I couldn’t think of a better source to start at than FIFA. FIFA (International Federation of Association Football) is the international governing body of association football, fútsal, beach soccer, and eFootball. They are responsible for the organization of football's major international tournaments, notably the World Cup. It’s safe to say they know quite a thing or two about the sport and interestingly enough they publish a video game every year.\n",
    "\n",
    "In this videogame, soccer players are rated over a large variety of categories so that when a game is simulated you could expect a somewhat accurate skill level respective to each individual player's talents. In essence, the good players play good and the bad players play bad. Although I do not believe this dataset is all-encompassing, I think it is a great start on how we could perhaps begin to quantify the subjective judgement of experts and start to gain insight on what makes a player valuable. Interestingly enough, the data also contains **Overall Player Rating** and **Value** metrics. \n",
    "\n",
    "Is **Overall Player Rating** the one statistic to rule them all for Soccer?! To answer this we need to know:\n",
    "\n",
    "    1) Is there a relationship between Overall Player Rating (OPR) and Value?\n",
    "    2) If so, What exactly influences Overall Player Rating?\n",
    "\n",
    "\n",
    "\n",
    "Let's explore the dataset."
   ]
  },
  {
   "cell_type": "code",
   "execution_count": 19,
   "metadata": {},
   "outputs": [],
   "source": [
    "import numpy as np\n",
    "from scipy import stats\n",
    "from scipy.interpolate import *\n",
    "import pandas as pd\n",
    "import matplotlib.pyplot as plt\n",
    "import seaborn as sns\n",
    "%matplotlib inline"
   ]
  },
  {
   "cell_type": "code",
   "execution_count": 20,
   "metadata": {},
   "outputs": [
    {
     "data": {
      "text/html": [
       "<div>\n",
       "<style scoped>\n",
       "    .dataframe tbody tr th:only-of-type {\n",
       "        vertical-align: middle;\n",
       "    }\n",
       "\n",
       "    .dataframe tbody tr th {\n",
       "        vertical-align: top;\n",
       "    }\n",
       "\n",
       "    .dataframe thead th {\n",
       "        text-align: right;\n",
       "    }\n",
       "</style>\n",
       "<table border=\"1\" class=\"dataframe\">\n",
       "  <thead>\n",
       "    <tr style=\"text-align: right;\">\n",
       "      <th></th>\n",
       "      <th>Unnamed: 0</th>\n",
       "      <th>ID</th>\n",
       "      <th>Name</th>\n",
       "      <th>Age</th>\n",
       "      <th>Photo</th>\n",
       "      <th>Nationality</th>\n",
       "      <th>Flag</th>\n",
       "      <th>Overall</th>\n",
       "      <th>Potential</th>\n",
       "      <th>Club</th>\n",
       "      <th>...</th>\n",
       "      <th>Composure</th>\n",
       "      <th>Marking</th>\n",
       "      <th>StandingTackle</th>\n",
       "      <th>SlidingTackle</th>\n",
       "      <th>GKDiving</th>\n",
       "      <th>GKHandling</th>\n",
       "      <th>GKKicking</th>\n",
       "      <th>GKPositioning</th>\n",
       "      <th>GKReflexes</th>\n",
       "      <th>Release Clause</th>\n",
       "    </tr>\n",
       "  </thead>\n",
       "  <tbody>\n",
       "    <tr>\n",
       "      <th>0</th>\n",
       "      <td>0</td>\n",
       "      <td>158023</td>\n",
       "      <td>L. Messi</td>\n",
       "      <td>31</td>\n",
       "      <td>https://cdn.sofifa.org/players/4/19/158023.png</td>\n",
       "      <td>Argentina</td>\n",
       "      <td>https://cdn.sofifa.org/flags/52.png</td>\n",
       "      <td>94</td>\n",
       "      <td>94</td>\n",
       "      <td>FC Barcelona</td>\n",
       "      <td>...</td>\n",
       "      <td>96.0</td>\n",
       "      <td>33.0</td>\n",
       "      <td>28.0</td>\n",
       "      <td>26.0</td>\n",
       "      <td>6.0</td>\n",
       "      <td>11.0</td>\n",
       "      <td>15.0</td>\n",
       "      <td>14.0</td>\n",
       "      <td>8.0</td>\n",
       "      <td>€226.5M</td>\n",
       "    </tr>\n",
       "    <tr>\n",
       "      <th>1</th>\n",
       "      <td>1</td>\n",
       "      <td>20801</td>\n",
       "      <td>Cristiano Ronaldo</td>\n",
       "      <td>33</td>\n",
       "      <td>https://cdn.sofifa.org/players/4/19/20801.png</td>\n",
       "      <td>Portugal</td>\n",
       "      <td>https://cdn.sofifa.org/flags/38.png</td>\n",
       "      <td>94</td>\n",
       "      <td>94</td>\n",
       "      <td>Juventus</td>\n",
       "      <td>...</td>\n",
       "      <td>95.0</td>\n",
       "      <td>28.0</td>\n",
       "      <td>31.0</td>\n",
       "      <td>23.0</td>\n",
       "      <td>7.0</td>\n",
       "      <td>11.0</td>\n",
       "      <td>15.0</td>\n",
       "      <td>14.0</td>\n",
       "      <td>11.0</td>\n",
       "      <td>€127.1M</td>\n",
       "    </tr>\n",
       "    <tr>\n",
       "      <th>2</th>\n",
       "      <td>2</td>\n",
       "      <td>190871</td>\n",
       "      <td>Neymar Jr</td>\n",
       "      <td>26</td>\n",
       "      <td>https://cdn.sofifa.org/players/4/19/190871.png</td>\n",
       "      <td>Brazil</td>\n",
       "      <td>https://cdn.sofifa.org/flags/54.png</td>\n",
       "      <td>92</td>\n",
       "      <td>93</td>\n",
       "      <td>Paris Saint-Germain</td>\n",
       "      <td>...</td>\n",
       "      <td>94.0</td>\n",
       "      <td>27.0</td>\n",
       "      <td>24.0</td>\n",
       "      <td>33.0</td>\n",
       "      <td>9.0</td>\n",
       "      <td>9.0</td>\n",
       "      <td>15.0</td>\n",
       "      <td>15.0</td>\n",
       "      <td>11.0</td>\n",
       "      <td>€228.1M</td>\n",
       "    </tr>\n",
       "    <tr>\n",
       "      <th>3</th>\n",
       "      <td>3</td>\n",
       "      <td>193080</td>\n",
       "      <td>De Gea</td>\n",
       "      <td>27</td>\n",
       "      <td>https://cdn.sofifa.org/players/4/19/193080.png</td>\n",
       "      <td>Spain</td>\n",
       "      <td>https://cdn.sofifa.org/flags/45.png</td>\n",
       "      <td>91</td>\n",
       "      <td>93</td>\n",
       "      <td>Manchester United</td>\n",
       "      <td>...</td>\n",
       "      <td>68.0</td>\n",
       "      <td>15.0</td>\n",
       "      <td>21.0</td>\n",
       "      <td>13.0</td>\n",
       "      <td>90.0</td>\n",
       "      <td>85.0</td>\n",
       "      <td>87.0</td>\n",
       "      <td>88.0</td>\n",
       "      <td>94.0</td>\n",
       "      <td>€138.6M</td>\n",
       "    </tr>\n",
       "    <tr>\n",
       "      <th>4</th>\n",
       "      <td>4</td>\n",
       "      <td>192985</td>\n",
       "      <td>K. De Bruyne</td>\n",
       "      <td>27</td>\n",
       "      <td>https://cdn.sofifa.org/players/4/19/192985.png</td>\n",
       "      <td>Belgium</td>\n",
       "      <td>https://cdn.sofifa.org/flags/7.png</td>\n",
       "      <td>91</td>\n",
       "      <td>92</td>\n",
       "      <td>Manchester City</td>\n",
       "      <td>...</td>\n",
       "      <td>88.0</td>\n",
       "      <td>68.0</td>\n",
       "      <td>58.0</td>\n",
       "      <td>51.0</td>\n",
       "      <td>15.0</td>\n",
       "      <td>13.0</td>\n",
       "      <td>5.0</td>\n",
       "      <td>10.0</td>\n",
       "      <td>13.0</td>\n",
       "      <td>€196.4M</td>\n",
       "    </tr>\n",
       "  </tbody>\n",
       "</table>\n",
       "<p>5 rows × 89 columns</p>\n",
       "</div>"
      ],
      "text/plain": [
       "   Unnamed: 0      ID               Name  Age  \\\n",
       "0           0  158023           L. Messi   31   \n",
       "1           1   20801  Cristiano Ronaldo   33   \n",
       "2           2  190871          Neymar Jr   26   \n",
       "3           3  193080             De Gea   27   \n",
       "4           4  192985       K. De Bruyne   27   \n",
       "\n",
       "                                            Photo Nationality  \\\n",
       "0  https://cdn.sofifa.org/players/4/19/158023.png   Argentina   \n",
       "1   https://cdn.sofifa.org/players/4/19/20801.png    Portugal   \n",
       "2  https://cdn.sofifa.org/players/4/19/190871.png      Brazil   \n",
       "3  https://cdn.sofifa.org/players/4/19/193080.png       Spain   \n",
       "4  https://cdn.sofifa.org/players/4/19/192985.png     Belgium   \n",
       "\n",
       "                                  Flag  Overall  Potential  \\\n",
       "0  https://cdn.sofifa.org/flags/52.png       94         94   \n",
       "1  https://cdn.sofifa.org/flags/38.png       94         94   \n",
       "2  https://cdn.sofifa.org/flags/54.png       92         93   \n",
       "3  https://cdn.sofifa.org/flags/45.png       91         93   \n",
       "4   https://cdn.sofifa.org/flags/7.png       91         92   \n",
       "\n",
       "                  Club  ... Composure Marking StandingTackle  SlidingTackle  \\\n",
       "0         FC Barcelona  ...      96.0    33.0           28.0           26.0   \n",
       "1             Juventus  ...      95.0    28.0           31.0           23.0   \n",
       "2  Paris Saint-Germain  ...      94.0    27.0           24.0           33.0   \n",
       "3    Manchester United  ...      68.0    15.0           21.0           13.0   \n",
       "4      Manchester City  ...      88.0    68.0           58.0           51.0   \n",
       "\n",
       "  GKDiving  GKHandling  GKKicking  GKPositioning GKReflexes Release Clause  \n",
       "0      6.0        11.0       15.0           14.0        8.0        €226.5M  \n",
       "1      7.0        11.0       15.0           14.0       11.0        €127.1M  \n",
       "2      9.0         9.0       15.0           15.0       11.0        €228.1M  \n",
       "3     90.0        85.0       87.0           88.0       94.0        €138.6M  \n",
       "4     15.0        13.0        5.0           10.0       13.0        €196.4M  \n",
       "\n",
       "[5 rows x 89 columns]"
      ]
     },
     "execution_count": 20,
     "metadata": {},
     "output_type": "execute_result"
    }
   ],
   "source": [
    "df = pd.read_csv('FIFA-19.csv')\n",
    "df.head()"
   ]
  },
  {
   "cell_type": "markdown",
   "metadata": {},
   "source": [
    "#### Preview Datatypes"
   ]
  },
  {
   "cell_type": "code",
   "execution_count": 21,
   "metadata": {},
   "outputs": [
    {
     "name": "stdout",
     "output_type": "stream",
     "text": [
      "<class 'pandas.core.frame.DataFrame'>\n",
      "RangeIndex: 18207 entries, 0 to 18206\n",
      "Data columns (total 89 columns):\n",
      "Unnamed: 0                  18207 non-null int64\n",
      "ID                          18207 non-null int64\n",
      "Name                        18207 non-null object\n",
      "Age                         18207 non-null int64\n",
      "Photo                       18207 non-null object\n",
      "Nationality                 18207 non-null object\n",
      "Flag                        18207 non-null object\n",
      "Overall                     18207 non-null int64\n",
      "Potential                   18207 non-null int64\n",
      "Club                        17966 non-null object\n",
      "Club Logo                   18207 non-null object\n",
      "Value                       18207 non-null object\n",
      "Wage                        18207 non-null object\n",
      "Special                     18207 non-null int64\n",
      "Preferred Foot              18159 non-null object\n",
      "International Reputation    18159 non-null float64\n",
      "Weak Foot                   18159 non-null float64\n",
      "Skill Moves                 18159 non-null float64\n",
      "Work Rate                   18159 non-null object\n",
      "Body Type                   18159 non-null object\n",
      "Real Face                   18159 non-null object\n",
      "Position                    18147 non-null object\n",
      "Jersey Number               18147 non-null float64\n",
      "Joined                      16654 non-null object\n",
      "Loaned From                 1264 non-null object\n",
      "Contract Valid Until        17918 non-null object\n",
      "Height                      18159 non-null object\n",
      "Weight                      18159 non-null object\n",
      "LS                          16122 non-null object\n",
      "ST                          16122 non-null object\n",
      "RS                          16122 non-null object\n",
      "LW                          16122 non-null object\n",
      "LF                          16122 non-null object\n",
      "CF                          16122 non-null object\n",
      "RF                          16122 non-null object\n",
      "RW                          16122 non-null object\n",
      "LAM                         16122 non-null object\n",
      "CAM                         16122 non-null object\n",
      "RAM                         16122 non-null object\n",
      "LM                          16122 non-null object\n",
      "LCM                         16122 non-null object\n",
      "CM                          16122 non-null object\n",
      "RCM                         16122 non-null object\n",
      "RM                          16122 non-null object\n",
      "LWB                         16122 non-null object\n",
      "LDM                         16122 non-null object\n",
      "CDM                         16122 non-null object\n",
      "RDM                         16122 non-null object\n",
      "RWB                         16122 non-null object\n",
      "LB                          16122 non-null object\n",
      "LCB                         16122 non-null object\n",
      "CB                          16122 non-null object\n",
      "RCB                         16122 non-null object\n",
      "RB                          16122 non-null object\n",
      "Crossing                    18159 non-null float64\n",
      "Finishing                   18159 non-null float64\n",
      "HeadingAccuracy             18159 non-null float64\n",
      "ShortPassing                18159 non-null float64\n",
      "Volleys                     18159 non-null float64\n",
      "Dribbling                   18159 non-null float64\n",
      "Curve                       18159 non-null float64\n",
      "FKAccuracy                  18159 non-null float64\n",
      "LongPassing                 18159 non-null float64\n",
      "BallControl                 18159 non-null float64\n",
      "Acceleration                18159 non-null float64\n",
      "SprintSpeed                 18159 non-null float64\n",
      "Agility                     18159 non-null float64\n",
      "Reactions                   18159 non-null float64\n",
      "Balance                     18159 non-null float64\n",
      "ShotPower                   18159 non-null float64\n",
      "Jumping                     18159 non-null float64\n",
      "Stamina                     18159 non-null float64\n",
      "Strength                    18159 non-null float64\n",
      "LongShots                   18159 non-null float64\n",
      "Aggression                  18159 non-null float64\n",
      "Interceptions               18159 non-null float64\n",
      "Positioning                 18159 non-null float64\n",
      "Vision                      18159 non-null float64\n",
      "Penalties                   18159 non-null float64\n",
      "Composure                   18159 non-null float64\n",
      "Marking                     18159 non-null float64\n",
      "StandingTackle              18159 non-null float64\n",
      "SlidingTackle               18159 non-null float64\n",
      "GKDiving                    18159 non-null float64\n",
      "GKHandling                  18159 non-null float64\n",
      "GKKicking                   18159 non-null float64\n",
      "GKPositioning               18159 non-null float64\n",
      "GKReflexes                  18159 non-null float64\n",
      "Release Clause              16643 non-null object\n",
      "dtypes: float64(38), int64(6), object(45)\n",
      "memory usage: 12.4+ MB\n"
     ]
    }
   ],
   "source": [
    "df.info()"
   ]
  },
  {
   "cell_type": "markdown",
   "metadata": {},
   "source": [
    "#### Prep 'Value' and 'Wage' Columns\n",
    "Remove '€','M','K' from 'Value' series as prep for conversion into numeric type. Since we have two units of measure in single column (Millions-'M' and Thousands-'K') we need to clean and then normalize values)"
   ]
  },
  {
   "cell_type": "code",
   "execution_count": 22,
   "metadata": {},
   "outputs": [
    {
     "data": {
      "text/html": [
       "<div>\n",
       "<style scoped>\n",
       "    .dataframe tbody tr th:only-of-type {\n",
       "        vertical-align: middle;\n",
       "    }\n",
       "\n",
       "    .dataframe tbody tr th {\n",
       "        vertical-align: top;\n",
       "    }\n",
       "\n",
       "    .dataframe thead th {\n",
       "        text-align: right;\n",
       "    }\n",
       "</style>\n",
       "<table border=\"1\" class=\"dataframe\">\n",
       "  <thead>\n",
       "    <tr style=\"text-align: right;\">\n",
       "      <th></th>\n",
       "      <th>Value</th>\n",
       "      <th>Wage</th>\n",
       "    </tr>\n",
       "  </thead>\n",
       "  <tbody>\n",
       "    <tr>\n",
       "      <th>0</th>\n",
       "      <td>€110.5M</td>\n",
       "      <td>€565K</td>\n",
       "    </tr>\n",
       "    <tr>\n",
       "      <th>1</th>\n",
       "      <td>€77M</td>\n",
       "      <td>€405K</td>\n",
       "    </tr>\n",
       "    <tr>\n",
       "      <th>2</th>\n",
       "      <td>€118.5M</td>\n",
       "      <td>€290K</td>\n",
       "    </tr>\n",
       "    <tr>\n",
       "      <th>3</th>\n",
       "      <td>€72M</td>\n",
       "      <td>€260K</td>\n",
       "    </tr>\n",
       "    <tr>\n",
       "      <th>4</th>\n",
       "      <td>€102M</td>\n",
       "      <td>€355K</td>\n",
       "    </tr>\n",
       "  </tbody>\n",
       "</table>\n",
       "</div>"
      ],
      "text/plain": [
       "     Value   Wage\n",
       "0  €110.5M  €565K\n",
       "1     €77M  €405K\n",
       "2  €118.5M  €290K\n",
       "3     €72M  €260K\n",
       "4    €102M  €355K"
      ]
     },
     "execution_count": 22,
     "metadata": {},
     "output_type": "execute_result"
    }
   ],
   "source": [
    "df[['Value','Wage']].head() #Check Head to see format"
   ]
  },
  {
   "cell_type": "code",
   "execution_count": 23,
   "metadata": {},
   "outputs": [
    {
     "data": {
      "text/html": [
       "<div>\n",
       "<style scoped>\n",
       "    .dataframe tbody tr th:only-of-type {\n",
       "        vertical-align: middle;\n",
       "    }\n",
       "\n",
       "    .dataframe tbody tr th {\n",
       "        vertical-align: top;\n",
       "    }\n",
       "\n",
       "    .dataframe thead th {\n",
       "        text-align: right;\n",
       "    }\n",
       "</style>\n",
       "<table border=\"1\" class=\"dataframe\">\n",
       "  <thead>\n",
       "    <tr style=\"text-align: right;\">\n",
       "      <th></th>\n",
       "      <th>Value</th>\n",
       "      <th>Wage</th>\n",
       "    </tr>\n",
       "  </thead>\n",
       "  <tbody>\n",
       "    <tr>\n",
       "      <th>18202</th>\n",
       "      <td>€60K</td>\n",
       "      <td>€1K</td>\n",
       "    </tr>\n",
       "    <tr>\n",
       "      <th>18203</th>\n",
       "      <td>€60K</td>\n",
       "      <td>€1K</td>\n",
       "    </tr>\n",
       "    <tr>\n",
       "      <th>18204</th>\n",
       "      <td>€60K</td>\n",
       "      <td>€1K</td>\n",
       "    </tr>\n",
       "    <tr>\n",
       "      <th>18205</th>\n",
       "      <td>€60K</td>\n",
       "      <td>€1K</td>\n",
       "    </tr>\n",
       "    <tr>\n",
       "      <th>18206</th>\n",
       "      <td>€60K</td>\n",
       "      <td>€1K</td>\n",
       "    </tr>\n",
       "  </tbody>\n",
       "</table>\n",
       "</div>"
      ],
      "text/plain": [
       "      Value Wage\n",
       "18202  €60K  €1K\n",
       "18203  €60K  €1K\n",
       "18204  €60K  €1K\n",
       "18205  €60K  €1K\n",
       "18206  €60K  €1K"
      ]
     },
     "execution_count": 23,
     "metadata": {},
     "output_type": "execute_result"
    }
   ],
   "source": [
    "df[['Value','Wage']].tail() #Check Tail to see format"
   ]
  },
  {
   "cell_type": "code",
   "execution_count": 24,
   "metadata": {},
   "outputs": [],
   "source": [
    "df['Value'] = df['Value'].apply(lambda x: x.split('€')[1]) #Remove Euro\n",
    "df['Value'] = df['Value'].apply(lambda x: x.split('M')[0] if 'M' in x else x) #Remove Millions Unit\n",
    "df['Value'] = df['Value'].apply(lambda x: x.split('K')[0]+'000' if 'K' in x else x) #Remove Thousands Unit and add three zeros\n",
    "df['Value'] = df['Value'].apply(lambda x: x.split('.')[0] + x.split('.')[1] + '00000' if '.' in x else x) #Split decimaled Millions values and add 5 zeros\n",
    "df['Value'] = df['Value'].apply(lambda x: x+'000000' if len(x) <= 3 else x) # Get the remaining Millions values and add 6 zeros"
   ]
  },
  {
   "cell_type": "markdown",
   "metadata": {},
   "source": [
    "#### Remove '€','K' from 'Wage' series and normalize values as prep for conversion into numeric type."
   ]
  },
  {
   "cell_type": "code",
   "execution_count": 25,
   "metadata": {},
   "outputs": [
    {
     "data": {
      "text/html": [
       "<div>\n",
       "<style scoped>\n",
       "    .dataframe tbody tr th:only-of-type {\n",
       "        vertical-align: middle;\n",
       "    }\n",
       "\n",
       "    .dataframe tbody tr th {\n",
       "        vertical-align: top;\n",
       "    }\n",
       "\n",
       "    .dataframe thead th {\n",
       "        text-align: right;\n",
       "    }\n",
       "</style>\n",
       "<table border=\"1\" class=\"dataframe\">\n",
       "  <thead>\n",
       "    <tr style=\"text-align: right;\">\n",
       "      <th></th>\n",
       "      <th>Value</th>\n",
       "      <th>Wage</th>\n",
       "    </tr>\n",
       "  </thead>\n",
       "  <tbody>\n",
       "    <tr>\n",
       "      <th>0</th>\n",
       "      <td>110500000</td>\n",
       "      <td>565000</td>\n",
       "    </tr>\n",
       "    <tr>\n",
       "      <th>1</th>\n",
       "      <td>77000000</td>\n",
       "      <td>405000</td>\n",
       "    </tr>\n",
       "    <tr>\n",
       "      <th>2</th>\n",
       "      <td>118500000</td>\n",
       "      <td>290000</td>\n",
       "    </tr>\n",
       "    <tr>\n",
       "      <th>3</th>\n",
       "      <td>72000000</td>\n",
       "      <td>260000</td>\n",
       "    </tr>\n",
       "    <tr>\n",
       "      <th>4</th>\n",
       "      <td>102000000</td>\n",
       "      <td>355000</td>\n",
       "    </tr>\n",
       "  </tbody>\n",
       "</table>\n",
       "</div>"
      ],
      "text/plain": [
       "       Value    Wage\n",
       "0  110500000  565000\n",
       "1   77000000  405000\n",
       "2  118500000  290000\n",
       "3   72000000  260000\n",
       "4  102000000  355000"
      ]
     },
     "execution_count": 25,
     "metadata": {},
     "output_type": "execute_result"
    }
   ],
   "source": [
    "df['Wage'] = df['Wage'].apply(lambda x: x.split('€')[1]) #Remove Euro\n",
    "df['Wage'] = df['Wage'].apply(lambda x: x.split('K')[0]+'000' if 'K' in x else x) #Remove Thousands Unit and add three zeros\n",
    "df[['Value','Wage']].head() #Check Head to see format"
   ]
  },
  {
   "cell_type": "code",
   "execution_count": 26,
   "metadata": {},
   "outputs": [
    {
     "data": {
      "text/html": [
       "<div>\n",
       "<style scoped>\n",
       "    .dataframe tbody tr th:only-of-type {\n",
       "        vertical-align: middle;\n",
       "    }\n",
       "\n",
       "    .dataframe tbody tr th {\n",
       "        vertical-align: top;\n",
       "    }\n",
       "\n",
       "    .dataframe thead th {\n",
       "        text-align: right;\n",
       "    }\n",
       "</style>\n",
       "<table border=\"1\" class=\"dataframe\">\n",
       "  <thead>\n",
       "    <tr style=\"text-align: right;\">\n",
       "      <th></th>\n",
       "      <th>Value</th>\n",
       "      <th>Wage</th>\n",
       "    </tr>\n",
       "  </thead>\n",
       "  <tbody>\n",
       "    <tr>\n",
       "      <th>18202</th>\n",
       "      <td>60000</td>\n",
       "      <td>1000</td>\n",
       "    </tr>\n",
       "    <tr>\n",
       "      <th>18203</th>\n",
       "      <td>60000</td>\n",
       "      <td>1000</td>\n",
       "    </tr>\n",
       "    <tr>\n",
       "      <th>18204</th>\n",
       "      <td>60000</td>\n",
       "      <td>1000</td>\n",
       "    </tr>\n",
       "    <tr>\n",
       "      <th>18205</th>\n",
       "      <td>60000</td>\n",
       "      <td>1000</td>\n",
       "    </tr>\n",
       "    <tr>\n",
       "      <th>18206</th>\n",
       "      <td>60000</td>\n",
       "      <td>1000</td>\n",
       "    </tr>\n",
       "  </tbody>\n",
       "</table>\n",
       "</div>"
      ],
      "text/plain": [
       "       Value  Wage\n",
       "18202  60000  1000\n",
       "18203  60000  1000\n",
       "18204  60000  1000\n",
       "18205  60000  1000\n",
       "18206  60000  1000"
      ]
     },
     "execution_count": 26,
     "metadata": {},
     "output_type": "execute_result"
    }
   ],
   "source": [
    "df[['Value','Wage']].tail() #Check Tail to see format"
   ]
  },
  {
   "cell_type": "markdown",
   "metadata": {},
   "source": [
    "#### Prep 'Weight' Columns. Remove 'lbs' and Return df without 'nan' values in weight column"
   ]
  },
  {
   "cell_type": "code",
   "execution_count": 27,
   "metadata": {},
   "outputs": [],
   "source": [
    "df['Weight'].value_counts() # Check overall format of Weight values\n",
    "df['Weight'] = df['Weight'].astype(str)\n",
    "df['Weight'] = df['Weight'].apply(lambda x: x[0:3])\n",
    "df = df[df['Weight'] != 'nan']"
   ]
  },
  {
   "cell_type": "markdown",
   "metadata": {},
   "source": [
    "#### Convert Object-type columns to numeric"
   ]
  },
  {
   "cell_type": "code",
   "execution_count": 28,
   "metadata": {},
   "outputs": [
    {
     "data": {
      "text/html": [
       "<div>\n",
       "<style scoped>\n",
       "    .dataframe tbody tr th:only-of-type {\n",
       "        vertical-align: middle;\n",
       "    }\n",
       "\n",
       "    .dataframe tbody tr th {\n",
       "        vertical-align: top;\n",
       "    }\n",
       "\n",
       "    .dataframe thead th {\n",
       "        text-align: right;\n",
       "    }\n",
       "</style>\n",
       "<table border=\"1\" class=\"dataframe\">\n",
       "  <thead>\n",
       "    <tr style=\"text-align: right;\">\n",
       "      <th></th>\n",
       "      <th>Value</th>\n",
       "      <th>Wage</th>\n",
       "    </tr>\n",
       "  </thead>\n",
       "  <tbody>\n",
       "    <tr>\n",
       "      <th>0</th>\n",
       "      <td>110.5</td>\n",
       "      <td>0.565</td>\n",
       "    </tr>\n",
       "    <tr>\n",
       "      <th>1</th>\n",
       "      <td>77.0</td>\n",
       "      <td>0.405</td>\n",
       "    </tr>\n",
       "    <tr>\n",
       "      <th>2</th>\n",
       "      <td>118.5</td>\n",
       "      <td>0.290</td>\n",
       "    </tr>\n",
       "    <tr>\n",
       "      <th>3</th>\n",
       "      <td>72.0</td>\n",
       "      <td>0.260</td>\n",
       "    </tr>\n",
       "    <tr>\n",
       "      <th>4</th>\n",
       "      <td>102.0</td>\n",
       "      <td>0.355</td>\n",
       "    </tr>\n",
       "  </tbody>\n",
       "</table>\n",
       "</div>"
      ],
      "text/plain": [
       "   Value   Wage\n",
       "0  110.5  0.565\n",
       "1   77.0  0.405\n",
       "2  118.5  0.290\n",
       "3   72.0  0.260\n",
       "4  102.0  0.355"
      ]
     },
     "execution_count": 28,
     "metadata": {},
     "output_type": "execute_result"
    }
   ],
   "source": [
    "df[['Value','Wage','International Reputation','Skill Moves','Weight']] = df[['Value','Wage','International Reputation','Skill Moves','Weight']].astype('int64')\n",
    "df[['Value','Wage']] = df[['Value','Wage']] / 1000000 # Normalize values as units in Millions\n",
    "df[['Value','Wage']].head()"
   ]
  },
  {
   "cell_type": "markdown",
   "metadata": {},
   "source": [
    "# Part 1: Is Overall Player Rating correlated to Value?\n",
    "## Overall Value (Overall Rating vs Value)"
   ]
  },
  {
   "cell_type": "markdown",
   "metadata": {},
   "source": [
    "First we will look at the overall relationship between ***Overall Rating / Value / Wage aka 'Overall Value'***\n"
   ]
  },
  {
   "cell_type": "code",
   "execution_count": 29,
   "metadata": {},
   "outputs": [
    {
     "data": {
      "text/html": [
       "<div>\n",
       "<style scoped>\n",
       "    .dataframe tbody tr th:only-of-type {\n",
       "        vertical-align: middle;\n",
       "    }\n",
       "\n",
       "    .dataframe tbody tr th {\n",
       "        vertical-align: top;\n",
       "    }\n",
       "\n",
       "    .dataframe thead th {\n",
       "        text-align: right;\n",
       "    }\n",
       "</style>\n",
       "<table border=\"1\" class=\"dataframe\">\n",
       "  <thead>\n",
       "    <tr style=\"text-align: right;\">\n",
       "      <th></th>\n",
       "      <th>Name</th>\n",
       "      <th>Overall</th>\n",
       "      <th>Value</th>\n",
       "    </tr>\n",
       "  </thead>\n",
       "  <tbody>\n",
       "    <tr>\n",
       "      <th>0</th>\n",
       "      <td>L. Messi</td>\n",
       "      <td>94</td>\n",
       "      <td>110.5</td>\n",
       "    </tr>\n",
       "    <tr>\n",
       "      <th>1</th>\n",
       "      <td>Cristiano Ronaldo</td>\n",
       "      <td>94</td>\n",
       "      <td>77.0</td>\n",
       "    </tr>\n",
       "    <tr>\n",
       "      <th>2</th>\n",
       "      <td>Neymar Jr</td>\n",
       "      <td>92</td>\n",
       "      <td>118.5</td>\n",
       "    </tr>\n",
       "    <tr>\n",
       "      <th>3</th>\n",
       "      <td>De Gea</td>\n",
       "      <td>91</td>\n",
       "      <td>72.0</td>\n",
       "    </tr>\n",
       "    <tr>\n",
       "      <th>4</th>\n",
       "      <td>K. De Bruyne</td>\n",
       "      <td>91</td>\n",
       "      <td>102.0</td>\n",
       "    </tr>\n",
       "  </tbody>\n",
       "</table>\n",
       "</div>"
      ],
      "text/plain": [
       "                Name  Overall  Value\n",
       "0           L. Messi       94  110.5\n",
       "1  Cristiano Ronaldo       94   77.0\n",
       "2          Neymar Jr       92  118.5\n",
       "3             De Gea       91   72.0\n",
       "4       K. De Bruyne       91  102.0"
      ]
     },
     "execution_count": 29,
     "metadata": {},
     "output_type": "execute_result"
    }
   ],
   "source": [
    "overall_value = df[['Name','Overall','Value']]\n",
    "overall_value.head()"
   ]
  },
  {
   "cell_type": "markdown",
   "metadata": {},
   "source": [
    "#### Overall Player Rating Distribution"
   ]
  },
  {
   "cell_type": "code",
   "execution_count": 30,
   "metadata": {},
   "outputs": [
    {
     "data": {
      "text/plain": [
       "Text(0.5, 0, 'Overall Player Rating')"
      ]
     },
     "execution_count": 30,
     "metadata": {},
     "output_type": "execute_result"
    },
    {
     "data": {
      "image/png": "[encoded data removed]",
      "text/plain": [
       "<Figure size 720x432 with 1 Axes>"
      ]
     },
     "metadata": {
      "needs_background": "light"
     },
     "output_type": "display_data"
    }
   ],
   "source": [
    "plt.figure(figsize=(10,6))\n",
    "plt.hist(overall_value['Overall'], bins=100)\n",
    "plt.title('Overall Player Rating Distribution')\n",
    "plt.ylabel('Total Counts')\n",
    "plt.xlabel('Overall Player Rating')"
   ]
  },
  {
   "cell_type": "code",
   "execution_count": 31,
   "metadata": {},
   "outputs": [
    {
     "data": {
      "text/plain": [
       "0.7384767883694036"
      ]
     },
     "execution_count": 31,
     "metadata": {},
     "output_type": "execute_result"
    }
   ],
   "source": [
    "# What percentage of Players are at or below a 70 Rating?\n",
    "sum(overall_value['Overall'] <=70) / overall_value['Overall'].count()"
   ]
  },
  {
   "cell_type": "markdown",
   "metadata": {},
   "source": [
    "To start things off we want to understand how the **Overall Player Ratings** are distributed. Looking at the chart we can observe that the data follows a normal distribution with the mean residing somewhere in the mid 60s. About 74% of players are at or below a rating of 70. "
   ]
  },
  {
   "cell_type": "markdown",
   "metadata": {},
   "source": [
    "#### Player Value Distribution"
   ]
  },
  {
   "cell_type": "code",
   "execution_count": 32,
   "metadata": {},
   "outputs": [
    {
     "name": "stdout",
     "output_type": "stream",
     "text": [
      "Total number of Players: 18159\n"
     ]
    },
    {
     "data": {
      "image/png": "[encoded data removed]",
      "text/plain": [
       "<Figure size 720x432 with 1 Axes>"
      ]
     },
     "metadata": {
      "needs_background": "light"
     },
     "output_type": "display_data"
    }
   ],
   "source": [
    "plt.figure(figsize=(10,6))\n",
    "\n",
    "plt.hist(overall_value['Value'], bins=25)\n",
    "\n",
    "plt.title('Distribution of all Player Value')\n",
    "plt.ylabel('Total Counts')\n",
    "plt.xlabel('Player Value ($ Millions)')\n",
    "plt.xlim((0,100))\n",
    "print(f\"Total number of Players: {overall_value['Value'].count()}\")"
   ]
  },
  {
   "cell_type": "markdown",
   "metadata": {},
   "source": [
    "Here we see that the distribution of Player Value is significantly skewed right. This makes sense as the majority of players should be on the lower spectrum of Value with the Elite few earning the Big Bucks. With the information so far I am expecting to see some type of exponential curve when both Rating and Value are plotted against each other"
   ]
  },
  {
   "cell_type": "markdown",
   "metadata": {},
   "source": [
    "#### Plot Overall Player Rating vs Value"
   ]
  },
  {
   "cell_type": "code",
   "execution_count": 33,
   "metadata": {},
   "outputs": [
    {
     "data": {
      "image/png": "[encoded data removed]",
      "text/plain": [
       "<Figure size 720x432 with 1 Axes>"
      ]
     },
     "metadata": {
      "needs_background": "light"
     },
     "output_type": "display_data"
    }
   ],
   "source": [
    "plt.figure(figsize=(10,6))\n",
    "g = sns.scatterplot(y='Value', \n",
    "                    x='Overall',\n",
    "                    data= overall_value)\n",
    "plt.title('Scatterplot: Overall Player Rating by Player Value in Millions')\n",
    "plt.ylabel('Player Value ($ Millions)')\n",
    "plt.xlabel('Overall Player Rating')\n",
    "plt.show()"
   ]
  },
  {
   "cell_type": "markdown",
   "metadata": {},
   "source": [
    "When comparing Value against Overall Player Rating we get what looks to be an exponential-logrithmic distribution. This is a very interesting result as it is starting to show that there could be a very clear relationship between Player Value and FIFA's subjective Overall Player Rating. With that said let's see if we can fit a line to this distribution and see if we can get some accurate information on its respective fit."
   ]
  },
  {
   "cell_type": "markdown",
   "metadata": {},
   "source": [
    "#### Let's try and see if we can fit a line to the plot"
   ]
  },
  {
   "cell_type": "code",
   "execution_count": 34,
   "metadata": {},
   "outputs": [
    {
     "data": {
      "text/plain": [
       "Text(0.5, 0, 'Overall Player Rating')"
      ]
     },
     "execution_count": 34,
     "metadata": {},
     "output_type": "execute_result"
    },
    {
     "data": {
      "image/png": "[encoded data removed]",
      "text/plain": [
       "<Figure size 720x432 with 1 Axes>"
      ]
     },
     "metadata": {
      "needs_background": "light"
     },
     "output_type": "display_data"
    }
   ],
   "source": [
    "plt.figure(figsize=(10,6))\n",
    "\n",
    "# Assign X and Y values to variables to make code easier to read\n",
    "y = overall_value['Value']\n",
    "x = overall_value['Overall']\n",
    "\n",
    "# Create coefficients\n",
    "p1 = np.polyfit(x,y,1)\n",
    "p2 = np.polyfit(x,y,2)\n",
    "p3 = np.polyfit(x,y,3)\n",
    "\n",
    "# Plot Polinomials\n",
    "plt.scatter(x,y)\n",
    "plt.plot(x,np.polyval(p1,x),'r-')\n",
    "plt.plot(x,np.polyval(p2,x),'b--')\n",
    "plt.plot(x,np.polyval(p3,x),'m-')\n",
    "\n",
    "plt.title('Scatterplot: Overall Player Rating by Player Value in Millions')\n",
    "plt.ylabel('Player Value ($ Millions)')\n",
    "plt.xlabel('Overall Player Rating')"
   ]
  },
  {
   "cell_type": "markdown",
   "metadata": {},
   "source": [
    "After plotting three lines and three different degree factors we are starting to see some form on our regression. **p3** seams to follow the shape curve closely, however let's see if we can improve that an tighten up the ends of the projection."
   ]
  },
  {
   "cell_type": "code",
   "execution_count": 35,
   "metadata": {},
   "outputs": [
    {
     "data": {
      "text/plain": [
       "Text(0.5, 0, 'Overall Player Rating')"
      ]
     },
     "execution_count": 35,
     "metadata": {},
     "output_type": "execute_result"
    },
    {
     "data": {
      "image/png": "[encoded data removed]",
      "text/plain": [
       "<Figure size 720x432 with 1 Axes>"
      ]
     },
     "metadata": {
      "needs_background": "light"
     },
     "output_type": "display_data"
    }
   ],
   "source": [
    "plt.figure(figsize=(10,6))\n",
    "\n",
    "# Create coefficients\n",
    "p3 = np.polyfit(x,y,3)\n",
    "p4 = np.polyfit(x,y,4)\n",
    "p5 = np.polyfit(x,y,5)\n",
    "\n",
    "# Plot Polinomials\n",
    "plt.scatter(x,y)\n",
    "#plt.plot(x,np.polyval(p3,x),'r-')\n",
    "plt.plot(x,np.polyval(p4,x),'b--')\n",
    "#plt.plot(x,np.polyval(p5,x),'m:')\n",
    "\n",
    "plt.title('Scatterplot: Overall Player Rating by Player Value in Millions')\n",
    "plt.ylabel('Player Value ($ Millions)')\n",
    "plt.xlabel('Overall Player Rating')"
   ]
  },
  {
   "cell_type": "markdown",
   "metadata": {},
   "source": [
    "**p4 and p5**, which are virtually the same curve, seems to slightly outperform **p3**. Let's take a look at r-squared values for both **p3 and p4** so we can determine 'goodness of fit' for each of the curves."
   ]
  },
  {
   "cell_type": "markdown",
   "metadata": {},
   "source": [
    "#### Calculate R-squared"
   ]
  },
  {
   "cell_type": "markdown",
   "metadata": {},
   "source": [
    "First we need to calculate p(x) for each of the curves.\n",
    "\n",
    "Essentially we need to fit a polynomial p(x) = p[0] * x^deg + ... + p[deg] of degree deg to points (x, y). "
   ]
  },
  {
   "cell_type": "code",
   "execution_count": 36,
   "metadata": {},
   "outputs": [
    {
     "name": "stdout",
     "output_type": "stream",
     "text": [
      "[ 2.56929419e-03 -4.68849708e-01  2.84018886e+01 -5.70537556e+02]\n",
      "[ 6.54199713e-05 -1.52087128e-02  1.32453820e+00 -5.11766478e+01\n",
      "  7.39782784e+02]\n"
     ]
    }
   ],
   "source": [
    "# Print coeefficients for p3 and p4\n",
    "print(p3)\n",
    "print(p4)"
   ]
  },
  {
   "cell_type": "code",
   "execution_count": 37,
   "metadata": {},
   "outputs": [
    {
     "name": "stdout",
     "output_type": "stream",
     "text": [
      "\n",
      "    r_sqrd_p3: 0.8854144000743374\n",
      "    r_sqrd_p4: 0.8970038783082243\n",
      "    \n"
     ]
    }
   ],
   "source": [
    "# Create p(x) for each curve with each respective set of coefficients and solve for r-squared\n",
    "yfit_p3 = p3[0] * x**3 + p3[1] * x**2 + p3[2] * x + p3[3]\n",
    "yresid_p3 = y - yfit_p3\n",
    "SSresid_p3 = sum(pow(yresid_p3,2))\n",
    "SStotal_p3 = len(y) * np.var(y)\n",
    "r_sqrd_p3 = 1 - SSresid_p3/SStotal_p3\n",
    "\n",
    "yfit_p4 = p4[0] * x**4 + p4[1] * x**3 + p4[2] * x**2 + p4[3] * x + p4[4]\n",
    "yresid_p4 = y - yfit_p4\n",
    "SSresid_p4 = sum(pow(yresid_p4,2))\n",
    "SStotal_p4 = len(y) * np.var(y)\n",
    "r_sqrd_p4 = 1 - SSresid_p4/SStotal_p4\n",
    "\n",
    "print(f'''\n",
    "    r_sqrd_p3: {r_sqrd_p3}\n",
    "    r_sqrd_p4: {r_sqrd_p4}\n",
    "    ''')"
   ]
  },
  {
   "cell_type": "markdown",
   "metadata": {},
   "source": [
    "I certainly was not expecting such high values! I do believe though that these high values are cause by the near-zero variation between **Value** and **Overall Player Rating** from 0 and 70. Let's look at the distribution again for **Overall Player Rating** "
   ]
  },
  {
   "cell_type": "code",
   "execution_count": 38,
   "metadata": {},
   "outputs": [
    {
     "data": {
      "text/plain": [
       "Text(0.5, 0, 'Overall Player Rating')"
      ]
     },
     "execution_count": 38,
     "metadata": {},
     "output_type": "execute_result"
    },
    {
     "data": {
      "image/png": "[encoded data removed]",
      "text/plain": [
       "<Figure size 720x432 with 1 Axes>"
      ]
     },
     "metadata": {
      "needs_background": "light"
     },
     "output_type": "display_data"
    }
   ],
   "source": [
    "plt.figure(figsize=(10,6))\n",
    "df['Overall'].hist(bins=25)\n",
    "plt.title('Overall Player Rating Distribution')\n",
    "plt.ylabel('Total Counts')\n",
    "plt.xlabel('Overall Player Rating')"
   ]
  },
  {
   "cell_type": "markdown",
   "metadata": {},
   "source": [
    "My fear with this is that with 3/4s of our data lying at or below a 70 player rating, this data might be skewing our goodness of fit values and thus not giving us an accurate understanding of the data relationship above a 70 rating. To be sure that Let's try a couple of things before we more forward, just to make sure we arent dealing with any bias:\n",
    "\n",
    "**1) Let's see how our current curve performs on a dataset where [Overall Player Rating** > 70]\n",
    "\n",
    "**2) Let's then create a New curve for a dataset where [Overall Player Rating** > 70]"
   ]
  },
  {
   "cell_type": "markdown",
   "metadata": {},
   "source": [
    "### Calculate new r-Squared with data @ **Overall Player Rating** > 70 on the using the same curve for **p3** and **p4**"
   ]
  },
  {
   "cell_type": "code",
   "execution_count": 39,
   "metadata": {},
   "outputs": [
    {
     "name": "stdout",
     "output_type": "stream",
     "text": [
      " Old r2:\n",
      "    r_sqrd_p3: 0.8854144000743374\n",
      "    r_sqrd_p4: 0.8970038783082243\n",
      "    \n",
      " New r2:\n",
      "    r_sqrd_p3: 0.8459396955492134\n",
      "    r_sqrd_p4: 0.8555368100665616\n",
      "    \n"
     ]
    }
   ],
   "source": [
    "print(f''' Old r2:\n",
    "    r_sqrd_p3: {r_sqrd_p3}\n",
    "    r_sqrd_p4: {r_sqrd_p4}\n",
    "    ''')\n",
    "\n",
    "# Return filtered dataset\n",
    "overall_value_Ove70 = overall_value[overall_value['Overall'] >70]\n",
    "y = overall_value_Ove70['Value']\n",
    "x = overall_value_Ove70['Overall']\n",
    "\n",
    "# Calculate r-squared for each polynomial\n",
    "yfit_p3 = p3[0] * x**3 + p3[1] * x**2 + p3[2] * x + p3[3]\n",
    "yresid_p3 = y - yfit_p3\n",
    "SSresid_p3 = sum(pow(yresid_p3,2))\n",
    "SStotal_p3 = len(y) * np.var(y)\n",
    "r_sqrd_p3 = 1 - SSresid_p3/SStotal_p3\n",
    "\n",
    "yfit_p4 = p4[0] * x**4 + p4[1] * x**3 + p4[2] * x**2 + p4[3] * x + p4[4]\n",
    "yresid_p4 = y - yfit_p4\n",
    "SSresid_p4 = sum(pow(yresid_p4,2))\n",
    "SStotal_p4 = len(y) * np.var(y)\n",
    "r_sqrd_p4 = 1 - SSresid_p4/SStotal_p4\n",
    "\n",
    "print(f''' New r2:\n",
    "    r_sqrd_p3: {r_sqrd_p3}\n",
    "    r_sqrd_p4: {r_sqrd_p4}\n",
    "    ''')"
   ]
  },
  {
   "cell_type": "markdown",
   "metadata": {},
   "source": [
    "We see that there is not much of a decrease on both **p3** and **p4** r-squared values meaning the lack of Sub-70 ratings didn't really affect the overall fit of our original curve.\n",
    "\n",
    "However just to cross our 'Ts' and dot our 'Is', let's refite a new cover to a distribution of **Overall Player Rating** >= 70'. Can we get a more accurate fit?"
   ]
  },
  {
   "cell_type": "markdown",
   "metadata": {},
   "source": [
    "### Re-fit curve to new distribution @ '**Overall Player Rating** >= 70' and calculate new r-squared "
   ]
  },
  {
   "cell_type": "code",
   "execution_count": 40,
   "metadata": {},
   "outputs": [
    {
     "data": {
      "text/plain": [
       "Text(0.5, 0, 'Overall Player Rating')"
      ]
     },
     "execution_count": 40,
     "metadata": {},
     "output_type": "execute_result"
    },
    {
     "data": {
      "image/png": "[encoded data removed]",
      "text/plain": [
       "<Figure size 720x432 with 1 Axes>"
      ]
     },
     "metadata": {
      "needs_background": "light"
     },
     "output_type": "display_data"
    }
   ],
   "source": [
    "plt.figure(figsize=(10,6))\n",
    "# Assign X and Y values to variables to make code easier to read\n",
    "overall_value_cust = overall_value[overall_value['Overall'] >70]\n",
    "y2 = overall_value_cust['Value']\n",
    "x2 = overall_value_cust['Overall']\n",
    "\n",
    "# Create coefficients\n",
    "p2 = np.polyfit(x2,y2,2)\n",
    "p3 = np.polyfit(x2,y2,3)\n",
    "p4 = np.polyfit(x2,y2,4)\n",
    "p5 = np.polyfit(x2,y2,5)\n",
    "\n",
    "# Plot Polinomials\n",
    "plt.scatter(x2,y2)\n",
    "plt.plot(x2,np.polyval(p1,x2),'r-')\n",
    "plt.plot(x2,np.polyval(p2,x2),'b--')\n",
    "plt.plot(x2,np.polyval(p3,x2),'m:')\n",
    "plt.plot(x2,np.polyval(p4,x2))\n",
    "\n",
    "plt.title('Scatterplot: Overall Player Rating by Player Value in Millions')\n",
    "plt.ylabel('Player Value ($ Millions)')\n",
    "plt.xlabel('Overall Player Rating')"
   ]
  },
  {
   "cell_type": "code",
   "execution_count": 41,
   "metadata": {},
   "outputs": [],
   "source": [
    "# Let's make our lives easier and create a function to calculate r-squared values\n",
    "\n",
    "def polyfit(x, y, degree):\n",
    "    results = {}\n",
    "\n",
    "    coeffs = np.polyfit(x, y, degree)\n",
    "\n",
    "    # Polynomial Coefficients\n",
    "    results['polynomial'] = coeffs.tolist()\n",
    "\n",
    "    # r-squared\n",
    "    p = np.poly1d(coeffs)\n",
    "    \n",
    "    # fit values, and mean\n",
    "    yhat = p(x)                      # or [p(z) for z in x]\n",
    "    ybar = np.sum(y)/len(y)          # or sum(y)/len(y)\n",
    "    ssreg = np.sum((yhat-ybar)**2)   # or sum([ (yihat - ybar)**2 for yihat in yhat])\n",
    "    sstot = np.sum((y - ybar)**2)    # or sum([ (yi - ybar)**2 for yi in y])\n",
    "    results['r-squared'] = ssreg / sstot\n",
    "\n",
    "    return results"
   ]
  },
  {
   "cell_type": "code",
   "execution_count": 42,
   "metadata": {},
   "outputs": [
    {
     "name": "stdout",
     "output_type": "stream",
     "text": [
      "New r2:\n",
      "    r_sqrd_p3: 0.8459396955492134\n",
      "    r_sqrd_p4: 0.8555368100665616\n",
      "    \n",
      "Even Newer r2\n",
      "0.8474401499941302\n",
      "0.8567092499619131\n",
      "0.8580557631215332\n",
      "0.8586776320826566\n"
     ]
    }
   ],
   "source": [
    "print(f'''New r2:\n",
    "    r_sqrd_p3: {r_sqrd_p3}\n",
    "    r_sqrd_p4: {r_sqrd_p4}\n",
    "    ''')\n",
    "print('Even Newer r2')\n",
    "print(polyfit(x2, y2, 2)['r-squared'])\n",
    "print(polyfit(x2, y2, 3)['r-squared'])\n",
    "print(polyfit(x2, y2, 4)['r-squared'])\n",
    "print(polyfit(x2, y2, 5)['r-squared'])"
   ]
  },
  {
   "cell_type": "markdown",
   "metadata": {},
   "source": [
    "Not much of an improvement at all (.003 increase). **Looks like our original curve is good enough!**"
   ]
  },
  {
   "cell_type": "markdown",
   "metadata": {},
   "source": [
    "### Thoughts thus far:\n",
    "1) There is a clear pattern between **Overall Player Rating** and **Value**. FIFA actually might be up to something on how they approach quantifying a player's level of talent.\n",
    "\n",
    "2) The data, however, takes into account every single position. **How would the overall relationship look like if segmented it by positiion? Do they have the same shape and r2 values?**"
   ]
  },
  {
   "cell_type": "markdown",
   "metadata": {},
   "source": [
    "# Let's re-look at the data segemented into Positions"
   ]
  },
  {
   "cell_type": "markdown",
   "metadata": {},
   "source": [
    "#### Looking at the unique positions we will start by creating 4 Groups and Analyzing them:\n",
    "\n",
    "1) Forwards/Attackers\n",
    "\n",
    "2) Midfielders\n",
    "- *Midfielders have many different roles with many specializing in attacking or defensive roles but for now we will group them*\n",
    "    \n",
    "3) Defense\n",
    "\n",
    "4) Goal Keepers"
   ]
  },
  {
   "cell_type": "code",
   "execution_count": 43,
   "metadata": {},
   "outputs": [
    {
     "data": {
      "text/plain": [
       "array(['RF', 'ST', 'LW', 'GK', 'RCM', 'LF', 'RS', 'RCB', 'LCM', 'CB',\n",
       "       'LDM', 'CAM', 'CDM', 'LS', 'LCB', 'RM', 'LAM', 'LM', 'LB', 'RDM',\n",
       "       'RW', 'CM', 'RB', 'RAM', 'CF', 'RWB', 'LWB', nan], dtype=object)"
      ]
     },
     "execution_count": 43,
     "metadata": {},
     "output_type": "execute_result"
    }
   ],
   "source": [
    "df['Position'].unique() # Return all unique positions"
   ]
  },
  {
   "cell_type": "code",
   "execution_count": 44,
   "metadata": {},
   "outputs": [],
   "source": [
    "# Create a function to Categorize all unique positions\n",
    "def pos_groups(x):\n",
    "    if x in ['RF','ST','LW','LF','RW','CF','LS','RS']:\n",
    "        return 'Forwards'\n",
    "    elif x in ['RCM','LCM','LDM','CAM','CDM','RM','LAM','LM','RDM','CM','RAM']:\n",
    "        return 'Midfielders'\n",
    "    elif x in ['RCB', 'CB','LCB','LB','RB','RWB','LWB']:\n",
    "        return 'Defense'\n",
    "    elif x in ['GK']:\n",
    "        return 'GK'\n",
    "    else:\n",
    "        return 'nan'"
   ]
  },
  {
   "cell_type": "code",
   "execution_count": 45,
   "metadata": {},
   "outputs": [],
   "source": [
    "# Create New column of 'Position' Categoricals\n",
    "df['Position_Grp'] = df['Position'].apply(pos_groups)\n",
    "#df['Position_Grp'].head()"
   ]
  },
  {
   "cell_type": "code",
   "execution_count": 46,
   "metadata": {},
   "outputs": [],
   "source": [
    "# Create unique dataframes for each category\n",
    "df_For = df[df['Position_Grp'] == 'Forwards']\n",
    "df_Mid = df[df['Position_Grp'] == 'Midfielders']\n",
    "df_Def = df[df['Position_Grp'] == 'Defense']\n",
    "df_GK = df[df['Position_Grp'] == 'GK']"
   ]
  },
  {
   "cell_type": "code",
   "execution_count": 47,
   "metadata": {},
   "outputs": [
    {
     "data": {
      "image/png": "[encoded data removed]",
      "text/plain": [
       "<Figure size 720x432 with 4 Axes>"
      ]
     },
     "metadata": {
      "needs_background": "light"
     },
     "output_type": "display_data"
    }
   ],
   "source": [
    "# Plot all four Rating vs Value plots side-by-side\n",
    "\n",
    "plt.figure(figsize=(10,6))\n",
    "plt.subplot(2, 2, 1)\n",
    "plt.scatter(df_For['Overall'], df_For['Value'])\n",
    "plt.title('Overall Player Rating vs Value - for each Position')\n",
    "plt.xlabel('Forward - Overall Player Rating')\n",
    "plt.ylabel('Value')\n",
    "\n",
    "plt.subplot(2, 2, 2)\n",
    "plt.scatter(df_Mid['Overall'], df_Mid['Value'])\n",
    "plt.xlabel('Midfielder - Overall Player Rating')\n",
    "\n",
    "plt.subplot(2, 2, 3)\n",
    "plt.scatter(df_Def['Overall'], df_Def['Value'])\n",
    "plt.xlabel('Defense - Overall Player Rating')\n",
    "plt.ylabel('Value')\n",
    "\n",
    "plt.subplot(2, 2, 4)\n",
    "plt.scatter(df_GK['Overall'], df_GK['Value'])\n",
    "plt.xlabel('Goalkeeper - Overall Player Rating')\n",
    "\n",
    "plt.tight_layout()\n",
    "plt.show()"
   ]
  },
  {
   "cell_type": "markdown",
   "metadata": {},
   "source": [
    "Although they all seem to have the same shape, it is interesting to notice the ranges and ceilings of Value for each of the respective groups."
   ]
  },
  {
   "cell_type": "markdown",
   "metadata": {},
   "source": [
    "#### Let's look at the respective r-squared values for each to see if we can make some improvement on fit from the categorization"
   ]
  },
  {
   "cell_type": "code",
   "execution_count": 48,
   "metadata": {},
   "outputs": [
    {
     "name": "stdout",
     "output_type": "stream",
     "text": [
      "Forward r-squared values:\n",
      "0.9261247214527929\n",
      "0.9337758784872169\n",
      "0.9346273555444908\n",
      "\n",
      "Midfield r-squared values:\n",
      "0.91665433403724\n",
      "0.9296397873749167\n",
      "0.930090438150569\n",
      "\n",
      "Defense r-squared values:\n",
      "0.8830511172220764\n",
      "0.8850962765160025\n",
      "0.8865381529581978\n",
      "\n",
      "Goalkeepers r-squared values:\n",
      "0.8569146801142397\n",
      "0.8791743520841292\n",
      "0.8811004465255952\n",
      "\n",
      "Best Performing r-squared value w/o 'Position' categorization\n",
      "0.8586776320826566\n"
     ]
    }
   ],
   "source": [
    "for x,y in [(df_For,'Forward'),(df_Mid,'Midfield'),(df_Def,'Defense'),(df_GK,'Goalkeepers')]:\n",
    "    print(f'{y} r-squared values:')\n",
    "    print(polyfit(x['Overall'], x['Value'], 3)['r-squared'])\n",
    "    print(polyfit(x['Overall'], x['Value'], 4)['r-squared'])\n",
    "    print(polyfit(x['Overall'], x['Value'], 5)['r-squared'])\n",
    "    print('')\n",
    "\n",
    "print('''Best Performing r-squared value w/o 'Position' categorization''')\n",
    "print(polyfit(x2, y2, 5)['r-squared'])"
   ]
  },
  {
   "cell_type": "markdown",
   "metadata": {},
   "source": [
    "Categorizing by 'Postion Group' **slightly increased the fit for Goalkeepers and Defense** while **Significally increasing the the fit for Forwards and Midfielders.** All in all improvements across the board!\n",
    "\n",
    "However this presents a great opportunity to get a bit more granular in our analysis. Due to the difference in r-squared values and the subtle differences in their plot, ***could player salaries based on position?***"
   ]
  },
  {
   "cell_type": "markdown",
   "metadata": {},
   "source": [
    "### Could the average Forward expect a different salary than the average Goal Keeper?"
   ]
  },
  {
   "cell_type": "markdown",
   "metadata": {},
   "source": [
    "#### **Two-Sample T-Test**\n",
    "\n",
    "**Ho = Means are Equal**\n",
    "\n",
    "**Ha = Means are Not Equal.**\n",
    "\n",
    "Calculate the respective P-value measures of Center and Spread for all positions ($ - Millions)"
   ]
  },
  {
   "cell_type": "code",
   "execution_count": 49,
   "metadata": {},
   "outputs": [
    {
     "name": "stdout",
     "output_type": "stream",
     "text": [
      "Forward vs GK P-value: 8.298252953427176e-18\n",
      "Forward vs GK t-Stat:  8.625096146294421\n"
     ]
    }
   ],
   "source": [
    "#Conduct Two Sample T-Test\n",
    "t, p = stats.ttest_ind(df_For['Value'], df_GK['Value'], equal_var=False)\n",
    "\n",
    "print(f'Forward vs GK P-value: {p}')\n",
    "print(f'Forward vs GK t-Stat:  {t}')"
   ]
  },
  {
   "cell_type": "markdown",
   "metadata": {},
   "source": [
    "Taking the P-value into consideration, we can considerably prove that both distributions are of different populations due to the statstical significance of the near zero value. Thus to answer our question: Yes, the average Forward is expected to make more than the Average Goalkeeper as they of different populations.\n",
    "\n",
    "However, Since we are dealing with population data, conducting a t-test is insignificant as we are dealing with Population Data and not Sample Data. Just from their measures of center and spread we can easily tell that the Values of Forwards and Goal Keepers are of different populations. In fact, both Forwards and Midfielders are expected to make more than Defenders and Goal Keepers."
   ]
  },
  {
   "cell_type": "code",
   "execution_count": 50,
   "metadata": {},
   "outputs": [
    {
     "name": "stdout",
     "output_type": "stream",
     "text": [
      "Forwards - Value Stats:\n",
      "Mode: 1.1\n",
      "Mean: 2.9841559391457113\n",
      "Std: 7.395815537953407\n",
      "        \n",
      "Midefielder - Value Stats:\n",
      "Mode: 1.1\n",
      "Mean: 2.7606390757531276\n",
      "Std: 5.890612586011158\n",
      "        \n",
      "Defense - Value Stats:\n",
      "Mode: 0.375\n",
      "Mean: 1.9751380838731902\n",
      "Std: 4.106420509545942\n",
      "        \n",
      "Goal Keeper - Value Stats:\n",
      "Mode: 0.375\n",
      "Mean: 1.5858148148148217\n",
      "Std: 4.562890613825053\n",
      "        \n"
     ]
    }
   ],
   "source": [
    "#Calculate measures of center and spread for each position\n",
    "For_mean = df_For['Value'].mean()\n",
    "For_mode = df_For['Value'].mode()\n",
    "For_std = df_For['Value'].std()\n",
    "\n",
    "Mid_mean = df_Mid['Value'].mean()\n",
    "Mid_mode = df_Mid['Value'].mode()\n",
    "Mid_std = df_Mid['Value'].std()\n",
    "\n",
    "Def_mean = df_Def['Value'].mean()\n",
    "Def_mode = df_Def['Value'].mode()\n",
    "Def_std = df_Def['Value'].std()\n",
    "\n",
    "GK_mean = df_GK['Value'].mean()\n",
    "GK_mode = df_GK['Value'].mode()\n",
    "GK_std = df_GK['Value'].std()\n",
    "\n",
    "# Print results\n",
    "print('Forwards - Value Stats:')\n",
    "print(f'Mode: {For_mode[0]}')\n",
    "print(f'Mean: {For_mean}')\n",
    "print(f'''Std: {For_std}\n",
    "        ''')\n",
    "\n",
    "print('Midefielder - Value Stats:')\n",
    "print(f'Mode: {Mid_mode[0]}')\n",
    "print(f'Mean: {Mid_mean}')\n",
    "print(f'''Std: {Mid_std}\n",
    "        ''')\n",
    "\n",
    "print('Defense - Value Stats:')\n",
    "print(f'Mode: {Def_mode[0]}')\n",
    "print(f'Mean: {Def_mean}')\n",
    "print(f'''Std: {Def_std}\n",
    "        ''')\n",
    "\n",
    "print('Goal Keeper - Value Stats:')\n",
    "print(f'Mode: {GK_mode[0]}')\n",
    "print(f'Mean: {GK_mean}')\n",
    "print(f'''Std: {GK_std}\n",
    "        ''')"
   ]
  },
  {
   "cell_type": "markdown",
   "metadata": {},
   "source": [
    "## Overall Player Rating vs Value - Conclusions and Becoming a Soccer Club Owner\n",
    "\n",
    "As in a Free Market, the Value of a Soccer Player is determined by a mutually agreed upon price between two team owners. Keeping in mind that ***the only way to judge players is to see them in action***, and a sheer lack of depth in statistics, it seems as if a player's value is largely subjective. However from our analysis, FIFA's **Overall Player Rating** seems to be an exceptional metric at quantifying this subjective ambiguity of talent Value. \n",
    "\n",
    "Putting myself in the position of a Soccer Club Owner I would certainly find this interesting as I could more accurately assess the true value of my players along with the prospective ones. I would be able to see whether or not they are over/undervalued and better approach my acquisition and transfer decisions. But before we get ahead of ourselves, as an owner I would like to know more about the statistic. Specifically, what are skill and talent attributes (Speed, Shot Accuracy, Vision, Etc..) of a player that influence **Overall Player Rating and Value**. How do these influencial skill and talent attributes vary from one position group to another?\n",
    "\n",
    "Knowing this type of information can really transform a soccer organization in two main aspects:\n",
    "- **Talent Acquisition**\n",
    "    - A team owner could improve his scouting and acquisition initiatives by having a concrete value to look for, complimenting his 'subjective feeling' of a player.\n",
    "    \n",
    "\n",
    "- **Talent Development**\n",
    "    - A team could more efficiently develop players by focusing on the right attributes for development based on their position.\n",
    "    - This not only allows for a more talented team, but it significantly helps the *business* of running a Soccer Club by having a more valuable stock to offer for transfer ('sale' in soccer terms). \n",
    "\n",
    "Although a team's main goal is to win, club's are ultimately in the business of acquiring, developing, and selling talent. Leveraging what we know so far, **what if we could understand exactly what influences OPR respective to each position?**\n",
    "\n",
    "Having this kind of unprecedented statistical insight could be a game changer for the business. Let's look and see what we can find!"
   ]
  },
  {
   "cell_type": "markdown",
   "metadata": {},
   "source": [
    "# Part 2: What exactly influences Overall Player Rating?"
   ]
  },
  {
   "cell_type": "markdown",
   "metadata": {},
   "source": [
    "#### Let's take a look at all the skill attributes we have to work with"
   ]
  },
  {
   "cell_type": "code",
   "execution_count": 51,
   "metadata": {},
   "outputs": [
    {
     "data": {
      "text/plain": [
       "Index(['Unnamed: 0', 'ID', 'Name', 'Age', 'Photo', 'Nationality', 'Flag',\n",
       "       'Overall', 'Potential', 'Club', 'Club Logo', 'Value', 'Wage', 'Special',\n",
       "       'Preferred Foot', 'International Reputation', 'Weak Foot',\n",
       "       'Skill Moves', 'Work Rate', 'Body Type', 'Real Face', 'Position',\n",
       "       'Jersey Number', 'Joined', 'Loaned From', 'Contract Valid Until',\n",
       "       'Height', 'Weight', 'LS', 'ST', 'RS', 'LW', 'LF', 'CF', 'RF', 'RW',\n",
       "       'LAM', 'CAM', 'RAM', 'LM', 'LCM', 'CM', 'RCM', 'RM', 'LWB', 'LDM',\n",
       "       'CDM', 'RDM', 'RWB', 'LB', 'LCB', 'CB', 'RCB', 'RB', 'Crossing',\n",
       "       'Finishing', 'HeadingAccuracy', 'ShortPassing', 'Volleys', 'Dribbling',\n",
       "       'Curve', 'FKAccuracy', 'LongPassing', 'BallControl', 'Acceleration',\n",
       "       'SprintSpeed', 'Agility', 'Reactions', 'Balance', 'ShotPower',\n",
       "       'Jumping', 'Stamina', 'Strength', 'LongShots', 'Aggression',\n",
       "       'Interceptions', 'Positioning', 'Vision', 'Penalties', 'Composure',\n",
       "       'Marking', 'StandingTackle', 'SlidingTackle', 'GKDiving', 'GKHandling',\n",
       "       'GKKicking', 'GKPositioning', 'GKReflexes', 'Release Clause',\n",
       "       'Position_Grp'],\n",
       "      dtype='object')"
      ]
     },
     "execution_count": 51,
     "metadata": {},
     "output_type": "execute_result"
    }
   ],
   "source": [
    "df.columns"
   ]
  },
  {
   "cell_type": "markdown",
   "metadata": {},
   "source": [
    "#### Looking at the shear amount of columns, it would be best to split them up into seperate relative groups to make them easier to visualize:\n",
    "    1) Overall Player Rating vs Player's Style of Play\n",
    "    \n",
    "    2) Overall Player Rating vs Player's Off Ball Skills\n",
    "    \n",
    "    3) Overall Player Rating vs Player's On Ball Skills\n",
    "\n",
    "    4) Overall Player Rating vs Physical Talents"
   ]
  },
  {
   "cell_type": "markdown",
   "metadata": {},
   "source": [
    "#### Let's redistribute the skill attributes into their respective Skill Groups and assign them to All positions"
   ]
  },
  {
   "cell_type": "code",
   "execution_count": 52,
   "metadata": {},
   "outputs": [],
   "source": [
    "# For each position, assign attributes to each skill group\n",
    "For_style_play = df_For[['Overall','Composure','Aggression','Position_Grp']].reset_index() # Reset Index on all DataFrames to avoid any index errors when looping\n",
    "For_off_ball = df_For[['Overall','Interceptions', 'Positioning', 'Vision', 'Penalties','Marking','StandingTackle','SlidingTackle','Position_Grp']].reset_index()\n",
    "For_on_ball = df_For[['Overall', 'Finishing', 'HeadingAccuracy', 'ShortPassing', 'Volleys', 'Dribbling', 'Curve', 'FKAccuracy', 'LongPassing', 'BallControl','Position_Grp']].reset_index()\n",
    "For_phys_talent = df_For[['Overall', 'Weight','Acceleration','SprintSpeed', 'Agility', 'Reactions', 'Balance', 'ShotPower','Jumping', 'Stamina', 'Strength','Position_Grp']].reset_index()\n",
    "\n",
    "Forwards = [For_style_play, For_off_ball, For_on_ball, For_phys_talent] #Create a list of all skill groups for each position\n",
    "\n",
    "Mid_style_play = df_Mid[['Overall','Composure','Aggression','Position_Grp']].reset_index()\n",
    "Mid_off_ball = df_Mid[['Overall','Interceptions', 'Positioning', 'Vision', 'Penalties','Marking','StandingTackle','SlidingTackle','Position_Grp']].reset_index()\n",
    "Mid_on_ball = df_Mid[['Overall', 'Finishing', 'HeadingAccuracy', 'ShortPassing', 'Volleys', 'Dribbling', 'Curve', 'FKAccuracy', 'LongPassing', 'BallControl','Position_Grp']].reset_index()\n",
    "Mid_phys_talent = df_Mid[['Overall', 'Weight','Acceleration','SprintSpeed', 'Agility', 'Reactions', 'Balance', 'ShotPower','Jumping', 'Stamina', 'Strength','Position_Grp']].reset_index()\n",
    "\n",
    "Midfielders = [Mid_style_play, Mid_off_ball, Mid_on_ball, Mid_phys_talent]\n",
    "\n",
    "Def_style_play = df_Def[['Overall','Composure','Aggression','Position_Grp']].reset_index()\n",
    "Def_off_ball = df_Def[['Overall','Interceptions', 'Positioning', 'Vision', 'Penalties','Marking','StandingTackle','SlidingTackle','Position_Grp']].reset_index()\n",
    "Def_on_ball = df_Def[['Overall', 'Finishing', 'HeadingAccuracy', 'ShortPassing', 'Volleys', 'Dribbling', 'Curve', 'FKAccuracy', 'LongPassing', 'BallControl','Position_Grp']].reset_index()\n",
    "Def_phys_talent = df_Def[['Overall', 'Weight','Acceleration','SprintSpeed', 'Agility', 'Reactions', 'Balance', 'ShotPower','Jumping', 'Stamina', 'Strength','Position_Grp']].reset_index()\n",
    "\n",
    "Defense = [Def_style_play, Def_off_ball, Def_on_ball, Def_phys_talent]\n",
    "\n",
    "GK_style_play = df_GK[['Overall','Composure','Aggression','Position_Grp']].reset_index()\n",
    "GK_off_ball = df_GK[['Overall','Interceptions', 'Positioning', 'Vision', 'Penalties','Marking','StandingTackle','SlidingTackle','Position_Grp']].reset_index()\n",
    "GK_on_ball = df_GK[['Overall', 'Finishing', 'HeadingAccuracy', 'ShortPassing', 'Volleys', 'Dribbling', 'Curve', 'FKAccuracy', 'LongPassing', 'BallControl','Position_Grp']].reset_index()\n",
    "GK_phys_talent = df_GK[['Overall', 'Weight','Acceleration','SprintSpeed', 'Agility', 'Reactions', 'Balance', 'ShotPower','Jumping', 'Stamina', 'Strength','Position_Grp']].reset_index()\n",
    "\n",
    "GK = [GK_style_play, GK_off_ball, GK_on_ball, GK_phys_talent]"
   ]
  },
  {
   "cell_type": "code",
   "execution_count": 53,
   "metadata": {},
   "outputs": [],
   "source": [
    "#Assign Position integer to help with future loop function\n",
    "For_style_play['Pos'], For_off_ball['Pos'], For_on_ball['Pos'], For_phys_talent['Pos']  = 0,1,2,3\n",
    "Mid_style_play['Pos'], Mid_off_ball['Pos'], Mid_on_ball['Pos'], Mid_phys_talent['Pos']  = 0,1,2,3\n",
    "Def_style_play['Pos'], Def_off_ball['Pos'], Def_on_ball['Pos'], Def_phys_talent['Pos']  = 0,1,2,3\n",
    "GK_style_play['Pos'], GK_off_ball['Pos'], GK_on_ball['Pos'], GK_phys_talent['Pos']  = 0,1,2,3"
   ]
  },
  {
   "cell_type": "markdown",
   "metadata": {},
   "source": [
    "#### Create an Aggregate DataFrame for each Skill Group so we can consolidate all results"
   ]
  },
  {
   "cell_type": "code",
   "execution_count": 54,
   "metadata": {},
   "outputs": [
    {
     "data": {
      "text/html": [
       "<div>\n",
       "<style scoped>\n",
       "    .dataframe tbody tr th:only-of-type {\n",
       "        vertical-align: middle;\n",
       "    }\n",
       "\n",
       "    .dataframe tbody tr th {\n",
       "        vertical-align: top;\n",
       "    }\n",
       "\n",
       "    .dataframe thead tr th {\n",
       "        text-align: left;\n",
       "    }\n",
       "\n",
       "    .dataframe thead tr:last-of-type th {\n",
       "        text-align: right;\n",
       "    }\n",
       "</style>\n",
       "<table border=\"1\" class=\"dataframe\">\n",
       "  <thead>\n",
       "    <tr>\n",
       "      <th></th>\n",
       "      <th colspan=\"2\" halign=\"left\">Composure</th>\n",
       "      <th colspan=\"2\" halign=\"left\">Aggression</th>\n",
       "    </tr>\n",
       "    <tr>\n",
       "      <th></th>\n",
       "      <th>r</th>\n",
       "      <th>r2</th>\n",
       "      <th>r</th>\n",
       "      <th>r2</th>\n",
       "    </tr>\n",
       "    <tr>\n",
       "      <th>Position</th>\n",
       "      <th></th>\n",
       "      <th></th>\n",
       "      <th></th>\n",
       "      <th></th>\n",
       "    </tr>\n",
       "  </thead>\n",
       "  <tbody>\n",
       "    <tr>\n",
       "      <th>Forwards</th>\n",
       "      <td>NaN</td>\n",
       "      <td>NaN</td>\n",
       "      <td>NaN</td>\n",
       "      <td>NaN</td>\n",
       "    </tr>\n",
       "    <tr>\n",
       "      <th>Midfielders</th>\n",
       "      <td>NaN</td>\n",
       "      <td>NaN</td>\n",
       "      <td>NaN</td>\n",
       "      <td>NaN</td>\n",
       "    </tr>\n",
       "    <tr>\n",
       "      <th>Defense</th>\n",
       "      <td>NaN</td>\n",
       "      <td>NaN</td>\n",
       "      <td>NaN</td>\n",
       "      <td>NaN</td>\n",
       "    </tr>\n",
       "    <tr>\n",
       "      <th>GK</th>\n",
       "      <td>NaN</td>\n",
       "      <td>NaN</td>\n",
       "      <td>NaN</td>\n",
       "      <td>NaN</td>\n",
       "    </tr>\n",
       "  </tbody>\n",
       "</table>\n",
       "</div>"
      ],
      "text/plain": [
       "            Composure      Aggression     \n",
       "                    r   r2          r   r2\n",
       "Position                                  \n",
       "Forwards          NaN  NaN        NaN  NaN\n",
       "Midfielders       NaN  NaN        NaN  NaN\n",
       "Defense           NaN  NaN        NaN  NaN\n",
       "GK                NaN  NaN        NaN  NaN"
      ]
     },
     "execution_count": 54,
     "metadata": {},
     "output_type": "execute_result"
    }
   ],
   "source": [
    "mux = pd.MultiIndex.from_product([For_style_play.columns[2:-2], ['r','r2']])\n",
    "StylePlayAgg = pd.DataFrame(columns=mux)\n",
    "StylePlayAgg[\"Position\"] = ['Forwards','Midfielders','Defense','GK']\n",
    "StylePlayAgg.set_index('Position',inplace=True)\n",
    "\n",
    "mux = pd.MultiIndex.from_product([For_off_ball.columns[2:-2], ['r','r2']])\n",
    "OffBallAgg = pd.DataFrame(columns=mux)\n",
    "OffBallAgg[\"Position\"] = ['Forwards','Midfielders','Defense','GK']\n",
    "OffBallAgg.set_index('Position',inplace=True)\n",
    "\n",
    "mux = pd.MultiIndex.from_product([For_on_ball.columns[2:-2], ['r','r2']])\n",
    "OnBallAgg = pd.DataFrame(columns=mux)\n",
    "OnBallAgg[\"Position\"] = ['Forwards','Midfielders','Defense','GK']\n",
    "OnBallAgg.set_index('Position',inplace=True)\n",
    "\n",
    "mux = pd.MultiIndex.from_product([For_phys_talent.columns[2:-2], ['r','r2']])\n",
    "PhysTalentAgg = pd.DataFrame(columns=mux)\n",
    "PhysTalentAgg[\"Position\"] = ['Forwards','Midfielders','Defense','GK']\n",
    "PhysTalentAgg.set_index('Position',inplace=True)\n",
    "\n",
    "#Create List of Aggregates in the same order of Skill Groups\n",
    "aggregates = [StylePlayAgg, OffBallAgg, OnBallAgg, PhysTalentAgg]\n",
    "\n",
    "#Return empty DataFrame to check format\n",
    "StylePlayAgg"
   ]
  },
  {
   "cell_type": "markdown",
   "metadata": {},
   "source": [
    "#### Create a Dataframe for each Skill Group Aggregate populated with data respective to each position"
   ]
  },
  {
   "cell_type": "code",
   "execution_count": 55,
   "metadata": {},
   "outputs": [
    {
     "name": "stderr",
     "output_type": "stream",
     "text": [
      "C:\\Users\\dango\\AppData\\Local\\Continuum\\anaconda3\\lib\\site-packages\\pandas\\core\\generic.py:3812: PerformanceWarning: dropping on a non-lexsorted multi-index without a level parameter may impact performance.\n",
      "  new_axis = axis.drop(labels, errors=errors)\n"
     ]
    }
   ],
   "source": [
    "# A for-loop to build out each Aggregate Table\n",
    "for pos_skill_groups in [Forwards, Midfielders, Defense, GK]:       # Select Skill Group collection for a Position\n",
    "    for skill_group in pos_skill_groups:                            # Select single Skill Group from collection\n",
    "        for column in skill_group.columns[1:-2]:                    # Select Column from Skill Group dataframe\n",
    "            slope, intercept, r_value, p_value, std_err = stats.linregress(skill_group['Overall'],skill_group[column])\n",
    "            aggregates[skill_group['Pos'][0]].loc[skill_group['Position_Grp'][0],(column,'r')] = r_value\n",
    "            aggregates[skill_group['Pos'][0]].loc[skill_group['Position_Grp'][0],(column,'r2')] = r_value**2\n",
    "\n",
    "# Drop All 'Overall' Columns\n",
    "for agg in aggregates:\n",
    "    agg.drop('Overall', axis=1, inplace=True)"
   ]
  },
  {
   "cell_type": "markdown",
   "metadata": {},
   "source": [
    "# Report Conclusion - Subjectivity Quantified"
   ]
  },
  {
   "cell_type": "markdown",
   "metadata": {},
   "source": [
    "![title](img/Rating_vs_Skill_Correlations.png)"
   ]
  },
  {
   "cell_type": "markdown",
   "metadata": {},
   "source": [
    "These graphs represent the beginning of a framework that can drastically impact the entire sport of Soccer. We now have statistically verified the relationship between talent and value including the individual factors that specifically influence the relationship. However, to best sum up our findings, it would help to see its impact from the perspective of the most important person involved, the guy with the money.\n",
    "\n",
    "**The Soccer Club Owner**\n",
    "\n",
    "The first thing that I would do as an owner with this information is reach out to, or even poach, the individuals involved with this rating system from FIFA. The goal would be to replicate this system for my organization all while diving deep into the methodology of how the ratings are determined. How do they go about quantifying talent? As we spoke about before, doing this would allow me to enhance all Talent Acquisition (over/undervalue) and Development operations for my club. \n",
    "\n",
    "Time is THE most valuable resource, and with data like this we can invest it properly into the development of players by focusing on what they specifically need. Whether that's investing more into certain drills for Forwards to increase their ***Shot Passing** game, working with my Midfielders to improve their ***Long Passing*** abilities, or even hiring sport psychologists to help build ***Composure and Aggressiveness*** in my Defenders. These are just some of the many position-specific attributes that are associated with a higher rating.\n",
    "\n",
    "## Research Proposal - Putting these findings into action\n",
    "\n",
    "### The Problem\n",
    "I understand that most *traditional* coaches would be reluctant towards completely changing their coaching paradigm solely based on some data. However, as we discovered we now have a framework for them to understand a simple question whether or not they choose to act on the information: ***Are my players out-growing other players in terms of Overall Player Rating and Value?***\n",
    "\n",
    "For the coach who is looking bring out the most value from his players, how can he do so?\n",
    "\n",
    "### The Problem Solution\n",
    "By focusing on developing each position's most OPR-correlated attributes, the ***participating player's*** change in OPR will out-perform the change of OPR from similar players.\n",
    "\n",
    "### The Method Of Testing The Solution\n",
    "I propose conducting an A/B test by having all participating teams select a player or group of players (whoever they are willing to experiment on) from any position with an OPR of ~65.(This will make our comparison much more thorough as the majority of players are gathered around that rating thus giving us a better population to test against). Each team will design a custom training regimen which focuses on specifically developing the player’s highly, OPR-correlated positional attributes. After a complete season we will compare the new revised ratings of all these players against their counterparts to evaluate their comparative progression.\n",
    " \n",
    "\n",
    "**Setup For each participating team:**\n",
    "- Take note of all ***participating players*** with their respective OPRs.\n",
    "- For each of those ***participating players*** use the current database to gather all players that are of the same position and that have the same OPR to create cohorts which will be used for future comparison. These will be referred to as ***player cohorts***.\n",
    "- Religiously execute on the specialized training protocol over the course of the season.\n",
    "\n",
    "After 1 Season, for each individual participating player, Create list of updated OPRs for each player in the cohort along with the ***participating player's*** new OPR.\n",
    "\n",
    "**Setting up the Experiment - Two-Tailed, One Sample T-Test w/ a 95% Confidence Interval**\n",
    "\n",
    "***Hypotheses:*** \n",
    "    \n",
    "    Ho: New Pop. Mean = New Player Rating\n",
    "\n",
    "    Ha: New Pop. Mean != New Player Rating\n",
    "\n",
    "We want to evaluate whether the participating player's change in OPR, whether positive or negative, is statistically significant in comparison to his cohort's comparison odf OPRs. To do this we will run a *Two-Tailed, One Sample T-Test.*\n",
    "\n",
    "**Evaluating the Experiment**\n",
    "\n",
    "After running the statistical test there are three possible outcomes that we can get. Here is how we interpret the results:\n",
    "\n",
    "1) Compared to his cohort, the ***participating player outperformed his cohort*** with statistically significance\n",
    "    - t-Test Results: p-Value is less than .05 and t-Test is less than 0\n",
    "    - Reject the null-hypothesis and 'behave as if' the alternative hypothesis is true\n",
    "    \n",
    "2) Compared to his cohort, the ***participating player fell behind his cohort*** his cohort with statistically significance\n",
    "    - t-Test Results: p-Value is less than .05 and t-Test is greater than 0   \n",
    "    - Reject the null-hypothesis and 'behave as if' the alternative hypothesis is true\n",
    "    \n",
    "3) Compared to his cohort, the ***participating player neither outperformed nor fell behind his cohort***.\n",
    "    - t-Test Results: p-Value is greater than .05  \n",
    "    - Fail Reject the null-hypothesis"
   ]
  },
  {
   "cell_type": "markdown",
   "metadata": {},
   "source": [
    "## Wrapping it up: Further Explorations\n",
    "\n",
    "This investigation was largely done in the perspective of a Soccer Club Owner trying to figure out how one could get on edge in their business of Talent Acquisition and Development. I believe that the next logical step for investigation is to look at this from an actual Team perspective and how each of these individual players contributes as a whole to the success of an organization. It would be interesting to see if there is a relationship between a collection of players and the number of wins they have. Just like how we were able to begin to deconstruct the components of a valuable player, perhaps we can do the same for a successful team and perhaps even disect matchups to create an optimal player lineup for each game.\n",
    "\n",
    "Shapley values seem like they would be a very useful research tool for this setting. As we start accurately quantifying players, leveraging Shapely values could help us better understand who really contributes to the team. In theory, it would be Moneyball ;)"
   ]
  },
  {
   "cell_type": "code",
   "execution_count": null,
   "metadata": {},
   "outputs": [],
   "source": []
  }
 ],
 "metadata": {
  "kernelspec": {
   "display_name": "Python 3",
   "language": "python",
   "name": "python3"
  },
  "language_info": {
   "codemirror_mode": {
    "name": "ipython",
    "version": 3
   },
   "file_extension": ".py",
   "mimetype": "text/x-python",
   "name": "python",
   "nbconvert_exporter": "python",
   "pygments_lexer": "ipython3",
   "version": "3.7.3"
  }
 },
 "nbformat": 4,
 "nbformat_minor": 2
}
