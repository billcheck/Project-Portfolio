{
 "cells": [
  {
   "cell_type": "markdown",
   "metadata": {},
   "source": [
    "## Foot Locker Data Analyst Questions - Business Optimization\n",
    "\n",
    "**Candidate Name:** Daniel Jurado\n",
    "\n",
    "**Date Completed:** 2/6/2020"
   ]
  },
  {
   "cell_type": "markdown",
   "metadata": {},
   "source": [
    "----"
   ]
  },
  {
   "cell_type": "markdown",
   "metadata": {},
   "source": [
    "## Question 1"
   ]
  },
  {
   "cell_type": "markdown",
   "metadata": {},
   "source": [
    "**Question 1a:**\n",
    "\n"
   ]
  },
  {
   "cell_type": "code",
   "execution_count": null,
   "metadata": {},
   "outputs": [],
   "source": [
    "# I am assuming 'sales' is per each 'unit' and NOT total sales of all units.\n",
    "\n",
    "SELECT\n",
    "\tstore_id,\n",
    "\tSUM(sales)*SUM(units) as Total_Sales,\n",
    "\tSUM(units) as Total_Units,\n",
    "\tSUM(sales)*SUM(units) - SUM(cogs)*SUM(units) as Total_Profit\n",
    "FROM\n",
    "\tOrder_Detail\n",
    "GROUP BY store_id\n",
    "ORDER BY Total_Profit DESC"
   ]
  },
  {
   "cell_type": "markdown",
   "metadata": {},
   "source": [
    "\n",
    "**Question 1b:**\n",
    "\n",
    "\n",
    "\n"
   ]
  },
  {
   "cell_type": "code",
   "execution_count": null,
   "metadata": {},
   "outputs": [],
   "source": [
    "SELECT\n",
    "\tstore_id,\n",
    "\tproduct,\n",
    "\tSUM(sales)*SUM(units) as Total_Sales,\n",
    "\tSUM(units) as Total_Units,\n",
    "\tSUM(sales)*SUM(units) - SUM(cogs)*SUM(units) as Total_Profit\n",
    "FROM\n",
    "\tOrder_Detail\n",
    "GROUP BY store_id, product\n",
    "ORDER BY store_id ASC"
   ]
  },
  {
   "cell_type": "markdown",
   "metadata": {},
   "source": [
    "\n",
    "**Question 1c:**\n",
    "\n"
   ]
  },
  {
   "cell_type": "code",
   "execution_count": null,
   "metadata": {},
   "outputs": [],
   "source": [
    "SELECT\n",
    "\ttime_stamp,\n",
    "\tstore_id,\n",
    "\tproduct,\n",
    "\tSUM(sales)*SUM(units) as Total_Sales,\n",
    "\tSUM(units) as Total_Units,\n",
    "\tSUM(sales)*SUM(units) - SUM(cogs)*SUM(units) as Total_Profit\n",
    "FROM\n",
    "\tOrder_Detail\n",
    "GROUP BY store_id, product, time_stamp\n",
    "ORDER BY time_stamp, store_id ASC"
   ]
  },
  {
   "cell_type": "markdown",
   "metadata": {},
   "source": [
    "\n",
    "**Question 1d:**\n",
    "\n"
   ]
  },
  {
   "cell_type": "code",
   "execution_count": null,
   "metadata": {},
   "outputs": [],
   "source": [
    "# Jan 3, 2017 is the first Tuesday of the year.\n",
    "\n",
    "SELECT\n",
    "\t(orders.time_stamp - DATE('2017-01-03'))/7 as Week_Number,\n",
    "\torders.store_id,\n",
    "\tproducts.cat_name,\n",
    "\tSUM(orders.sales)*SUM(units) as Total_Sales,\n",
    "\tSUM(orders.units) as Total_Units,\n",
    "\tSUM(orders.sales)*SUM(orders.units) - SUM(orders.cogs)*SUM(orders.units) as Total_Profit\n",
    "FROM\n",
    "\tOrder_Detail orders\n",
    "LEFT JOIN\n",
    "\tProduct_Detail products\n",
    "ON\n",
    "\torders.product = products.product\n",
    "GROUP BY orders.store_id, products.cat_name, Week_Number\n",
    "ORDER BY Week_Number, store_id ASC"
   ]
  },
  {
   "cell_type": "markdown",
   "metadata": {},
   "source": [
    "\n",
    "**Question 1e:**"
   ]
  },
  {
   "cell_type": "markdown",
   "metadata": {},
   "source": [
    "Haha, you got me with this one. Some Observations:\n",
    "\n",
    "- There is a key_interval with a value of 00000000. However no Documentation exisits.\n",
    "\n",
    "- I also Left join to see if any of the tables didnt match up.\n",
    "\n",
    "- There are duplicate '10000001' invoice IDs. However as the documentation states 'multiple items can be purchased with each invoice' so that is not an issue.\n",
    "\n",
    "- Each invoice_id has a unique invoice_line although those numbers do not flow in order as the invoice_id does.\n",
    "\n",
    "- All variables are casted correctly"
   ]
  },
  {
   "cell_type": "markdown",
   "metadata": {},
   "source": [
    "## Question 2\n",
    "Question 1 Disclaimer: The required output for this question is the correct SQL code and query results as a markdown table, you may use any dialect of SQL you wish, but submissions in any other language will be considered incorrect.\n",
    "\n",
    "Thus I will be using python for this question."
   ]
  },
  {
   "cell_type": "code",
   "execution_count": 1,
   "metadata": {},
   "outputs": [],
   "source": [
    "# Import pandas library \n",
    "import pandas as pd "
   ]
  },
  {
   "cell_type": "code",
   "execution_count": 2,
   "metadata": {},
   "outputs": [
    {
     "data": {
      "text/html": [
       "<div>\n",
       "<style scoped>\n",
       "    .dataframe tbody tr th:only-of-type {\n",
       "        vertical-align: middle;\n",
       "    }\n",
       "\n",
       "    .dataframe tbody tr th {\n",
       "        vertical-align: top;\n",
       "    }\n",
       "\n",
       "    .dataframe thead th {\n",
       "        text-align: right;\n",
       "    }\n",
       "</style>\n",
       "<table border=\"1\" class=\"dataframe\">\n",
       "  <thead>\n",
       "    <tr style=\"text-align: right;\">\n",
       "      <th></th>\n",
       "      <th>product</th>\n",
       "      <th>tags</th>\n",
       "    </tr>\n",
       "  </thead>\n",
       "  <tbody>\n",
       "    <tr>\n",
       "      <th>0</th>\n",
       "      <td>100</td>\n",
       "      <td>shoes, hats</td>\n",
       "    </tr>\n",
       "    <tr>\n",
       "      <th>1</th>\n",
       "      <td>101</td>\n",
       "      <td>shoes, socks</td>\n",
       "    </tr>\n",
       "    <tr>\n",
       "      <th>2</th>\n",
       "      <td>102</td>\n",
       "      <td>accessories</td>\n",
       "    </tr>\n",
       "  </tbody>\n",
       "</table>\n",
       "</div>"
      ],
      "text/plain": [
       "   product          tags\n",
       "0      100   shoes, hats\n",
       "1      101  shoes, socks\n",
       "2      102   accessories"
      ]
     },
     "execution_count": 2,
     "metadata": {},
     "output_type": "execute_result"
    }
   ],
   "source": [
    "# Create table for Product Attributes\n",
    "attributes = {'product':[100,101,102], 'tags':['shoes, hats','shoes, socks','accessories']} \n",
    "  \n",
    "# Create the pandas DataFrame \n",
    "attributes = pd.DataFrame(attributes) \n",
    "  \n",
    "# print dataframe. \n",
    "attributes"
   ]
  },
  {
   "cell_type": "code",
   "execution_count": 3,
   "metadata": {},
   "outputs": [
    {
     "data": {
      "text/html": [
       "<div>\n",
       "<style scoped>\n",
       "    .dataframe tbody tr th:only-of-type {\n",
       "        vertical-align: middle;\n",
       "    }\n",
       "\n",
       "    .dataframe tbody tr th {\n",
       "        vertical-align: top;\n",
       "    }\n",
       "\n",
       "    .dataframe thead th {\n",
       "        text-align: right;\n",
       "    }\n",
       "</style>\n",
       "<table border=\"1\" class=\"dataframe\">\n",
       "  <thead>\n",
       "    <tr style=\"text-align: right;\">\n",
       "      <th></th>\n",
       "      <th>customer</th>\n",
       "      <th>product</th>\n",
       "    </tr>\n",
       "  </thead>\n",
       "  <tbody>\n",
       "    <tr>\n",
       "      <th>0</th>\n",
       "      <td>A</td>\n",
       "      <td>100</td>\n",
       "    </tr>\n",
       "    <tr>\n",
       "      <th>1</th>\n",
       "      <td>A</td>\n",
       "      <td>101</td>\n",
       "    </tr>\n",
       "    <tr>\n",
       "      <th>2</th>\n",
       "      <td>B</td>\n",
       "      <td>101</td>\n",
       "    </tr>\n",
       "    <tr>\n",
       "      <th>3</th>\n",
       "      <td>C</td>\n",
       "      <td>100</td>\n",
       "    </tr>\n",
       "    <tr>\n",
       "      <th>4</th>\n",
       "      <td>C</td>\n",
       "      <td>102</td>\n",
       "    </tr>\n",
       "    <tr>\n",
       "      <th>5</th>\n",
       "      <td>B</td>\n",
       "      <td>101</td>\n",
       "    </tr>\n",
       "    <tr>\n",
       "      <th>6</th>\n",
       "      <td>A</td>\n",
       "      <td>100</td>\n",
       "    </tr>\n",
       "    <tr>\n",
       "      <th>7</th>\n",
       "      <td>C</td>\n",
       "      <td>102</td>\n",
       "    </tr>\n",
       "  </tbody>\n",
       "</table>\n",
       "</div>"
      ],
      "text/plain": [
       "  customer  product\n",
       "0        A      100\n",
       "1        A      101\n",
       "2        B      101\n",
       "3        C      100\n",
       "4        C      102\n",
       "5        B      101\n",
       "6        A      100\n",
       "7        C      102"
      ]
     },
     "execution_count": 3,
     "metadata": {},
     "output_type": "execute_result"
    }
   ],
   "source": [
    "# Create table for Purchase History\n",
    "history = {'customer':['A','A','B','C','C','B','A','C'], 'product':[100,101,101,100,102,101,100,102]} \n",
    "  \n",
    "# Create the pandas DataFrame \n",
    "history = pd.DataFrame(history) \n",
    "  \n",
    "# print dataframe. \n",
    "history"
   ]
  },
  {
   "cell_type": "markdown",
   "metadata": {},
   "source": [
    "**Question 2a.1:**\n"
   ]
  },
  {
   "cell_type": "markdown",
   "metadata": {},
   "source": [
    "I assume that ***history*** and ***attributes*** are dfs that were given to me. Also my code will be written in a way which will be adaptable to whatever data is added thus removing the need for manual column creation."
   ]
  },
  {
   "cell_type": "code",
   "execution_count": 4,
   "metadata": {},
   "outputs": [
    {
     "data": {
      "text/plain": [
       "['socks', 'accessories', 'shoes', 'hats']"
      ]
     },
     "execution_count": 4,
     "metadata": {},
     "output_type": "execute_result"
    }
   ],
   "source": [
    "# Create list of all tags\n",
    "tags = []\n",
    "for i in list(attributes['tags'].unique()):\n",
    "    tags+=i.split()\n",
    "\n",
    "# Strip commas from tags\n",
    "tags = [x.replace(',', '') for x in tags]\n",
    "\n",
    "# Return unique values only\n",
    "tags = list(set(tags))\n",
    "tags"
   ]
  },
  {
   "cell_type": "code",
   "execution_count": 5,
   "metadata": {},
   "outputs": [
    {
     "data": {
      "text/html": [
       "<div>\n",
       "<style scoped>\n",
       "    .dataframe tbody tr th:only-of-type {\n",
       "        vertical-align: middle;\n",
       "    }\n",
       "\n",
       "    .dataframe tbody tr th {\n",
       "        vertical-align: top;\n",
       "    }\n",
       "\n",
       "    .dataframe thead th {\n",
       "        text-align: right;\n",
       "    }\n",
       "</style>\n",
       "<table border=\"1\" class=\"dataframe\">\n",
       "  <thead>\n",
       "    <tr style=\"text-align: right;\">\n",
       "      <th></th>\n",
       "      <th>product</th>\n",
       "      <th>tags</th>\n",
       "      <th>socks</th>\n",
       "      <th>accessories</th>\n",
       "      <th>shoes</th>\n",
       "      <th>hats</th>\n",
       "    </tr>\n",
       "  </thead>\n",
       "  <tbody>\n",
       "    <tr>\n",
       "      <th>0</th>\n",
       "      <td>100</td>\n",
       "      <td>shoes, hats</td>\n",
       "      <td>0</td>\n",
       "      <td>0</td>\n",
       "      <td>1</td>\n",
       "      <td>1</td>\n",
       "    </tr>\n",
       "    <tr>\n",
       "      <th>1</th>\n",
       "      <td>101</td>\n",
       "      <td>shoes, socks</td>\n",
       "      <td>1</td>\n",
       "      <td>0</td>\n",
       "      <td>1</td>\n",
       "      <td>0</td>\n",
       "    </tr>\n",
       "    <tr>\n",
       "      <th>2</th>\n",
       "      <td>102</td>\n",
       "      <td>accessories</td>\n",
       "      <td>0</td>\n",
       "      <td>1</td>\n",
       "      <td>0</td>\n",
       "      <td>0</td>\n",
       "    </tr>\n",
       "  </tbody>\n",
       "</table>\n",
       "</div>"
      ],
      "text/plain": [
       "   product          tags  socks  accessories  shoes  hats\n",
       "0      100   shoes, hats      0            0      1     1\n",
       "1      101  shoes, socks      1            0      1     0\n",
       "2      102   accessories      0            1      0     0"
      ]
     },
     "execution_count": 5,
     "metadata": {},
     "output_type": "execute_result"
    }
   ],
   "source": [
    "# Add binary columns to show tag contents\n",
    "attributes[tags] = pd.concat([attributes['tags'].str.contains(x) for x in tags], 1, keys=tags).astype(int)\n",
    "attributes"
   ]
  },
  {
   "cell_type": "code",
   "execution_count": 6,
   "metadata": {},
   "outputs": [
    {
     "data": {
      "text/html": [
       "<div>\n",
       "<style scoped>\n",
       "    .dataframe tbody tr th:only-of-type {\n",
       "        vertical-align: middle;\n",
       "    }\n",
       "\n",
       "    .dataframe tbody tr th {\n",
       "        vertical-align: top;\n",
       "    }\n",
       "\n",
       "    .dataframe thead th {\n",
       "        text-align: right;\n",
       "    }\n",
       "</style>\n",
       "<table border=\"1\" class=\"dataframe\">\n",
       "  <thead>\n",
       "    <tr style=\"text-align: right;\">\n",
       "      <th></th>\n",
       "      <th>socks</th>\n",
       "      <th>accessories</th>\n",
       "      <th>shoes</th>\n",
       "      <th>hats</th>\n",
       "    </tr>\n",
       "    <tr>\n",
       "      <th>customer</th>\n",
       "      <th></th>\n",
       "      <th></th>\n",
       "      <th></th>\n",
       "      <th></th>\n",
       "    </tr>\n",
       "  </thead>\n",
       "  <tbody>\n",
       "    <tr>\n",
       "      <th>A</th>\n",
       "      <td>1</td>\n",
       "      <td>0</td>\n",
       "      <td>3</td>\n",
       "      <td>2</td>\n",
       "    </tr>\n",
       "    <tr>\n",
       "      <th>B</th>\n",
       "      <td>2</td>\n",
       "      <td>0</td>\n",
       "      <td>2</td>\n",
       "      <td>0</td>\n",
       "    </tr>\n",
       "    <tr>\n",
       "      <th>C</th>\n",
       "      <td>0</td>\n",
       "      <td>2</td>\n",
       "      <td>1</td>\n",
       "      <td>1</td>\n",
       "    </tr>\n",
       "  </tbody>\n",
       "</table>\n",
       "</div>"
      ],
      "text/plain": [
       "          socks  accessories  shoes  hats\n",
       "customer                                 \n",
       "A             1            0      3     2\n",
       "B             2            0      2     0\n",
       "C             0            2      1     1"
      ]
     },
     "execution_count": 6,
     "metadata": {},
     "output_type": "execute_result"
    }
   ],
   "source": [
    "# Combine Attributes and History Tables\n",
    "agg = pd.merge(history, attributes, on=\"product\")\n",
    "\n",
    "# Aggregate all values by Customer\n",
    "tags.insert(0, 'customer')\n",
    "agg[tags].groupby('customer').sum()"
   ]
  },
  {
   "cell_type": "markdown",
   "metadata": {},
   "source": [
    "**Question 2a.2:**\n"
   ]
  },
  {
   "cell_type": "markdown",
   "metadata": {},
   "source": [
    "    \"First make it work. Then make it right. Then make it fast.\" ~ Kent Beck\n",
    "\n",
    "In full transparency I do not have much experience with deploying code but in a nutshell I would treat code like an A/B test and profile each script on CPU and Execution time. This process would be countinuously iterative and comparative until I derive the most optimal script."
   ]
  },
  {
   "cell_type": "markdown",
   "metadata": {},
   "source": [
    "\n",
    "**Question 2b:**\n",
    "\n"
   ]
  },
  {
   "cell_type": "markdown",
   "metadata": {},
   "source": [
    "    I would replicate code via PySpark"
   ]
  },
  {
   "cell_type": "markdown",
   "metadata": {},
   "source": [
    "**Question 3a:**\n"
   ]
  },
  {
   "cell_type": "code",
   "execution_count": 7,
   "metadata": {},
   "outputs": [
    {
     "data": {
      "text/html": [
       "<div>\n",
       "<style scoped>\n",
       "    .dataframe tbody tr th:only-of-type {\n",
       "        vertical-align: middle;\n",
       "    }\n",
       "\n",
       "    .dataframe tbody tr th {\n",
       "        vertical-align: top;\n",
       "    }\n",
       "\n",
       "    .dataframe thead th {\n",
       "        text-align: right;\n",
       "    }\n",
       "</style>\n",
       "<table border=\"1\" class=\"dataframe\">\n",
       "  <thead>\n",
       "    <tr style=\"text-align: right;\">\n",
       "      <th></th>\n",
       "      <th>Image</th>\n",
       "      <th>Visitor</th>\n",
       "      <th>Purchases</th>\n",
       "    </tr>\n",
       "  </thead>\n",
       "  <tbody>\n",
       "    <tr>\n",
       "      <th>0</th>\n",
       "      <td>A</td>\n",
       "      <td>21</td>\n",
       "      <td>3</td>\n",
       "    </tr>\n",
       "    <tr>\n",
       "      <th>1</th>\n",
       "      <td>B</td>\n",
       "      <td>180</td>\n",
       "      <td>30</td>\n",
       "    </tr>\n",
       "    <tr>\n",
       "      <th>2</th>\n",
       "      <td>C</td>\n",
       "      <td>250</td>\n",
       "      <td>50</td>\n",
       "    </tr>\n",
       "    <tr>\n",
       "      <th>3</th>\n",
       "      <td>D</td>\n",
       "      <td>100</td>\n",
       "      <td>15</td>\n",
       "    </tr>\n",
       "  </tbody>\n",
       "</table>\n",
       "</div>"
      ],
      "text/plain": [
       "  Image  Visitor  Purchases\n",
       "0     A       21          3\n",
       "1     B      180         30\n",
       "2     C      250         50\n",
       "3     D      100         15"
      ]
     },
     "execution_count": 7,
     "metadata": {},
     "output_type": "execute_result"
    }
   ],
   "source": [
    "# Create table for Hypothesis Test\n",
    "hypo = {'Image':['A','B','C','D'], \n",
    "              'Visitor':[21, 180, 250, 100], \n",
    "              'Purchases':[3, 30, 50, 15]} \n",
    "  \n",
    "# Create the pandas DataFrame \n",
    "hypo = pd.DataFrame(hypo) \n",
    "  \n",
    "# print dataframe. \n",
    "hypo"
   ]
  },
  {
   "cell_type": "code",
   "execution_count": 8,
   "metadata": {},
   "outputs": [
    {
     "data": {
      "text/html": [
       "<div>\n",
       "<style scoped>\n",
       "    .dataframe tbody tr th:only-of-type {\n",
       "        vertical-align: middle;\n",
       "    }\n",
       "\n",
       "    .dataframe tbody tr th {\n",
       "        vertical-align: top;\n",
       "    }\n",
       "\n",
       "    .dataframe thead th {\n",
       "        text-align: right;\n",
       "    }\n",
       "</style>\n",
       "<table border=\"1\" class=\"dataframe\">\n",
       "  <thead>\n",
       "    <tr style=\"text-align: right;\">\n",
       "      <th></th>\n",
       "      <th>Image</th>\n",
       "      <th>Visitor</th>\n",
       "      <th>Purchases</th>\n",
       "      <th>Conversions</th>\n",
       "      <th>Perc. Total Purchases</th>\n",
       "    </tr>\n",
       "  </thead>\n",
       "  <tbody>\n",
       "    <tr>\n",
       "      <th>0</th>\n",
       "      <td>A</td>\n",
       "      <td>21</td>\n",
       "      <td>3</td>\n",
       "      <td>0.142857</td>\n",
       "      <td>0.030612</td>\n",
       "    </tr>\n",
       "    <tr>\n",
       "      <th>1</th>\n",
       "      <td>B</td>\n",
       "      <td>180</td>\n",
       "      <td>30</td>\n",
       "      <td>0.166667</td>\n",
       "      <td>0.306122</td>\n",
       "    </tr>\n",
       "    <tr>\n",
       "      <th>2</th>\n",
       "      <td>C</td>\n",
       "      <td>250</td>\n",
       "      <td>50</td>\n",
       "      <td>0.200000</td>\n",
       "      <td>0.510204</td>\n",
       "    </tr>\n",
       "    <tr>\n",
       "      <th>3</th>\n",
       "      <td>D</td>\n",
       "      <td>100</td>\n",
       "      <td>15</td>\n",
       "      <td>0.150000</td>\n",
       "      <td>0.153061</td>\n",
       "    </tr>\n",
       "  </tbody>\n",
       "</table>\n",
       "</div>"
      ],
      "text/plain": [
       "  Image  Visitor  Purchases  Conversions  Perc. Total Purchases\n",
       "0     A       21          3     0.142857               0.030612\n",
       "1     B      180         30     0.166667               0.306122\n",
       "2     C      250         50     0.200000               0.510204\n",
       "3     D      100         15     0.150000               0.153061"
      ]
     },
     "execution_count": 8,
     "metadata": {},
     "output_type": "execute_result"
    }
   ],
   "source": [
    "# Add conversion column\n",
    "hypo['Conversions'] = hypo['Purchases'] / hypo['Visitor']\n",
    "\n",
    "# Add percent of total sales column\n",
    "hypo['Perc. Total Purchases'] = hypo['Purchases'] / hypo['Purchases'].sum()\n",
    "hypo"
   ]
  },
  {
   "cell_type": "markdown",
   "metadata": {},
   "source": [
    "If I HAVE to pick just one solely on this information, then Image C would be winner based solely on conversion and percent make up of total purchases.\n",
    "\n",
    "However, there are alot of things to consider:\n",
    "\n",
    "    - What were the values of the purchases? Image C could have led to smaller basket size and less in total sales compared to Image B for all we know.\n",
    "\n",
    "    - In addition, I would love to know what Type of customer did we just acquire. Are they a one-and-done purchase or are they are strong repeat customer? For all we know Image C customers just made one purchase and never came back within three years while Image A customers each made 300 purchases each during the same time frame! Customer Lifetime Value is very valuable in answering such a question.\n",
    "\n",
    "    - Just like in marketing mix I would not simply abandon a bunch of different under-performing channels in favor for just one. If anything this might justify the redistribution of funds to each image proportionally to the amount of Value each one generates. Stick with your winners, try and develop your losers.\n",
    "\n",
    "    - Last thing, we would need to take into consideration samples-size. Why are Image A vistors so low? Where all images displayed for the same amount of time or is Image A new? However, with such a small number of visitors it would be hard to take Image A seriously."
   ]
  },
  {
   "cell_type": "markdown",
   "metadata": {},
   "source": [
    "\n",
    "**Question 3b:**\n",
    "\n"
   ]
  },
  {
   "cell_type": "markdown",
   "metadata": {},
   "source": [
    "Just based on the information given, the only thing that really changes for me is that now Image A has a sufficient sample size to take it seriously.\n",
    "\n",
    "For the most part my answer is the same as 3a given other information which would be need to make this analysis \"Actionable\"."
   ]
  },
  {
   "cell_type": "markdown",
   "metadata": {},
   "source": [
    " \n",
    " "
   ]
  },
  {
   "cell_type": "markdown",
   "metadata": {},
   "source": [
    " "
   ]
  },
  {
   "cell_type": "markdown",
   "metadata": {},
   "source": [
    "\n",
    "### **Question Four: Forecasting**"
   ]
  },
  {
   "cell_type": "code",
   "execution_count": 9,
   "metadata": {},
   "outputs": [],
   "source": [
    "import pandas as pd\n",
    "import numpy as np\n",
    "%matplotlib inline\n",
    "\n",
    "# Load specific forecasting tools\n",
    "from statsmodels.tsa.statespace.sarimax import SARIMAX\n",
    "from statsmodels.tsa.arima_model import ARMA,ARMAResults,ARIMA,ARIMAResults\n",
    "\n",
    "from statsmodels.graphics.tsaplots import plot_acf,plot_pacf # for determining (p,q) orders\n",
    "from statsmodels.tsa.seasonal import seasonal_decompose      # for ETS Plots\n",
    "from pmdarima import auto_arima                              # for determining ARIMA orders\n",
    "\n",
    "# Ignore harmless warnings\n",
    "import warnings\n",
    "warnings.filterwarnings(\"ignore\")\n",
    "\n",
    "# Load dataset\n",
    "df = pd.read_csv('webtraffic.csv')"
   ]
  },
  {
   "cell_type": "markdown",
   "metadata": {},
   "source": [
    "### Inspect the data, create a DatetimeIndex"
   ]
  },
  {
   "cell_type": "code",
   "execution_count": 10,
   "metadata": {},
   "outputs": [
    {
     "data": {
      "text/html": [
       "<div>\n",
       "<style scoped>\n",
       "    .dataframe tbody tr th:only-of-type {\n",
       "        vertical-align: middle;\n",
       "    }\n",
       "\n",
       "    .dataframe tbody tr th {\n",
       "        vertical-align: top;\n",
       "    }\n",
       "\n",
       "    .dataframe thead th {\n",
       "        text-align: right;\n",
       "    }\n",
       "</style>\n",
       "<table border=\"1\" class=\"dataframe\">\n",
       "  <thead>\n",
       "    <tr style=\"text-align: right;\">\n",
       "      <th></th>\n",
       "      <th>date</th>\n",
       "      <th>sessions</th>\n",
       "    </tr>\n",
       "  </thead>\n",
       "  <tbody>\n",
       "    <tr>\n",
       "      <th>0</th>\n",
       "      <td>1/1/17</td>\n",
       "      <td>88215</td>\n",
       "    </tr>\n",
       "    <tr>\n",
       "      <th>1</th>\n",
       "      <td>1/2/17</td>\n",
       "      <td>88484</td>\n",
       "    </tr>\n",
       "    <tr>\n",
       "      <th>2</th>\n",
       "      <td>1/3/17</td>\n",
       "      <td>87877</td>\n",
       "    </tr>\n",
       "    <tr>\n",
       "      <th>3</th>\n",
       "      <td>1/4/17</td>\n",
       "      <td>86780</td>\n",
       "    </tr>\n",
       "    <tr>\n",
       "      <th>4</th>\n",
       "      <td>1/5/17</td>\n",
       "      <td>84622</td>\n",
       "    </tr>\n",
       "  </tbody>\n",
       "</table>\n",
       "</div>"
      ],
      "text/plain": [
       "     date  sessions\n",
       "0  1/1/17     88215\n",
       "1  1/2/17     88484\n",
       "2  1/3/17     87877\n",
       "3  1/4/17     86780\n",
       "4  1/5/17     84622"
      ]
     },
     "execution_count": 10,
     "metadata": {},
     "output_type": "execute_result"
    }
   ],
   "source": [
    "df.head()"
   ]
  },
  {
   "cell_type": "code",
   "execution_count": 11,
   "metadata": {},
   "outputs": [
    {
     "name": "stdout",
     "output_type": "stream",
     "text": [
      "<class 'pandas.core.frame.DataFrame'>\n",
      "RangeIndex: 100 entries, 0 to 99\n",
      "Data columns (total 2 columns):\n",
      "date        100 non-null object\n",
      "sessions    100 non-null int64\n",
      "dtypes: int64(1), object(1)\n",
      "memory usage: 1.7+ KB\n"
     ]
    }
   ],
   "source": [
    "# Check Columns and dtypes\n",
    "df.info()"
   ]
  },
  {
   "cell_type": "code",
   "execution_count": 12,
   "metadata": {},
   "outputs": [],
   "source": [
    "# Add a \"date\" datetime column via pd.to_datetime(dict())\n",
    "df['date'] = pd.to_datetime(df['date'])"
   ]
  },
  {
   "cell_type": "code",
   "execution_count": 13,
   "metadata": {},
   "outputs": [
    {
     "data": {
      "text/html": [
       "<div>\n",
       "<style scoped>\n",
       "    .dataframe tbody tr th:only-of-type {\n",
       "        vertical-align: middle;\n",
       "    }\n",
       "\n",
       "    .dataframe tbody tr th {\n",
       "        vertical-align: top;\n",
       "    }\n",
       "\n",
       "    .dataframe thead th {\n",
       "        text-align: right;\n",
       "    }\n",
       "</style>\n",
       "<table border=\"1\" class=\"dataframe\">\n",
       "  <thead>\n",
       "    <tr style=\"text-align: right;\">\n",
       "      <th></th>\n",
       "      <th>sessions</th>\n",
       "    </tr>\n",
       "    <tr>\n",
       "      <th>date</th>\n",
       "      <th></th>\n",
       "    </tr>\n",
       "  </thead>\n",
       "  <tbody>\n",
       "    <tr>\n",
       "      <th>2017-01-01</th>\n",
       "      <td>88215</td>\n",
       "    </tr>\n",
       "    <tr>\n",
       "      <th>2017-01-02</th>\n",
       "      <td>88484</td>\n",
       "    </tr>\n",
       "    <tr>\n",
       "      <th>2017-01-03</th>\n",
       "      <td>87877</td>\n",
       "    </tr>\n",
       "    <tr>\n",
       "      <th>2017-01-04</th>\n",
       "      <td>86780</td>\n",
       "    </tr>\n",
       "    <tr>\n",
       "      <th>2017-01-05</th>\n",
       "      <td>84622</td>\n",
       "    </tr>\n",
       "  </tbody>\n",
       "</table>\n",
       "</div>"
      ],
      "text/plain": [
       "            sessions\n",
       "date                \n",
       "2017-01-01     88215\n",
       "2017-01-02     88484\n",
       "2017-01-03     87877\n",
       "2017-01-04     86780\n",
       "2017-01-05     84622"
      ]
     },
     "execution_count": 13,
     "metadata": {},
     "output_type": "execute_result"
    }
   ],
   "source": [
    "# Set \"date\" to be the index\n",
    "df.set_index('date',inplace=True)\n",
    "df.index.freq = 'D'\n",
    "df.head()"
   ]
  },
  {
   "cell_type": "markdown",
   "metadata": {},
   "source": [
    "### Plot the source data"
   ]
  },
  {
   "cell_type": "code",
   "execution_count": 14,
   "metadata": {},
   "outputs": [
    {
     "data": {
      "text/plain": [
       "<matplotlib.axes._subplots.AxesSubplot at 0x1dd45ff5408>"
      ]
     },
     "execution_count": 14,
     "metadata": {},
     "output_type": "execute_result"
    },
    {
     "data": {
      "image/png": "[encoded data removed]",
      "text/plain": [
       "<Figure size 432x288 with 1 Axes>"
      ]
     },
     "metadata": {
      "needs_background": "light"
     },
     "output_type": "display_data"
    }
   ],
   "source": [
    "df.plot()"
   ]
  },
  {
   "cell_type": "markdown",
   "metadata": {},
   "source": [
    "I am not seeing any indication of seasonality and trend in this plot. In all honesty I am not to confident given this distribution being only over 100 days.\n",
    "\n",
    "Let's take a closer look via ETS Decomposition"
   ]
  },
  {
   "cell_type": "markdown",
   "metadata": {},
   "source": [
    "### Run an ETS Decomposition"
   ]
  },
  {
   "cell_type": "code",
   "execution_count": 15,
   "metadata": {},
   "outputs": [
    {
     "data": {
      "image/png": "[encoded data removed]",
      "text/plain": [
       "<Figure size 432x288 with 4 Axes>"
      ]
     },
     "metadata": {
      "needs_background": "light"
     },
     "output_type": "display_data"
    }
   ],
   "source": [
    "# ETS \n",
    "result = seasonal_decompose(df['sessions'], model='add')\n",
    "result.plot();"
   ]
  },
  {
   "cell_type": "markdown",
   "metadata": {},
   "source": [
    "There seams to be some sort of season effect present however due to its seasonal range of -250 to ~100 in comparison to the Session range of 82,000 to 94,000, we can assume that seasonality has no effect."
   ]
  },
  {
   "cell_type": "markdown",
   "metadata": {},
   "source": [
    "### Run <tt>pmdarima.auto_arima</tt> to obtain recommended orders\n",
    "This may take awhile as there are a lot more combinations to evaluate."
   ]
  },
  {
   "cell_type": "code",
   "execution_count": 16,
   "metadata": {},
   "outputs": [
    {
     "data": {
      "text/html": [
       "<table class=\"simpletable\">\n",
       "<caption>Statespace Model Results</caption>\n",
       "<tr>\n",
       "  <th>Dep. Variable:</th>           <td>y</td>        <th>  No. Observations:  </th>    <td>100</td>  \n",
       "</tr>\n",
       "<tr>\n",
       "  <th>Model:</th>           <td>SARIMAX(2, 1, 2)</td> <th>  Log Likelihood     </th> <td>-814.165</td>\n",
       "</tr>\n",
       "<tr>\n",
       "  <th>Date:</th>            <td>Thu, 06 Feb 2020</td> <th>  AIC                </th> <td>1640.331</td>\n",
       "</tr>\n",
       "<tr>\n",
       "  <th>Time:</th>                <td>15:57:00</td>     <th>  BIC                </th> <td>1655.901</td>\n",
       "</tr>\n",
       "<tr>\n",
       "  <th>Sample:</th>                  <td>0</td>        <th>  HQIC               </th> <td>1646.630</td>\n",
       "</tr>\n",
       "<tr>\n",
       "  <th></th>                      <td> - 100</td>      <th>                     </th>     <td> </td>   \n",
       "</tr>\n",
       "<tr>\n",
       "  <th>Covariance Type:</th>        <td>opg</td>       <th>                     </th>     <td> </td>   \n",
       "</tr>\n",
       "</table>\n",
       "<table class=\"simpletable\">\n",
       "<tr>\n",
       "      <td></td>         <th>coef</th>     <th>std err</th>      <th>z</th>      <th>P>|z|</th>  <th>[0.025</th>    <th>0.975]</th>  \n",
       "</tr>\n",
       "<tr>\n",
       "  <th>intercept</th> <td>    4.4120</td> <td>   37.038</td> <td>    0.119</td> <td> 0.905</td> <td>  -68.181</td> <td>   77.005</td>\n",
       "</tr>\n",
       "<tr>\n",
       "  <th>ar.L1</th>     <td>    1.6315</td> <td>    0.019</td> <td>   85.430</td> <td> 0.000</td> <td>    1.594</td> <td>    1.669</td>\n",
       "</tr>\n",
       "<tr>\n",
       "  <th>ar.L2</th>     <td>   -0.9840</td> <td>    0.019</td> <td>  -52.900</td> <td> 0.000</td> <td>   -1.020</td> <td>   -0.948</td>\n",
       "</tr>\n",
       "<tr>\n",
       "  <th>ma.L1</th>     <td>   -1.6365</td> <td>    0.028</td> <td>  -58.170</td> <td> 0.000</td> <td>   -1.692</td> <td>   -1.581</td>\n",
       "</tr>\n",
       "<tr>\n",
       "  <th>ma.L2</th>     <td>    0.9793</td> <td>    0.026</td> <td>   37.969</td> <td> 0.000</td> <td>    0.929</td> <td>    1.030</td>\n",
       "</tr>\n",
       "<tr>\n",
       "  <th>sigma2</th>    <td> 9.581e+05</td> <td>    0.001</td> <td> 1.46e+09</td> <td> 0.000</td> <td> 9.58e+05</td> <td> 9.58e+05</td>\n",
       "</tr>\n",
       "</table>\n",
       "<table class=\"simpletable\">\n",
       "<tr>\n",
       "  <th>Ljung-Box (Q):</th>          <td>35.53</td> <th>  Jarque-Bera (JB):  </th> <td>1.12</td>\n",
       "</tr>\n",
       "<tr>\n",
       "  <th>Prob(Q):</th>                <td>0.67</td>  <th>  Prob(JB):          </th> <td>0.57</td>\n",
       "</tr>\n",
       "<tr>\n",
       "  <th>Heteroskedasticity (H):</th> <td>1.05</td>  <th>  Skew:              </th> <td>0.17</td>\n",
       "</tr>\n",
       "<tr>\n",
       "  <th>Prob(H) (two-sided):</th>    <td>0.90</td>  <th>  Kurtosis:          </th> <td>2.60</td>\n",
       "</tr>\n",
       "</table><br/><br/>Warnings:<br/>[1] Covariance matrix calculated using the outer product of gradients (complex-step).<br/>[2] Covariance matrix is singular or near-singular, with condition number 8.84e+25. Standard errors may be unstable."
      ],
      "text/plain": [
       "<class 'statsmodels.iolib.summary.Summary'>\n",
       "\"\"\"\n",
       "                           Statespace Model Results                           \n",
       "==============================================================================\n",
       "Dep. Variable:                      y   No. Observations:                  100\n",
       "Model:               SARIMAX(2, 1, 2)   Log Likelihood                -814.165\n",
       "Date:                Thu, 06 Feb 2020   AIC                           1640.331\n",
       "Time:                        15:57:00   BIC                           1655.901\n",
       "Sample:                             0   HQIC                          1646.630\n",
       "                                - 100                                         \n",
       "Covariance Type:                  opg                                         \n",
       "==============================================================================\n",
       "                 coef    std err          z      P>|z|      [0.025      0.975]\n",
       "------------------------------------------------------------------------------\n",
       "intercept      4.4120     37.038      0.119      0.905     -68.181      77.005\n",
       "ar.L1          1.6315      0.019     85.430      0.000       1.594       1.669\n",
       "ar.L2         -0.9840      0.019    -52.900      0.000      -1.020      -0.948\n",
       "ma.L1         -1.6365      0.028    -58.170      0.000      -1.692      -1.581\n",
       "ma.L2          0.9793      0.026     37.969      0.000       0.929       1.030\n",
       "sigma2      9.581e+05      0.001   1.46e+09      0.000    9.58e+05    9.58e+05\n",
       "===================================================================================\n",
       "Ljung-Box (Q):                       35.53   Jarque-Bera (JB):                 1.12\n",
       "Prob(Q):                              0.67   Prob(JB):                         0.57\n",
       "Heteroskedasticity (H):               1.05   Skew:                             0.17\n",
       "Prob(H) (two-sided):                  0.90   Kurtosis:                         2.60\n",
       "===================================================================================\n",
       "\n",
       "Warnings:\n",
       "[1] Covariance matrix calculated using the outer product of gradients (complex-step).\n",
       "[2] Covariance matrix is singular or near-singular, with condition number 8.84e+25. Standard errors may be unstable.\n",
       "\"\"\""
      ]
     },
     "execution_count": 16,
     "metadata": {},
     "output_type": "execute_result"
    }
   ],
   "source": [
    "# For SARIMA Orders we set seasonal=True and pass in an m value\n",
    "auto_arima(df['sessions'],seasonal=False,m=1).summary()"
   ]
  },
  {
   "cell_type": "markdown",
   "metadata": {},
   "source": [
    "Excellent! This provides an SARIMAX of order(2, 1, 2) without a seasonal component as we saw in the ETS Decomposition Now let's train & test the SARIMAX(2,1,2) model, evaluate it, then produce a forecast of future values.\n",
    "### Split the data into train/test sets"
   ]
  },
  {
   "cell_type": "code",
   "execution_count": 17,
   "metadata": {},
   "outputs": [
    {
     "data": {
      "text/plain": [
       "100"
      ]
     },
     "execution_count": 17,
     "metadata": {},
     "output_type": "execute_result"
    }
   ],
   "source": [
    "# Many Months of time do we have\n",
    "len(df)"
   ]
  },
  {
   "cell_type": "code",
   "execution_count": 18,
   "metadata": {},
   "outputs": [],
   "source": [
    "# Set 80 days for Train, 20 Days for Testing\n",
    "train = df.iloc[:80]\n",
    "test = df.iloc[80:]"
   ]
  },
  {
   "cell_type": "markdown",
   "metadata": {},
   "source": [
    "### Fit a SARIMAX(2,1,2) Model"
   ]
  },
  {
   "cell_type": "code",
   "execution_count": 19,
   "metadata": {},
   "outputs": [
    {
     "data": {
      "text/html": [
       "<table class=\"simpletable\">\n",
       "<caption>Statespace Model Results</caption>\n",
       "<tr>\n",
       "  <th>Dep. Variable:</th>       <td>sessions</td>     <th>  No. Observations:  </th>    <td>80</td>   \n",
       "</tr>\n",
       "<tr>\n",
       "  <th>Model:</th>           <td>SARIMAX(2, 1, 2)</td> <th>  Log Likelihood     </th> <td>-648.613</td>\n",
       "</tr>\n",
       "<tr>\n",
       "  <th>Date:</th>            <td>Thu, 06 Feb 2020</td> <th>  AIC                </th> <td>1307.226</td>\n",
       "</tr>\n",
       "<tr>\n",
       "  <th>Time:</th>                <td>15:57:04</td>     <th>  BIC                </th> <td>1319.073</td>\n",
       "</tr>\n",
       "<tr>\n",
       "  <th>Sample:</th>             <td>01-01-2017</td>    <th>  HQIC               </th> <td>1311.972</td>\n",
       "</tr>\n",
       "<tr>\n",
       "  <th></th>                   <td>- 03-21-2017</td>   <th>                     </th>     <td> </td>   \n",
       "</tr>\n",
       "<tr>\n",
       "  <th>Covariance Type:</th>        <td>opg</td>       <th>                     </th>     <td> </td>   \n",
       "</tr>\n",
       "</table>\n",
       "<table class=\"simpletable\">\n",
       "<tr>\n",
       "     <td></td>       <th>coef</th>     <th>std err</th>      <th>z</th>      <th>P>|z|</th>  <th>[0.025</th>    <th>0.975]</th>  \n",
       "</tr>\n",
       "<tr>\n",
       "  <th>ar.L1</th>  <td>    1.6356</td> <td>    0.026</td> <td>   63.179</td> <td> 0.000</td> <td>    1.585</td> <td>    1.686</td>\n",
       "</tr>\n",
       "<tr>\n",
       "  <th>ar.L2</th>  <td>   -0.9852</td> <td>    0.023</td> <td>  -42.690</td> <td> 0.000</td> <td>   -1.030</td> <td>   -0.940</td>\n",
       "</tr>\n",
       "<tr>\n",
       "  <th>ma.L1</th>  <td>   -1.6423</td> <td>    0.038</td> <td>  -42.739</td> <td> 0.000</td> <td>   -1.718</td> <td>   -1.567</td>\n",
       "</tr>\n",
       "<tr>\n",
       "  <th>ma.L2</th>  <td>    0.9821</td> <td>    0.034</td> <td>   28.797</td> <td> 0.000</td> <td>    0.915</td> <td>    1.049</td>\n",
       "</tr>\n",
       "<tr>\n",
       "  <th>sigma2</th> <td> 9.393e+05</td> <td> 1.53e-09</td> <td> 6.16e+14</td> <td> 0.000</td> <td> 9.39e+05</td> <td> 9.39e+05</td>\n",
       "</tr>\n",
       "</table>\n",
       "<table class=\"simpletable\">\n",
       "<tr>\n",
       "  <th>Ljung-Box (Q):</th>          <td>37.79</td> <th>  Jarque-Bera (JB):  </th> <td>1.74</td>\n",
       "</tr>\n",
       "<tr>\n",
       "  <th>Prob(Q):</th>                <td>0.57</td>  <th>  Prob(JB):          </th> <td>0.42</td>\n",
       "</tr>\n",
       "<tr>\n",
       "  <th>Heteroskedasticity (H):</th> <td>1.66</td>  <th>  Skew:              </th> <td>0.31</td>\n",
       "</tr>\n",
       "<tr>\n",
       "  <th>Prob(H) (two-sided):</th>    <td>0.20</td>  <th>  Kurtosis:          </th> <td>2.63</td>\n",
       "</tr>\n",
       "</table><br/><br/>Warnings:<br/>[1] Covariance matrix calculated using the outer product of gradients (complex-step).<br/>[2] Covariance matrix is singular or near-singular, with condition number 8.69e+31. Standard errors may be unstable."
      ],
      "text/plain": [
       "<class 'statsmodels.iolib.summary.Summary'>\n",
       "\"\"\"\n",
       "                           Statespace Model Results                           \n",
       "==============================================================================\n",
       "Dep. Variable:               sessions   No. Observations:                   80\n",
       "Model:               SARIMAX(2, 1, 2)   Log Likelihood                -648.613\n",
       "Date:                Thu, 06 Feb 2020   AIC                           1307.226\n",
       "Time:                        15:57:04   BIC                           1319.073\n",
       "Sample:                    01-01-2017   HQIC                          1311.972\n",
       "                         - 03-21-2017                                         \n",
       "Covariance Type:                  opg                                         \n",
       "==============================================================================\n",
       "                 coef    std err          z      P>|z|      [0.025      0.975]\n",
       "------------------------------------------------------------------------------\n",
       "ar.L1          1.6356      0.026     63.179      0.000       1.585       1.686\n",
       "ar.L2         -0.9852      0.023    -42.690      0.000      -1.030      -0.940\n",
       "ma.L1         -1.6423      0.038    -42.739      0.000      -1.718      -1.567\n",
       "ma.L2          0.9821      0.034     28.797      0.000       0.915       1.049\n",
       "sigma2      9.393e+05   1.53e-09   6.16e+14      0.000    9.39e+05    9.39e+05\n",
       "===================================================================================\n",
       "Ljung-Box (Q):                       37.79   Jarque-Bera (JB):                 1.74\n",
       "Prob(Q):                              0.57   Prob(JB):                         0.42\n",
       "Heteroskedasticity (H):               1.66   Skew:                             0.31\n",
       "Prob(H) (two-sided):                  0.20   Kurtosis:                         2.63\n",
       "===================================================================================\n",
       "\n",
       "Warnings:\n",
       "[1] Covariance matrix calculated using the outer product of gradients (complex-step).\n",
       "[2] Covariance matrix is singular or near-singular, with condition number 8.69e+31. Standard errors may be unstable.\n",
       "\"\"\""
      ]
     },
     "execution_count": 19,
     "metadata": {},
     "output_type": "execute_result"
    }
   ],
   "source": [
    "# Build and fit model on Train set\n",
    "model = SARIMAX(train['sessions'],order=(2,1,2))\n",
    "results = model.fit()\n",
    "results.summary()"
   ]
  },
  {
   "cell_type": "code",
   "execution_count": 20,
   "metadata": {},
   "outputs": [],
   "source": [
    "# Obtain predicted values\n",
    "start=len(train)\n",
    "end=len(train)+len(test)-1\n",
    "predictions = results.predict(start=start, \n",
    "                              end=end, \n",
    "                              dynamic=False, \n",
    "                              typ='levels').rename('SARIMA(2,1,2) Predictions')"
   ]
  },
  {
   "cell_type": "code",
   "execution_count": 21,
   "metadata": {},
   "outputs": [
    {
     "data": {
      "image/png": "[encoded data removed]",
      "text/plain": [
       "<Figure size 864x432 with 1 Axes>"
      ]
     },
     "metadata": {
      "needs_background": "light"
     },
     "output_type": "display_data"
    }
   ],
   "source": [
    "# Plot predictions against known values\n",
    "title = 'Web Traffic Data'\n",
    "ylabel='Sessions'\n",
    "xlabel=''\n",
    "\n",
    "# Format Plot\n",
    "ax = test['sessions'].plot(legend=True,figsize=(12,6),title=title)\n",
    "predictions.plot(legend=True)\n",
    "ax.autoscale(axis='x',tight=True)\n",
    "ax.set(xlabel=xlabel, ylabel=ylabel);"
   ]
  },
  {
   "cell_type": "markdown",
   "metadata": {},
   "source": [
    "Although we not directly on the money, our model seems to follow the general trend well enough. Also given the distance between the lines, it doesn't see to bad when you consider the actual range in which we are evaluating.\n",
    "\n",
    "What I do find concerning however is the the divergengce of both lines at the ends of the plots."
   ]
  },
  {
   "cell_type": "markdown",
   "metadata": {},
   "source": [
    "### Evaluate the Model"
   ]
  },
  {
   "cell_type": "code",
   "execution_count": 22,
   "metadata": {},
   "outputs": [
    {
     "name": "stdout",
     "output_type": "stream",
     "text": [
      "SARIMA(2,1,2) MSE Error: 3346640.776\n",
      "SARIMA(2,1,2) RMSE Error: 1829.382621\n"
     ]
    }
   ],
   "source": [
    "# Calculate MSE vs RMSE\n",
    "from statsmodels.tools.eval_measures import mse,rmse\n",
    "error1 = mse(test['sessions'], predictions)\n",
    "error2 = rmse(test['sessions'], predictions)\n",
    "\n",
    "# Return MSE, RMSE on Test Set vs Predictions\n",
    "print(f'SARIMA(2,1,2) MSE Error: {error1:11.10}')\n",
    "print(f'SARIMA(2,1,2) RMSE Error: {error2:11.10}')"
   ]
  },
  {
   "cell_type": "code",
   "execution_count": 23,
   "metadata": {},
   "outputs": [
    {
     "name": "stdout",
     "output_type": "stream",
     "text": [
      "Mean:     88874.7\n",
      "Std. Dev: 1855.739151928417\n"
     ]
    }
   ],
   "source": [
    "# Mean of Test Data\n",
    "print(f\"Mean:     {test['sessions'].mean()}\")\n",
    "print(f\"Std. Dev: {test['sessions'].std()}\")"
   ]
  },
  {
   "cell_type": "markdown",
   "metadata": {},
   "source": [
    "These are outstanding results! RMSE is minimal in comparison to the population. However, let's see what we can predict 60 days out. \n",
    "\n",
    "### Retrain the model on the full data, and forecast into unknown future"
   ]
  },
  {
   "cell_type": "code",
   "execution_count": 24,
   "metadata": {},
   "outputs": [],
   "source": [
    "# Build and fit model on complete dataset\n",
    "model = SARIMAX(df['sessions'],order=(2,1,2))\n",
    "results = model.fit()"
   ]
  },
  {
   "cell_type": "code",
   "execution_count": 25,
   "metadata": {},
   "outputs": [],
   "source": [
    "# Forecast Values\n",
    "fcast = results.predict(len(df),len(df)+60,typ='levels').rename('SARIMAX(2,1,2) Forecast')"
   ]
  },
  {
   "cell_type": "code",
   "execution_count": 26,
   "metadata": {},
   "outputs": [
    {
     "data": {
      "image/png": "[encoded data removed]",
      "text/plain": [
       "<Figure size 864x432 with 1 Axes>"
      ]
     },
     "metadata": {
      "needs_background": "light"
     },
     "output_type": "display_data"
    }
   ],
   "source": [
    "# Plot predictions against known values\n",
    "title = 'Monthly Mean CO₂ Levels (ppm) over Mauna Loa, Hawaii'\n",
    "ylabel='parts per million'\n",
    "xlabel=''\n",
    "\n",
    "ax = df['sessions'].plot(legend=True,figsize=(12,6),title=title)\n",
    "fcast.plot(legend=True)\n",
    "ax.autoscale(axis='x',tight=True)\n",
    "ax.set(xlabel=xlabel, ylabel=ylabel);"
   ]
  },
  {
   "cell_type": "markdown",
   "metadata": {},
   "source": [
    "## Conclusion\n",
    "\n",
    "Unfortunately a SARIMAX(2,1,2) model with such an oscillating prediction I am not at all confident with theses results. Given this data's distribution and fluctuation over time, and the limited window of observation, I do not feel that any model can capture this and properly forecast.\n",
    "\n",
    "I do I really wish I had more data to create a more robust model; atleast two years worth given the behavior. "
   ]
  }
 ],
 "metadata": {
  "kernelspec": {
   "display_name": "Python 3",
   "language": "python",
   "name": "python3"
  },
  "language_info": {
   "codemirror_mode": {
    "name": "ipython",
    "version": 3
   },
   "file_extension": ".py",
   "mimetype": "text/x-python",
   "name": "python",
   "nbconvert_exporter": "python",
   "pygments_lexer": "ipython3",
   "version": "3.7.5"
  }
 },
 "nbformat": 4,
 "nbformat_minor": 4
}
