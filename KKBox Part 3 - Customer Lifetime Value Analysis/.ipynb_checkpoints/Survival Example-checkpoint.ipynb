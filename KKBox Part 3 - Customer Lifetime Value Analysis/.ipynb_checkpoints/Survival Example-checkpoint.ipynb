{
 "cells": [
  {
   "cell_type": "markdown",
   "metadata": {},
   "source": [
    "# KKBox Customer Lifetime Value Analysis"
   ]
  },
  {
   "cell_type": "markdown",
   "metadata": {},
   "source": [
    "---"
   ]
  },
  {
   "cell_type": "markdown",
   "metadata": {},
   "source": [
    "# Part 2: <font color=green>*Survival, Hazard, and LTV Analysis*</font>"
   ]
  },
  {
   "cell_type": "markdown",
   "metadata": {},
   "source": [
    "---"
   ]
  },
  {
   "cell_type": "code",
   "execution_count": 1,
   "metadata": {},
   "outputs": [],
   "source": [
    "# General Imports\n",
    "import pandas as pd\n",
    "import numpy as np\n",
    "import matplotlib.pyplot as plt\n",
    "%matplotlib inline\n",
    "import seaborn as sns\n",
    "from scipy import stats\n",
    "import datetime \n",
    "\n",
    "# Imports for CLV\n",
    "from lifelines import KaplanMeierFitter\n",
    "from lifelines import CoxPHFitter"
   ]
  },
  {
   "cell_type": "markdown",
   "metadata": {},
   "source": [
    "## Import and Prep Data"
   ]
  },
  {
   "cell_type": "code",
   "execution_count": 11,
   "metadata": {},
   "outputs": [],
   "source": [
    "# Import Transaction Files\n",
    "CLV_Feb2016 = pd.read_csv('Tenure-Churn-Data')"
   ]
  },
  {
   "cell_type": "markdown",
   "metadata": {},
   "source": [
    "## 1) Survival Analysis"
   ]
  },
  {
   "cell_type": "markdown",
   "metadata": {},
   "source": [
    "With the help of Survival Analysis we can focus on churn prevention efforts of high-value customers with low survival time. This analysis also helps us to calculate Customer Life Time Value. In this use case, Event is defined as the time at which the customer churns / unsubscribe. Time of origin is defined as the time at which the customer starts the service/subscription with a company. Time scale could be months, or weeks. The difference between the time of event and the time origin gives us the time to event."
   ]
  },
  {
   "cell_type": "markdown",
   "metadata": {},
   "source": [
    "### <font color=purple>Overall Population</font>"
   ]
  },
  {
   "cell_type": "markdown",
   "metadata": {},
   "source": [
    "First we will take an overall observation of all users to get the big picture of what is the underlying behavior. "
   ]
  },
  {
   "cell_type": "code",
   "execution_count": 12,
   "metadata": {},
   "outputs": [],
   "source": [
    "## Time to event data of censored and event data\n",
    "T = CLV_Feb2016['tenure']\n",
    "\n",
    "## It has the churned (1) and censored is (0)\n",
    "E = CLV_Feb2016['is_churn']\n",
    "\n",
    "## create a kmf object as km\n",
    "kmf = KaplanMeierFitter() ## instantiate the class to create an object"
   ]
  },
  {
   "cell_type": "code",
   "execution_count": 13,
   "metadata": {},
   "outputs": [
    {
     "data": {
      "text/plain": [
       "<matplotlib.legend.Legend at 0x2641997f668>"
      ]
     },
     "execution_count": 13,
     "metadata": {},
     "output_type": "execute_result"
    },
    {
     "data": {
      "image/png": "[encoded data removed]",
      "text/plain": [
       "<Figure size 720x360 with 1 Axes>"
      ]
     },
     "metadata": {
      "needs_background": "light"
     },
     "output_type": "display_data"
    }
   ],
   "source": [
    "## Fit the data into the model\n",
    "kmf.fit(T, E, label='Kaplan Meier Estimate')\n",
    "\n",
    "## Create an estimate\n",
    "plt.figure(figsize=(10,5))\n",
    "kmf.plot()\n",
    "\n",
    "# Plot Details\n",
    "plt.title('Overall Population', fontsize='xx-large')\n",
    "plt.ylabel('Survival Rate', fontsize='x-large')\n",
    "plt.xlabel('Timeline', fontsize='x-large')\n",
    "plt.legend(fontsize='x-large')"
   ]
  },
  {
   "cell_type": "markdown",
   "metadata": {},
   "source": [
    "## 2) Cox Proportional Hazard Model (Survival Regression)"
   ]
  },
  {
   "cell_type": "markdown",
   "metadata": {},
   "source": [
    "### - <font color=blue>Data Pre-Processing</font> -"
   ]
  },
  {
   "cell_type": "code",
   "execution_count": 14,
   "metadata": {},
   "outputs": [],
   "source": [
    "# Specify the Continuous and Categorical features we will include in our regression model\n",
    "cont_feat = ['tenure','unique_payment_plans']\n",
    "cat_feat = ['registered_via','discount']\n",
    "\n",
    "# Create df for regression model\n",
    "CLV_Feb2016_Cox = CLV_Feb2016[['is_churn'] + cont_feat + cat_feat]\n",
    "\n",
    "# Encode Categoricals\n",
    "CLV_Feb2016_Cox = pd.get_dummies(data=CLV_Feb2016_Cox, columns=cat_feat, prefix_sep='_',drop_first=True)\n",
    "\n",
    "# Use PCA to make 1 component for 'registered_via' to prevent multicolinearity errors\n",
    "from sklearn.decomposition import PCA\n",
    "pca = PCA(n_components=1)\n",
    "CLV_Feb2016_Cox['registered_via_PCA'] = pca.fit_transform(CLV_Feb2016_Cox[['registered_via_4','registered_via_7','registered_via_9','registered_via_13']])\n",
    "\n",
    "CLV_Feb2016_Cox = CLV_Feb2016_Cox.drop(['registered_via_4','registered_via_7','registered_via_9','registered_via_13'], axis=1)"
   ]
  },
  {
   "cell_type": "markdown",
   "metadata": {},
   "source": [
    "### - <font color=blue>Build CPH Regression Model</font> -"
   ]
  },
  {
   "cell_type": "code",
   "execution_count": 20,
   "metadata": {},
   "outputs": [],
   "source": [
    "# Instantiate a cph object\n",
    "cph = CoxPHFitter()   \n",
    "\n",
    "# Fit the data to train the model\n",
    "model = cph.fit(CLV_Feb2016_Cox, duration_col='tenure', event_col='is_churn')"
   ]
  },
  {
   "cell_type": "markdown",
   "metadata": {},
   "source": [
    "### - <font color=blue>Evaluate Model</font> -"
   ]
  },
  {
   "cell_type": "code",
   "execution_count": 21,
   "metadata": {},
   "outputs": [
    {
     "data": {
      "text/html": [
       "<div>\n",
       "<style scoped>\n",
       "    .dataframe tbody tr th:only-of-type {\n",
       "        vertical-align: middle;\n",
       "    }\n",
       "\n",
       "    .dataframe tbody tr th {\n",
       "        vertical-align: top;\n",
       "    }\n",
       "\n",
       "    .dataframe thead th {\n",
       "        text-align: right;\n",
       "    }\n",
       "</style>\n",
       "<table border=\"1\" class=\"dataframe\">\n",
       "  <thead>\n",
       "    <tr style=\"text-align: right;\">\n",
       "      <th></th>\n",
       "      <th>coef</th>\n",
       "      <th>exp(coef)</th>\n",
       "      <th>se(coef)</th>\n",
       "      <th>coef lower 95%</th>\n",
       "      <th>coef upper 95%</th>\n",
       "      <th>exp(coef) lower 95%</th>\n",
       "      <th>exp(coef) upper 95%</th>\n",
       "      <th>z</th>\n",
       "      <th>p</th>\n",
       "      <th>-log2(p)</th>\n",
       "    </tr>\n",
       "  </thead>\n",
       "  <tbody>\n",
       "    <tr>\n",
       "      <td>unique_payment_plans</td>\n",
       "      <td>-0.744402</td>\n",
       "      <td>0.475018</td>\n",
       "      <td>0.008704</td>\n",
       "      <td>-0.761461</td>\n",
       "      <td>-0.727342</td>\n",
       "      <td>0.466983</td>\n",
       "      <td>0.483192</td>\n",
       "      <td>-85.523440</td>\n",
       "      <td>0.000000e+00</td>\n",
       "      <td>inf</td>\n",
       "    </tr>\n",
       "    <tr>\n",
       "      <td>discount_No Discount</td>\n",
       "      <td>0.193144</td>\n",
       "      <td>1.213057</td>\n",
       "      <td>0.017109</td>\n",
       "      <td>0.159612</td>\n",
       "      <td>0.226676</td>\n",
       "      <td>1.173056</td>\n",
       "      <td>1.254423</td>\n",
       "      <td>11.289354</td>\n",
       "      <td>1.481220e-29</td>\n",
       "      <td>95.769128</td>\n",
       "    </tr>\n",
       "    <tr>\n",
       "      <td>registered_via_PCA</td>\n",
       "      <td>0.712008</td>\n",
       "      <td>2.038080</td>\n",
       "      <td>0.006842</td>\n",
       "      <td>0.698598</td>\n",
       "      <td>0.725419</td>\n",
       "      <td>2.010931</td>\n",
       "      <td>2.065596</td>\n",
       "      <td>104.060375</td>\n",
       "      <td>0.000000e+00</td>\n",
       "      <td>inf</td>\n",
       "    </tr>\n",
       "  </tbody>\n",
       "</table>\n",
       "</div>"
      ],
      "text/plain": [
       "                          coef  exp(coef)  se(coef)  coef lower 95%  \\\n",
       "unique_payment_plans -0.744402   0.475018  0.008704       -0.761461   \n",
       "discount_No Discount  0.193144   1.213057  0.017109        0.159612   \n",
       "registered_via_PCA    0.712008   2.038080  0.006842        0.698598   \n",
       "\n",
       "                      coef upper 95%  exp(coef) lower 95%  \\\n",
       "unique_payment_plans       -0.727342             0.466983   \n",
       "discount_No Discount        0.226676             1.173056   \n",
       "registered_via_PCA          0.725419             2.010931   \n",
       "\n",
       "                      exp(coef) upper 95%           z             p   -log2(p)  \n",
       "unique_payment_plans             0.483192  -85.523440  0.000000e+00        inf  \n",
       "discount_No Discount             1.254423   11.289354  1.481220e-29  95.769128  \n",
       "registered_via_PCA               2.065596  104.060375  0.000000e+00        inf  "
      ]
     },
     "execution_count": 21,
     "metadata": {},
     "output_type": "execute_result"
    }
   ],
   "source": [
    "# show model summary\n",
    "model.summary"
   ]
  },
  {
   "cell_type": "markdown",
   "metadata": {},
   "source": [
    "### - <font color=blue>Calculate and Evaluate LT and LTV</font> -"
   ]
  },
  {
   "cell_type": "code",
   "execution_count": 28,
   "metadata": {},
   "outputs": [],
   "source": [
    "# Make new column for LT and LTV\n",
    "CLV_Feb2016['LT'] = model.predict_expectation(CLV_Feb2016_Cox)"
   ]
  },
  {
   "cell_type": "code",
   "execution_count": 29,
   "metadata": {},
   "outputs": [
    {
     "data": {
      "text/plain": [
       "Text(0.5, 1.0, 'Distribution of Observed Tenure')"
      ]
     },
     "execution_count": 29,
     "metadata": {},
     "output_type": "execute_result"
    },
    {
     "data": {
      "image/png": "[encoded data removed]",
      "text/plain": [
       "<Figure size 432x288 with 1 Axes>"
      ]
     },
     "metadata": {
      "needs_background": "light"
     },
     "output_type": "display_data"
    }
   ],
   "source": [
    "plt.boxplot(CLV_Feb2016['tenure'])\n",
    "plt.title('Distribution of Observed Tenure')"
   ]
  },
  {
   "cell_type": "code",
   "execution_count": 30,
   "metadata": {},
   "outputs": [
    {
     "data": {
      "text/plain": [
       "Text(0.5, 1.0, 'Distribution of Expected Lifetime')"
      ]
     },
     "execution_count": 30,
     "metadata": {},
     "output_type": "execute_result"
    },
    {
     "data": {
      "image/png": "[encoded data removed]",
      "text/plain": [
       "<Figure size 432x288 with 1 Axes>"
      ]
     },
     "metadata": {
      "needs_background": "light"
     },
     "output_type": "display_data"
    }
   ],
   "source": [
    "plt.boxplot(CLV_Feb2016['LT'])\n",
    "plt.title('Distribution of Expected Lifetime')"
   ]
  },
  {
   "cell_type": "code",
   "execution_count": null,
   "metadata": {},
   "outputs": [],
   "source": []
  }
 ],
 "metadata": {
  "kernelspec": {
   "display_name": "Python 3",
   "language": "python",
   "name": "python3"
  },
  "language_info": {
   "codemirror_mode": {
    "name": "ipython",
    "version": 3
   },
   "file_extension": ".py",
   "mimetype": "text/x-python",
   "name": "python",
   "nbconvert_exporter": "python",
   "pygments_lexer": "ipython3",
   "version": "3.7.3"
  }
 },
 "nbformat": 4,
 "nbformat_minor": 4
}
