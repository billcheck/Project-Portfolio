{
 "cells": [
  {
   "cell_type": "code",
   "execution_count": null,
   "metadata": {},
   "outputs": [],
   "source": [
    "Questions:\n",
    "- How should I calculate net present value?"
   ]
  },
  {
   "cell_type": "code",
   "execution_count": null,
   "metadata": {},
   "outputs": [],
   "source": [
    "CLV Project to do:\n",
    "\n",
    "Article:\n",
    "- Trim first article completely. Only show two models. What you want to showcase is the businss wisdom.\n",
    "\n",
    "Calculations\n",
    "- Total Value of cohort\n",
    "- Without doing anything how much Value are we loosing from those churning.\n",
    "- For each model\n",
    "    - How much Value are we risking (FN), to have a chance in retaining (TN)\n",
    "    - How many non-at-risk memebers (FP) will we need to re-approach\n",
    "\n",
    "Let's look at the at-risk population and see the effect on FP and TN by making decisions on:\n",
    "- See how much value they have left\n",
    "- Cumm_Hazard_Prob\n",
    "\n",
    "Are those at\n",
    "\n",
    "Cumm_Hazard_Prob vs is_churn\n",
    "\n",
    "Add all new sexy features to churn models!!\n"
   ]
  },
  {
   "cell_type": "markdown",
   "metadata": {},
   "source": [
    "If we were to go off our predictions we would "
   ]
  },
  {
   "cell_type": "code",
   "execution_count": null,
   "metadata": {},
   "outputs": [],
   "source": [
    "This is all to create a framework to make quick and value-driven decisions\n",
    "- We know how much Expected Value a member has left\n",
    "- We can look at cummulative probability to see how much "
   ]
  },
  {
   "cell_type": "markdown",
   "metadata": {},
   "source": [
    "**Inspiration:**\n",
    "    \n",
    "Looker Video on Overall Simplicity of Analysis - Kaplan Mier Estimate:\n",
    "- https://www.youtube.com/watch?v=gFc1n7Pz9zU\n",
    "\n",
    "Worked-through example:\n",
    "- https://towardsdatascience.com/survival-analysis-intuition-implementation-in-python-504fde4fcf8e"
   ]
  },
  {
   "cell_type": "code",
   "execution_count": null,
   "metadata": {},
   "outputs": [],
   "source": []
  }
 ],
 "metadata": {
  "kernelspec": {
   "display_name": "Python 3",
   "language": "python",
   "name": "python3"
  },
  "language_info": {
   "codemirror_mode": {
    "name": "ipython",
    "version": 3
   },
   "file_extension": ".py",
   "mimetype": "text/x-python",
   "name": "python",
   "nbconvert_exporter": "python",
   "pygments_lexer": "ipython3",
   "version": "3.7.3"
  }
 },
 "nbformat": 4,
 "nbformat_minor": 4
}
