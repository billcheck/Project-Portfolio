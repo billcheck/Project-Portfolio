{
 "cells": [
  {
   "cell_type": "code",
   "execution_count": 2,
   "metadata": {},
   "outputs": [],
   "source": [
    "# General Imports\n",
    "import pandas as pd\n",
    "import numpy as np\n",
    "import matplotlib.pyplot as plt\n",
    "%matplotlib inline\n",
    "import seaborn as sns\n",
    "from scipy import stats\n",
    "import datetime \n",
    "\n",
    "# Imports for CLV\n",
    "from lifelines import KaplanMeierFitter\n",
    "from lifelines import CoxPHFitter\n",
    "\n",
    "from sksurv.linear_model import CoxPHSurvivalAnalysis"
   ]
  },
  {
   "cell_type": "markdown",
   "metadata": {},
   "source": [
    "## Import and Prep Data"
   ]
  },
  {
   "cell_type": "code",
   "execution_count": 3,
   "metadata": {},
   "outputs": [],
   "source": [
    "# Import Transaction Files\n",
    "CLV_Feb2016 = pd.read_csv('CLV_Feb2016.csv')\n",
    "CLV_Feb2016 = CLV_Feb2016.reset_index(drop=True)\n",
    "CLV_Feb2016 = CLV_Feb2016.drop('Unnamed: 0',axis=1)"
   ]
  },
  {
   "cell_type": "code",
   "execution_count": 5,
   "metadata": {},
   "outputs": [
    {
     "data": {
      "text/plain": [
       "<matplotlib.axes._subplots.AxesSubplot at 0x249c9e4cda0>"
      ]
     },
     "execution_count": 5,
     "metadata": {},
     "output_type": "execute_result"
    },
    {
     "data": {
      "image/png": "[encoded data removed]",
      "text/plain": [
       "<Figure size 720x360 with 1 Axes>"
      ]
     },
     "metadata": {
      "needs_background": "light"
     },
     "output_type": "display_data"
    }
   ],
   "source": [
    "## Time to event data of censored and event data\n",
    "T = CLV_Feb2016['tenure']\n",
    "\n",
    "## It has the churned (1) and censored is (0)\n",
    "E = CLV_Feb2016['is_churn'].apply(lambda x: True if x == 1 else False)\n",
    "\n",
    "# Instantiate Model\n",
    "kmf = KaplanMeierFitter()\n",
    "\n",
    "## Fit the data into the model\n",
    "kmf.fit(T, E, label='Kaplan Meier Estimate')\n",
    "\n",
    "## Create an estimate\n",
    "plt.figure(figsize=(10,5))\n",
    "plt.title('Overall Population', fontsize='xx-large')\n",
    "kmf.plot()"
   ]
  },
  {
   "cell_type": "markdown",
   "metadata": {},
   "source": [
    "### - <font color=blue>Data Pre-Processing</font> -"
   ]
  },
  {
   "cell_type": "code",
   "execution_count": 7,
   "metadata": {},
   "outputs": [],
   "source": [
    "# Specify the Continuous and Categorical features we will include in our regression model\n",
    "cont_feat = ['tenure','unique_payment_plans']\n",
    "cat_feat = ['registered_via','Cluster','city_agg']\n",
    "\n",
    "# Create df for regression model\n",
    "CLV_Feb2016 = CLV_Feb2016[['msno','avg_paid_per_day','is_churn'] + cont_feat + cat_feat]\n",
    "\n",
    "# Encode Categoricals\n",
    "CLV_Feb2016 = pd.get_dummies(data=CLV_Feb2016, columns=cat_feat, prefix_sep='_',drop_first=True)\n",
    "\n",
    "# Use PCA to make 1 component for 'registered_via' to prevent multicolinearity errors\n",
    "from sklearn.decomposition import PCA\n",
    "pca = PCA(n_components=1)\n",
    "CLV_Feb2016['registered_via_PCA'] = pca.fit_transform(CLV_Feb2016[['registered_via_4','registered_via_7','registered_via_9','registered_via_10']]).round(decimals=3)\n",
    "\n",
    "CLV_Feb2016 = CLV_Feb2016.drop(['registered_via_4','registered_via_7','registered_via_9','registered_via_10'], axis=1)"
   ]
  },
  {
   "cell_type": "markdown",
   "metadata": {},
   "source": [
    "### - <font color=blue>Build CPH Regression Model via Lifelines</font> -"
   ]
  },
  {
   "cell_type": "code",
   "execution_count": 8,
   "metadata": {},
   "outputs": [],
   "source": [
    "# Instantiate a cph object\n",
    "cph_lifelines = CoxPHFitter()   \n",
    "\n",
    "# Fit the data to train the model\n",
    "model_lifelines = cph_lifelines.fit(CLV_Feb2016[CLV_Feb2016.columns[2:]], duration_col='tenure', event_col='is_churn')"
   ]
  },
  {
   "cell_type": "code",
   "execution_count": 9,
   "metadata": {},
   "outputs": [
    {
     "data": {
      "text/html": [
       "<div>\n",
       "<style scoped>\n",
       "    .dataframe tbody tr th:only-of-type {\n",
       "        vertical-align: middle;\n",
       "    }\n",
       "\n",
       "    .dataframe tbody tr th {\n",
       "        vertical-align: top;\n",
       "    }\n",
       "\n",
       "    .dataframe thead th {\n",
       "        text-align: right;\n",
       "    }\n",
       "</style>\n",
       "<table border=\"1\" class=\"dataframe\">\n",
       "  <thead>\n",
       "    <tr style=\"text-align: right;\">\n",
       "      <th></th>\n",
       "      <th>coef</th>\n",
       "      <th>exp(coef)</th>\n",
       "      <th>se(coef)</th>\n",
       "      <th>coef lower 95%</th>\n",
       "      <th>coef upper 95%</th>\n",
       "      <th>exp(coef) lower 95%</th>\n",
       "      <th>exp(coef) upper 95%</th>\n",
       "      <th>z</th>\n",
       "      <th>p</th>\n",
       "      <th>-log2(p)</th>\n",
       "    </tr>\n",
       "  </thead>\n",
       "  <tbody>\n",
       "    <tr>\n",
       "      <td>unique_payment_plans</td>\n",
       "      <td>-0.998432</td>\n",
       "      <td>0.368457</td>\n",
       "      <td>0.014871</td>\n",
       "      <td>-1.027579</td>\n",
       "      <td>-0.969285</td>\n",
       "      <td>0.357872</td>\n",
       "      <td>0.379354</td>\n",
       "      <td>-67.138451</td>\n",
       "      <td>0.000000e+00</td>\n",
       "      <td>inf</td>\n",
       "    </tr>\n",
       "    <tr>\n",
       "      <td>Cluster_1</td>\n",
       "      <td>0.740052</td>\n",
       "      <td>2.096046</td>\n",
       "      <td>0.015809</td>\n",
       "      <td>0.709068</td>\n",
       "      <td>0.771037</td>\n",
       "      <td>2.032097</td>\n",
       "      <td>2.162006</td>\n",
       "      <td>46.813396</td>\n",
       "      <td>0.000000e+00</td>\n",
       "      <td>inf</td>\n",
       "    </tr>\n",
       "    <tr>\n",
       "      <td>Cluster_2</td>\n",
       "      <td>-0.256427</td>\n",
       "      <td>0.773812</td>\n",
       "      <td>0.027653</td>\n",
       "      <td>-0.310626</td>\n",
       "      <td>-0.202227</td>\n",
       "      <td>0.732988</td>\n",
       "      <td>0.816909</td>\n",
       "      <td>-9.272955</td>\n",
       "      <td>1.810581e-20</td>\n",
       "      <td>65.582109</td>\n",
       "    </tr>\n",
       "    <tr>\n",
       "      <td>Cluster_3</td>\n",
       "      <td>-0.342694</td>\n",
       "      <td>0.709856</td>\n",
       "      <td>0.066738</td>\n",
       "      <td>-0.473498</td>\n",
       "      <td>-0.211889</td>\n",
       "      <td>0.622820</td>\n",
       "      <td>0.809055</td>\n",
       "      <td>-5.134884</td>\n",
       "      <td>2.823183e-07</td>\n",
       "      <td>21.756174</td>\n",
       "    </tr>\n",
       "    <tr>\n",
       "      <td>city_agg_1</td>\n",
       "      <td>0.647356</td>\n",
       "      <td>1.910482</td>\n",
       "      <td>0.029507</td>\n",
       "      <td>0.589523</td>\n",
       "      <td>0.705189</td>\n",
       "      <td>1.803128</td>\n",
       "      <td>2.024228</td>\n",
       "      <td>21.938967</td>\n",
       "      <td>1.103812e-106</td>\n",
       "      <td>351.981883</td>\n",
       "    </tr>\n",
       "    <tr>\n",
       "      <td>city_agg_2</td>\n",
       "      <td>-0.244745</td>\n",
       "      <td>0.782904</td>\n",
       "      <td>0.026295</td>\n",
       "      <td>-0.296282</td>\n",
       "      <td>-0.193208</td>\n",
       "      <td>0.743578</td>\n",
       "      <td>0.824311</td>\n",
       "      <td>-9.307716</td>\n",
       "      <td>1.306112e-20</td>\n",
       "      <td>66.053283</td>\n",
       "    </tr>\n",
       "    <tr>\n",
       "      <td>city_agg_3</td>\n",
       "      <td>-0.097775</td>\n",
       "      <td>0.906853</td>\n",
       "      <td>0.027483</td>\n",
       "      <td>-0.151641</td>\n",
       "      <td>-0.043909</td>\n",
       "      <td>0.859297</td>\n",
       "      <td>0.957041</td>\n",
       "      <td>-3.557618</td>\n",
       "      <td>3.742326e-04</td>\n",
       "      <td>11.383777</td>\n",
       "    </tr>\n",
       "    <tr>\n",
       "      <td>city_agg_4</td>\n",
       "      <td>-0.086367</td>\n",
       "      <td>0.917258</td>\n",
       "      <td>0.023632</td>\n",
       "      <td>-0.132684</td>\n",
       "      <td>-0.040049</td>\n",
       "      <td>0.875742</td>\n",
       "      <td>0.960742</td>\n",
       "      <td>-3.654679</td>\n",
       "      <td>2.575037e-04</td>\n",
       "      <td>11.923119</td>\n",
       "    </tr>\n",
       "    <tr>\n",
       "      <td>registered_via_PCA</td>\n",
       "      <td>1.074786</td>\n",
       "      <td>2.929367</td>\n",
       "      <td>0.018351</td>\n",
       "      <td>1.038818</td>\n",
       "      <td>1.110754</td>\n",
       "      <td>2.825876</td>\n",
       "      <td>3.036647</td>\n",
       "      <td>58.567465</td>\n",
       "      <td>0.000000e+00</td>\n",
       "      <td>inf</td>\n",
       "    </tr>\n",
       "  </tbody>\n",
       "</table>\n",
       "</div>"
      ],
      "text/plain": [
       "                          coef  exp(coef)  se(coef)  coef lower 95%  \\\n",
       "unique_payment_plans -0.998432   0.368457  0.014871       -1.027579   \n",
       "Cluster_1             0.740052   2.096046  0.015809        0.709068   \n",
       "Cluster_2            -0.256427   0.773812  0.027653       -0.310626   \n",
       "Cluster_3            -0.342694   0.709856  0.066738       -0.473498   \n",
       "city_agg_1            0.647356   1.910482  0.029507        0.589523   \n",
       "city_agg_2           -0.244745   0.782904  0.026295       -0.296282   \n",
       "city_agg_3           -0.097775   0.906853  0.027483       -0.151641   \n",
       "city_agg_4           -0.086367   0.917258  0.023632       -0.132684   \n",
       "registered_via_PCA    1.074786   2.929367  0.018351        1.038818   \n",
       "\n",
       "                      coef upper 95%  exp(coef) lower 95%  \\\n",
       "unique_payment_plans       -0.969285             0.357872   \n",
       "Cluster_1                   0.771037             2.032097   \n",
       "Cluster_2                  -0.202227             0.732988   \n",
       "Cluster_3                  -0.211889             0.622820   \n",
       "city_agg_1                  0.705189             1.803128   \n",
       "city_agg_2                 -0.193208             0.743578   \n",
       "city_agg_3                 -0.043909             0.859297   \n",
       "city_agg_4                 -0.040049             0.875742   \n",
       "registered_via_PCA          1.110754             2.825876   \n",
       "\n",
       "                      exp(coef) upper 95%          z              p  \\\n",
       "unique_payment_plans             0.379354 -67.138451   0.000000e+00   \n",
       "Cluster_1                        2.162006  46.813396   0.000000e+00   \n",
       "Cluster_2                        0.816909  -9.272955   1.810581e-20   \n",
       "Cluster_3                        0.809055  -5.134884   2.823183e-07   \n",
       "city_agg_1                       2.024228  21.938967  1.103812e-106   \n",
       "city_agg_2                       0.824311  -9.307716   1.306112e-20   \n",
       "city_agg_3                       0.957041  -3.557618   3.742326e-04   \n",
       "city_agg_4                       0.960742  -3.654679   2.575037e-04   \n",
       "registered_via_PCA               3.036647  58.567465   0.000000e+00   \n",
       "\n",
       "                        -log2(p)  \n",
       "unique_payment_plans         inf  \n",
       "Cluster_1                    inf  \n",
       "Cluster_2              65.582109  \n",
       "Cluster_3              21.756174  \n",
       "city_agg_1            351.981883  \n",
       "city_agg_2             66.053283  \n",
       "city_agg_3             11.383777  \n",
       "city_agg_4             11.923119  \n",
       "registered_via_PCA           inf  "
      ]
     },
     "execution_count": 9,
     "metadata": {},
     "output_type": "execute_result"
    }
   ],
   "source": [
    "model_lifelines.summary"
   ]
  },
  {
   "cell_type": "markdown",
   "metadata": {},
   "source": [
    "## 3) Calculate Lifetime Value and Cummulative Harzard Probability"
   ]
  },
  {
   "cell_type": "code",
   "execution_count": 14,
   "metadata": {},
   "outputs": [],
   "source": [
    "sample = CLV_Feb2016[0:4]"
   ]
  },
  {
   "cell_type": "code",
   "execution_count": 15,
   "metadata": {},
   "outputs": [],
   "source": [
    "def cumul_hazard_prob(row):\n",
    "    if row['tenure'] > 4306:\n",
    "        return model_lifelines.predict_cumulative_hazard(row).iloc[row['tenure']-(row['tenure']-4306)] \n",
    "    else: \n",
    "        return model_lifelines.predict_cumulative_hazard(row).iloc[row['tenure']]"
   ]
  },
  {
   "cell_type": "code",
   "execution_count": 23,
   "metadata": {},
   "outputs": [
    {
     "ename": "TypeError",
     "evalue": "cumul_hazard_prob() got an unexpected keyword argument 'axis'",
     "output_type": "error",
     "traceback": [
      "\u001b[1;31m---------------------------------------------------------------------------\u001b[0m",
      "\u001b[1;31mTypeError\u001b[0m                                 Traceback (most recent call last)",
      "\u001b[1;32m<ipython-input-23-3000984053f4>\u001b[0m in \u001b[0;36m<module>\u001b[1;34m\u001b[0m\n\u001b[0;32m      1\u001b[0m \u001b[1;32mfor\u001b[0m \u001b[0mindex\u001b[0m\u001b[1;33m,\u001b[0m\u001b[0mrow\u001b[0m \u001b[1;32min\u001b[0m \u001b[0msample\u001b[0m\u001b[1;33m.\u001b[0m\u001b[0miterrows\u001b[0m\u001b[1;33m(\u001b[0m\u001b[1;33m)\u001b[0m\u001b[1;33m:\u001b[0m\u001b[1;33m\u001b[0m\u001b[1;33m\u001b[0m\u001b[0m\n\u001b[1;32m----> 2\u001b[1;33m     \u001b[0mrow\u001b[0m\u001b[1;33m.\u001b[0m\u001b[0mapply\u001b[0m\u001b[1;33m(\u001b[0m\u001b[0mcumul_hazard_prob\u001b[0m\u001b[1;33m,\u001b[0m \u001b[0maxis\u001b[0m\u001b[1;33m=\u001b[0m\u001b[1;36m1\u001b[0m\u001b[1;33m)\u001b[0m\u001b[1;33m\u001b[0m\u001b[1;33m\u001b[0m\u001b[0m\n\u001b[0m",
      "\u001b[1;32mD:\\Anaconda\\lib\\site-packages\\pandas\\core\\series.py\u001b[0m in \u001b[0;36mapply\u001b[1;34m(self, func, convert_dtype, args, **kwds)\u001b[0m\n\u001b[0;32m   4040\u001b[0m             \u001b[1;32melse\u001b[0m\u001b[1;33m:\u001b[0m\u001b[1;33m\u001b[0m\u001b[1;33m\u001b[0m\u001b[0m\n\u001b[0;32m   4041\u001b[0m                 \u001b[0mvalues\u001b[0m \u001b[1;33m=\u001b[0m \u001b[0mself\u001b[0m\u001b[1;33m.\u001b[0m\u001b[0mastype\u001b[0m\u001b[1;33m(\u001b[0m\u001b[0mobject\u001b[0m\u001b[1;33m)\u001b[0m\u001b[1;33m.\u001b[0m\u001b[0mvalues\u001b[0m\u001b[1;33m\u001b[0m\u001b[1;33m\u001b[0m\u001b[0m\n\u001b[1;32m-> 4042\u001b[1;33m                 \u001b[0mmapped\u001b[0m \u001b[1;33m=\u001b[0m \u001b[0mlib\u001b[0m\u001b[1;33m.\u001b[0m\u001b[0mmap_infer\u001b[0m\u001b[1;33m(\u001b[0m\u001b[0mvalues\u001b[0m\u001b[1;33m,\u001b[0m \u001b[0mf\u001b[0m\u001b[1;33m,\u001b[0m \u001b[0mconvert\u001b[0m\u001b[1;33m=\u001b[0m\u001b[0mconvert_dtype\u001b[0m\u001b[1;33m)\u001b[0m\u001b[1;33m\u001b[0m\u001b[1;33m\u001b[0m\u001b[0m\n\u001b[0m\u001b[0;32m   4043\u001b[0m \u001b[1;33m\u001b[0m\u001b[0m\n\u001b[0;32m   4044\u001b[0m         \u001b[1;32mif\u001b[0m \u001b[0mlen\u001b[0m\u001b[1;33m(\u001b[0m\u001b[0mmapped\u001b[0m\u001b[1;33m)\u001b[0m \u001b[1;32mand\u001b[0m \u001b[0misinstance\u001b[0m\u001b[1;33m(\u001b[0m\u001b[0mmapped\u001b[0m\u001b[1;33m[\u001b[0m\u001b[1;36m0\u001b[0m\u001b[1;33m]\u001b[0m\u001b[1;33m,\u001b[0m \u001b[0mSeries\u001b[0m\u001b[1;33m)\u001b[0m\u001b[1;33m:\u001b[0m\u001b[1;33m\u001b[0m\u001b[1;33m\u001b[0m\u001b[0m\n",
      "\u001b[1;32mpandas\\_libs\\lib.pyx\u001b[0m in \u001b[0;36mpandas._libs.lib.map_infer\u001b[1;34m()\u001b[0m\n",
      "\u001b[1;32mD:\\Anaconda\\lib\\site-packages\\pandas\\core\\series.py\u001b[0m in \u001b[0;36mf\u001b[1;34m(x)\u001b[0m\n\u001b[0;32m   4026\u001b[0m \u001b[1;33m\u001b[0m\u001b[0m\n\u001b[0;32m   4027\u001b[0m             \u001b[1;32mdef\u001b[0m \u001b[0mf\u001b[0m\u001b[1;33m(\u001b[0m\u001b[0mx\u001b[0m\u001b[1;33m)\u001b[0m\u001b[1;33m:\u001b[0m\u001b[1;33m\u001b[0m\u001b[1;33m\u001b[0m\u001b[0m\n\u001b[1;32m-> 4028\u001b[1;33m                 \u001b[1;32mreturn\u001b[0m \u001b[0mfunc\u001b[0m\u001b[1;33m(\u001b[0m\u001b[0mx\u001b[0m\u001b[1;33m,\u001b[0m \u001b[1;33m*\u001b[0m\u001b[0margs\u001b[0m\u001b[1;33m,\u001b[0m \u001b[1;33m**\u001b[0m\u001b[0mkwds\u001b[0m\u001b[1;33m)\u001b[0m\u001b[1;33m\u001b[0m\u001b[1;33m\u001b[0m\u001b[0m\n\u001b[0m\u001b[0;32m   4029\u001b[0m \u001b[1;33m\u001b[0m\u001b[0m\n\u001b[0;32m   4030\u001b[0m         \u001b[1;32melse\u001b[0m\u001b[1;33m:\u001b[0m\u001b[1;33m\u001b[0m\u001b[1;33m\u001b[0m\u001b[0m\n",
      "\u001b[1;31mTypeError\u001b[0m: cumul_hazard_prob() got an unexpected keyword argument 'axis'"
     ]
    }
   ],
   "source": [
    "for index,row in sample.iterrows():\n",
    "    row.apply(cumul_hazard_prob, axis=1)"
   ]
  },
  {
   "cell_type": "code",
   "execution_count": 180,
   "metadata": {},
   "outputs": [
    {
     "data": {
      "text/html": [
       "<div>\n",
       "<style scoped>\n",
       "    .dataframe tbody tr th:only-of-type {\n",
       "        vertical-align: middle;\n",
       "    }\n",
       "\n",
       "    .dataframe tbody tr th {\n",
       "        vertical-align: top;\n",
       "    }\n",
       "\n",
       "    .dataframe thead th {\n",
       "        text-align: right;\n",
       "    }\n",
       "</style>\n",
       "<table border=\"1\" class=\"dataframe\">\n",
       "  <thead>\n",
       "    <tr style=\"text-align: right;\">\n",
       "      <th></th>\n",
       "      <th>msno</th>\n",
       "      <th>avg_paid_per_day</th>\n",
       "      <th>is_churn</th>\n",
       "      <th>tenure</th>\n",
       "      <th>unique_payment_plans</th>\n",
       "      <th>Cluster_1</th>\n",
       "      <th>Cluster_2</th>\n",
       "      <th>Cluster_3</th>\n",
       "      <th>city_agg_1</th>\n",
       "      <th>city_agg_2</th>\n",
       "      <th>city_agg_3</th>\n",
       "      <th>city_agg_4</th>\n",
       "      <th>registered_via_PCA</th>\n",
       "      <th>Cumm. Hazard Prob</th>\n",
       "    </tr>\n",
       "  </thead>\n",
       "  <tbody>\n",
       "    <tr>\n",
       "      <td>0</td>\n",
       "      <td>CFcdNb91Fh3lVU+vrA/Ur9rZKcHmvrrW/De9JXE1obI=</td>\n",
       "      <td>9.5</td>\n",
       "      <td>0</td>\n",
       "      <td>691</td>\n",
       "      <td>1</td>\n",
       "      <td>1</td>\n",
       "      <td>0</td>\n",
       "      <td>0</td>\n",
       "      <td>1</td>\n",
       "      <td>0</td>\n",
       "      <td>0</td>\n",
       "      <td>0</td>\n",
       "      <td>-0.471</td>\n",
       "      <td>0.042233</td>\n",
       "    </tr>\n",
       "    <tr>\n",
       "      <td>1</td>\n",
       "      <td>W6788K7k6Eq/FIe2qZdQZ4FlcQUJrbGja8V8UNFW6T0=</td>\n",
       "      <td>9.5</td>\n",
       "      <td>0</td>\n",
       "      <td>215</td>\n",
       "      <td>1</td>\n",
       "      <td>1</td>\n",
       "      <td>0</td>\n",
       "      <td>0</td>\n",
       "      <td>1</td>\n",
       "      <td>0</td>\n",
       "      <td>0</td>\n",
       "      <td>0</td>\n",
       "      <td>-0.471</td>\n",
       "      <td>NaN</td>\n",
       "    </tr>\n",
       "  </tbody>\n",
       "</table>\n",
       "</div>"
      ],
      "text/plain": [
       "                                           msno  avg_paid_per_day  is_churn  \\\n",
       "0  CFcdNb91Fh3lVU+vrA/Ur9rZKcHmvrrW/De9JXE1obI=               9.5         0   \n",
       "1  W6788K7k6Eq/FIe2qZdQZ4FlcQUJrbGja8V8UNFW6T0=               9.5         0   \n",
       "\n",
       "   tenure  unique_payment_plans  Cluster_1  Cluster_2  Cluster_3  city_agg_1  \\\n",
       "0     691                     1          1          0          0           1   \n",
       "1     215                     1          1          0          0           1   \n",
       "\n",
       "   city_agg_2  city_agg_3  city_agg_4  registered_via_PCA  Cumm. Hazard Prob  \n",
       "0           0           0           0              -0.471           0.042233  \n",
       "1           0           0           0              -0.471                NaN  "
      ]
     },
     "execution_count": 180,
     "metadata": {},
     "output_type": "execute_result"
    }
   ],
   "source": [
    "sample"
   ]
  },
  {
   "cell_type": "code",
   "execution_count": null,
   "metadata": {},
   "outputs": [],
   "source": []
  }
 ],
 "metadata": {
  "kernelspec": {
   "display_name": "Python 3",
   "language": "python",
   "name": "python3"
  },
  "language_info": {
   "codemirror_mode": {
    "name": "ipython",
    "version": 3
   },
   "file_extension": ".py",
   "mimetype": "text/x-python",
   "name": "python",
   "nbconvert_exporter": "python",
   "pygments_lexer": "ipython3",
   "version": "3.7.3"
  }
 },
 "nbformat": 4,
 "nbformat_minor": 4
}
