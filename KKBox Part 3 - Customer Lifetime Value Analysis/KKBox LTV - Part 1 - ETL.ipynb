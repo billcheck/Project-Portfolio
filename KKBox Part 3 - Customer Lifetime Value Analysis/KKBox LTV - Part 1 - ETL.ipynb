{
 "cells": [
  {
   "cell_type": "markdown",
   "metadata": {},
   "source": [
    "# KKBox Customer Lifetime Value Analysis"
   ]
  },
  {
   "cell_type": "markdown",
   "metadata": {},
   "source": [
    "---"
   ]
  },
  {
   "cell_type": "markdown",
   "metadata": {},
   "source": [
    "# Part I: <font color=green>*Extraction, Transformation, and Loading*</font>"
   ]
  },
  {
   "cell_type": "markdown",
   "metadata": {},
   "source": [
    "---"
   ]
  },
  {
   "cell_type": "code",
   "execution_count": null,
   "metadata": {},
   "outputs": [],
   "source": [
    "# General Imports\n",
    "import pandas as pd\n",
    "import numpy as np\n",
    "import matplotlib.pyplot as plt\n",
    "%matplotlib inline\n",
    "import seaborn as sns\n",
    "from scipy import stats\n",
    "import datetime "
   ]
  },
  {
   "cell_type": "markdown",
   "metadata": {},
   "source": [
    "## Import and Prep Data"
   ]
  },
  {
   "cell_type": "code",
   "execution_count": null,
   "metadata": {},
   "outputs": [],
   "source": [
    "# Import Transaction Files\n",
    "transactions0 = pd.read_csv('D:/J-5 Local/KKBox Sources/transaction0.csv')\n",
    "transactions1 = pd.read_csv('D:/J-5 Local/KKBox Sources/transaction1.csv')\n",
    "transactions2 = pd.read_csv('D:/J-5 Local/KKBox Sources/transaction2.csv')\n",
    "transactions3 = pd.read_csv('D:/J-5 Local/KKBox Sources/transaction3.csv')\n",
    "transactions4 = pd.read_csv('D:/J-5 Local/KKBox Sources/transaction4.csv')\n",
    "\n",
    "# Concat all files into one\n",
    "transactions = pd.concat([transactions0,transactions1,transactions2,transactions3,transactions4])\n",
    "\n",
    "# Delete temp uploads\n",
    "del transactions0\n",
    "del transactions1\n",
    "del transactions2\n",
    "del transactions3\n",
    "del transactions4\n",
    "\n",
    "# Import Churn Files\n",
    "DRV_Feb2016 = pd.read_csv('D:/J-5 Local/DRV_Feb2016_With_Cluster')"
   ]
  },
  {
   "cell_type": "code",
   "execution_count": null,
   "metadata": {},
   "outputs": [],
   "source": [
    "# Convert Date columns into DateTime Object\n",
    "transactions['transaction_date'] = pd.to_datetime(transactions['transaction_date'])\n",
    "transactions['membership_expire_date'] = pd.to_datetime(transactions['membership_expire_date'])\n",
    "DRV_Feb2016['membership_expire_date'] = pd.to_datetime(DRV_Feb2016['membership_expire_date'])\n",
    "DRV_Feb2016['registration_init_time'] = pd.to_datetime(DRV_Feb2016['registration_init_time'])"
   ]
  },
  {
   "cell_type": "markdown",
   "metadata": {},
   "source": [
    "As this the 3rd project with this dataset, we will simply be exploring data with respect to the use case of Survival Analysis and Customer Lifetime Value. Please refer to the previous projects if you wish to know more about the dataset as a whole.\n",
    "\n",
    "The goal of this section is to prepare and format the dataset so that it is prepared for our Survival Analysis"
   ]
  },
  {
   "cell_type": "markdown",
   "metadata": {},
   "source": [
    "### <font color=purple>Filter DF With Necessary Columns</font>"
   ]
  },
  {
   "cell_type": "code",
   "execution_count": null,
   "metadata": {},
   "outputs": [],
   "source": [
    "# Calculate Average Price Paid (from KKBOX)\n",
    "DRV_Feb2016['avg_paid_per_day'] = (9.50/30)"
   ]
  },
  {
   "cell_type": "code",
   "execution_count": null,
   "metadata": {},
   "outputs": [],
   "source": [
    "# Create Master Dataset\n",
    "DRV_Feb2016 = DRV_Feb2016[['msno','payment_plan_days','registration_init_time','membership_expire_date','avg_paid_per_day','registered_via','city_agg','Cluster','is_churn']]"
   ]
  },
  {
   "cell_type": "markdown",
   "metadata": {},
   "source": [
    "### <font color=purple>Inspect Payment Plan Days</font>"
   ]
  },
  {
   "cell_type": "markdown",
   "metadata": {},
   "source": [
    "In contractural settings, how often what one pays is critical in determining lifetime value. Let's look at our current use-case to see what payment plan periods are being utilized by our users. As this project is taking place at the same time of our Churn and initial Customer Segmentation projects, we will be observing all data through January 2016"
   ]
  },
  {
   "cell_type": "code",
   "execution_count": null,
   "metadata": {},
   "outputs": [],
   "source": [
    "# Payment plan days distribution\n",
    "transactions[transactions['transaction_date'] < datetime.datetime(2016,2,28)]['payment_plan_days'].value_counts().head(10)"
   ]
  },
  {
   "cell_type": "markdown",
   "metadata": {},
   "source": [
    "Before 2016 KKBox made a switch from 31 day payments to 30 day payments. For the simplicity, we will be combining these values."
   ]
  },
  {
   "cell_type": "code",
   "execution_count": null,
   "metadata": {},
   "outputs": [],
   "source": [
    "# Make a transaction DF just for users who have transaction dates beyond 2016\n",
    "transactions = transactions[transactions['transaction_date'] < datetime.datetime(2016,2,28)]\n",
    "\n",
    "# Convert 31 to 30\n",
    "transactions['payment_plan_days'] = transactions['payment_plan_days'].apply(lambda x: 30 if x == 31 else x)"
   ]
  },
  {
   "cell_type": "markdown",
   "metadata": {},
   "source": [
    "## Feature Engineering"
   ]
  },
  {
   "cell_type": "markdown",
   "metadata": {},
   "source": [
    "### <font color=purple>*Do all users have a single unique Payment Plan Period?*</font>"
   ]
  },
  {
   "cell_type": "markdown",
   "metadata": {},
   "source": [
    "Next we want to determine whether or not a user has had a single recurring payment plan period through his lifetime. Aside from comparing unique payment plan periods to each other, it would also be interesting to determine whether users who have had multiple payments have a higher LTV than those who have not."
   ]
  },
  {
   "cell_type": "code",
   "execution_count": null,
   "metadata": {},
   "outputs": [],
   "source": [
    "# Members vs # of Unique payment_plan_days\n",
    "temp = transactions.groupby('msno')['payment_plan_days'].nunique().reset_index()\n",
    "temp['payment_plan_days'].value_counts()"
   ]
  },
  {
   "cell_type": "markdown",
   "metadata": {},
   "source": [
    "Here we see that some users do not have an exclusive payment plan and have switched from plan to plan over their lifetime. In order to have an accurate analysis we will segment across users with single plans vs users with various plans. Let's add these values as a new feature."
   ]
  },
  {
   "cell_type": "code",
   "execution_count": null,
   "metadata": {},
   "outputs": [],
   "source": [
    "# Add unique_payment_plan_days to Master DF\n",
    "temp.columns = ['msno', 'unique_payment_plans']\n",
    "DRV_Feb2016 = pd.merge(DRV_Feb2016, temp, on='msno', how='inner')"
   ]
  },
  {
   "cell_type": "markdown",
   "metadata": {},
   "source": [
    "### <font color=purple>*Calculate Tenure*</font>"
   ]
  },
  {
   "cell_type": "markdown",
   "metadata": {},
   "source": [
    "Now we will calculate membership tenure. As our dataset is from January 1st 2015 to February 28th 2016, we will calculate tenure as ***February 28th 2016 - Earliest Transaction Date***."
   ]
  },
  {
   "cell_type": "code",
   "execution_count": null,
   "metadata": {},
   "outputs": [],
   "source": [
    "# Calculate tenure\n",
    "temp = transactions.groupby('msno')['transaction_date'].min().reset_index()\n",
    "DRV_Feb2016 = pd.merge(DRV_Feb2016, temp, on='msno')\n",
    "DRV_Feb2016['tenure'] = (DRV_Feb2016['membership_expire_date'] - DRV_Feb2016['registration_init_time']).dt.days"
   ]
  },
  {
   "cell_type": "code",
   "execution_count": null,
   "metadata": {},
   "outputs": [],
   "source": [
    "DRV_Feb2016 = DRV_Feb2016.drop(['membership_expire_date','transaction_date'], axis=1)"
   ]
  },
  {
   "cell_type": "markdown",
   "metadata": {},
   "source": [
    "## Export Data"
   ]
  },
  {
   "cell_type": "code",
   "execution_count": null,
   "metadata": {},
   "outputs": [],
   "source": [
    "DRV_Feb2016.to_csv('D:/J-5 Local/CLV Data/CLV_Feb2016.csv')"
   ]
  }
 ],
 "metadata": {
  "kernelspec": {
   "display_name": "Python 3",
   "language": "python",
   "name": "python3"
  },
  "language_info": {
   "codemirror_mode": {
    "name": "ipython",
    "version": 3
   },
   "file_extension": ".py",
   "mimetype": "text/x-python",
   "name": "python",
   "nbconvert_exporter": "python",
   "pygments_lexer": "ipython3",
   "version": "3.7.5"
  }
 },
 "nbformat": 4,
 "nbformat_minor": 4
}
