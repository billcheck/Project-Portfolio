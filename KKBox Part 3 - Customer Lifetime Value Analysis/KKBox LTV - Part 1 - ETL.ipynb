{
 "cells": [
  {
   "cell_type": "markdown",
   "metadata": {},
   "source": [
    "# KKBox Customer Lifetime Value Analysis"
   ]
  },
  {
   "cell_type": "markdown",
   "metadata": {},
   "source": [
    "---"
   ]
  },
  {
   "cell_type": "markdown",
   "metadata": {},
   "source": [
    "# Part I: <font color=green>*Extraction, Transformation, and Loading*</font>"
   ]
  },
  {
   "cell_type": "markdown",
   "metadata": {},
   "source": [
    "---"
   ]
  },
  {
   "cell_type": "code",
   "execution_count": 22,
   "metadata": {},
   "outputs": [],
   "source": [
    "# General Imports\n",
    "import pandas as pd\n",
    "import numpy as np\n",
    "import matplotlib.pyplot as plt\n",
    "%matplotlib inline\n",
    "import seaborn as sns\n",
    "from scipy import stats\n",
    "import datetime "
   ]
  },
  {
   "cell_type": "markdown",
   "metadata": {},
   "source": [
    "## Import and Prep Data"
   ]
  },
  {
   "cell_type": "code",
   "execution_count": 23,
   "metadata": {},
   "outputs": [],
   "source": [
    "# Import Transaction Files\n",
    "transactions0 = pd.read_csv('D:/J-5 Local/transaction0.csv')\n",
    "transactions1 = pd.read_csv('D:/J-5 Local/transaction1.csv')\n",
    "transactions2 = pd.read_csv('D:/J-5 Local/transaction2.csv')\n",
    "transactions3 = pd.read_csv('D:/J-5 Local/transaction3.csv')\n",
    "transactions4 = pd.read_csv('D:/J-5 Local/transaction4.csv')\n",
    "\n",
    "# Concat all files into one\n",
    "transactions = pd.concat([transactions0,transactions1,transactions2,transactions3,transactions4])\n",
    "\n",
    "# Delete temp uploads\n",
    "del transactions0\n",
    "del transactions1\n",
    "del transactions2\n",
    "del transactions3\n",
    "del transactions4\n",
    "\n",
    "# Import Churn Files\n",
    "churn_cluster = pd.read_csv('D:/J-5 Local/DRV_Feb2016_With_Cluster')\n",
    "\n",
    "# Import Members Files\n",
    "members = pd.read_csv('D:/J-5 Local/members.csv')"
   ]
  },
  {
   "cell_type": "code",
   "execution_count": 24,
   "metadata": {},
   "outputs": [],
   "source": [
    "# Convert Date columns into DateTime Object\n",
    "transactions['transaction_date'] = pd.to_datetime(transactions['transaction_date'])\n",
    "transactions['membership_expire_date'] = pd.to_datetime(transactions['membership_expire_date'])\n",
    "members['registration_init_time'] = pd.to_datetime(members['registration_init_time'])"
   ]
  },
  {
   "cell_type": "markdown",
   "metadata": {},
   "source": [
    "As this the 3rd project with this dataset, we will simply be exploring data with respect to the use case of Survival Analysis and Customer Lifetime Value. Please refer to the previous projects if you wish to know more about the dataset as a whole.\n",
    "\n",
    "The goal of this section is to prepare and format the dataset so that it is prepared for our Survival Analysis"
   ]
  },
  {
   "cell_type": "markdown",
   "metadata": {},
   "source": [
    "### <font color=purple>Create Master DF</font>"
   ]
  },
  {
   "cell_type": "code",
   "execution_count": 25,
   "metadata": {},
   "outputs": [],
   "source": [
    "# Create Master Dataset\n",
    "clv_data_master = pd.merge(members, churn_cluster[['msno','is_churn','Cluster','city_agg']], on='msno')"
   ]
  },
  {
   "cell_type": "code",
   "execution_count": 26,
   "metadata": {},
   "outputs": [],
   "source": [
    "del members\n",
    "del churn_cluster"
   ]
  },
  {
   "cell_type": "code",
   "execution_count": 27,
   "metadata": {},
   "outputs": [
    {
     "data": {
      "text/html": [
       "<div>\n",
       "<style scoped>\n",
       "    .dataframe tbody tr th:only-of-type {\n",
       "        vertical-align: middle;\n",
       "    }\n",
       "\n",
       "    .dataframe tbody tr th {\n",
       "        vertical-align: top;\n",
       "    }\n",
       "\n",
       "    .dataframe thead th {\n",
       "        text-align: right;\n",
       "    }\n",
       "</style>\n",
       "<table border=\"1\" class=\"dataframe\">\n",
       "  <thead>\n",
       "    <tr style=\"text-align: right;\">\n",
       "      <th></th>\n",
       "      <th>msno</th>\n",
       "      <th>city</th>\n",
       "      <th>bd</th>\n",
       "      <th>gender</th>\n",
       "      <th>registered_via</th>\n",
       "      <th>registration_init_time</th>\n",
       "      <th>is_churn</th>\n",
       "      <th>Cluster</th>\n",
       "      <th>city_agg</th>\n",
       "    </tr>\n",
       "  </thead>\n",
       "  <tbody>\n",
       "    <tr>\n",
       "      <td>0</td>\n",
       "      <td>P/Jw4MNLvfODOLBMXnuprsWoTDk2Tvez9k9uYPUDOH4=</td>\n",
       "      <td>20</td>\n",
       "      <td>0</td>\n",
       "      <td>NaN</td>\n",
       "      <td>3</td>\n",
       "      <td>2013-03-31</td>\n",
       "      <td>0</td>\n",
       "      <td>2</td>\n",
       "      <td>0</td>\n",
       "    </tr>\n",
       "    <tr>\n",
       "      <td>1</td>\n",
       "      <td>BZugFTI+gk693KTVjzn4H+uENNjuOfoafXc73bkehQ0=</td>\n",
       "      <td>10</td>\n",
       "      <td>0</td>\n",
       "      <td>NaN</td>\n",
       "      <td>3</td>\n",
       "      <td>2013-05-02</td>\n",
       "      <td>0</td>\n",
       "      <td>2</td>\n",
       "      <td>0</td>\n",
       "    </tr>\n",
       "    <tr>\n",
       "      <td>2</td>\n",
       "      <td>/84Qsm0+k8byRbnq4Uhcneu/Zp/BgicaGLgJ+wuZLXU=</td>\n",
       "      <td>21</td>\n",
       "      <td>0</td>\n",
       "      <td>NaN</td>\n",
       "      <td>3</td>\n",
       "      <td>2014-03-25</td>\n",
       "      <td>0</td>\n",
       "      <td>1</td>\n",
       "      <td>0</td>\n",
       "    </tr>\n",
       "    <tr>\n",
       "      <td>3</td>\n",
       "      <td>TRdjEyUSvy9ou8lgD5/LPuOZSJwKTiwoNXNJu6CQD0k=</td>\n",
       "      <td>3</td>\n",
       "      <td>0</td>\n",
       "      <td>NaN</td>\n",
       "      <td>3</td>\n",
       "      <td>2013-02-17</td>\n",
       "      <td>0</td>\n",
       "      <td>1</td>\n",
       "      <td>0</td>\n",
       "    </tr>\n",
       "    <tr>\n",
       "      <td>4</td>\n",
       "      <td>XXvj8r0kqkT10F0mRnFCThXHZCra/BRuGvwXCiym+VI=</td>\n",
       "      <td>17</td>\n",
       "      <td>0</td>\n",
       "      <td>NaN</td>\n",
       "      <td>3</td>\n",
       "      <td>2013-11-08</td>\n",
       "      <td>0</td>\n",
       "      <td>1</td>\n",
       "      <td>0</td>\n",
       "    </tr>\n",
       "  </tbody>\n",
       "</table>\n",
       "</div>"
      ],
      "text/plain": [
       "                                           msno  city  bd gender  \\\n",
       "0  P/Jw4MNLvfODOLBMXnuprsWoTDk2Tvez9k9uYPUDOH4=    20   0    NaN   \n",
       "1  BZugFTI+gk693KTVjzn4H+uENNjuOfoafXc73bkehQ0=    10   0    NaN   \n",
       "2  /84Qsm0+k8byRbnq4Uhcneu/Zp/BgicaGLgJ+wuZLXU=    21   0    NaN   \n",
       "3  TRdjEyUSvy9ou8lgD5/LPuOZSJwKTiwoNXNJu6CQD0k=     3   0    NaN   \n",
       "4  XXvj8r0kqkT10F0mRnFCThXHZCra/BRuGvwXCiym+VI=    17   0    NaN   \n",
       "\n",
       "   registered_via registration_init_time  is_churn  Cluster  city_agg  \n",
       "0               3             2013-03-31         0        2         0  \n",
       "1               3             2013-05-02         0        2         0  \n",
       "2               3             2014-03-25         0        1         0  \n",
       "3               3             2013-02-17         0        1         0  \n",
       "4               3             2013-11-08         0        1         0  "
      ]
     },
     "execution_count": 27,
     "metadata": {},
     "output_type": "execute_result"
    }
   ],
   "source": [
    "clv_data_master.head()"
   ]
  },
  {
   "cell_type": "markdown",
   "metadata": {},
   "source": [
    "### <font color=purple>Inspect Payment Plan Days</font>"
   ]
  },
  {
   "cell_type": "markdown",
   "metadata": {},
   "source": [
    "In contractural settings, how often what one pays is critical in determining lifetime value. Let's look at our current use-case to see what payment plan periods are being utilized by our users. As this project is taking place at the same time of our Churn and initial Customer Segmentation projects, we will be observing all data through January 2016"
   ]
  },
  {
   "cell_type": "code",
   "execution_count": 28,
   "metadata": {},
   "outputs": [
    {
     "data": {
      "text/plain": [
       "30     8017313\n",
       "0       870121\n",
       "31      766608\n",
       "7       221883\n",
       "410      79508\n",
       "195      75600\n",
       "10       32737\n",
       "180      30904\n",
       "100      11051\n",
       "395      10329\n",
       "Name: payment_plan_days, dtype: int64"
      ]
     },
     "execution_count": 28,
     "metadata": {},
     "output_type": "execute_result"
    }
   ],
   "source": [
    "# Payment plan days distribution\n",
    "transactions[transactions['transaction_date'] < datetime.datetime(2016,2,28)]['payment_plan_days'].value_counts().head(10)"
   ]
  },
  {
   "cell_type": "markdown",
   "metadata": {},
   "source": [
    "Before 2016 KKBox made a switch from 31 day payments to 30 day payments. For the simplicity, we will be combining these values."
   ]
  },
  {
   "cell_type": "code",
   "execution_count": 29,
   "metadata": {},
   "outputs": [],
   "source": [
    "# Make a transaction DF just for users who have transaction dates beyond 2016\n",
    "transactions = transactions[transactions['transaction_date'] < datetime.datetime(2016,2,28)]\n",
    "\n",
    "# Convert 31 to 30\n",
    "transactions['payment_plan_days'] = transactions['payment_plan_days'].apply(lambda x: 30 if x == 31 else x)"
   ]
  },
  {
   "cell_type": "markdown",
   "metadata": {},
   "source": [
    "## Feature Engineering"
   ]
  },
  {
   "cell_type": "markdown",
   "metadata": {},
   "source": [
    "### <font color=purple>*Do all users have a single unique Payment Plan Period?*</font>"
   ]
  },
  {
   "cell_type": "markdown",
   "metadata": {},
   "source": [
    "Next we want to determine whether or not a user has had a single recurring payment plan period through his lifetime. Aside from comparing unique payment plan periods to each other, it would also be interesting to determine whether users who have had multiple payments have a higher LTV than those who have not."
   ]
  },
  {
   "cell_type": "code",
   "execution_count": 30,
   "metadata": {},
   "outputs": [
    {
     "data": {
      "text/plain": [
       "1    1048019\n",
       "2     544206\n",
       "3      39834\n",
       "4       1823\n",
       "5        155\n",
       "6         16\n",
       "7          4\n",
       "8          1\n",
       "Name: payment_plan_days, dtype: int64"
      ]
     },
     "execution_count": 30,
     "metadata": {},
     "output_type": "execute_result"
    }
   ],
   "source": [
    "# Members vs # of Unique payment_plan_days\n",
    "temp = transactions.groupby('msno')['payment_plan_days'].nunique().reset_index()\n",
    "temp['payment_plan_days'].value_counts()"
   ]
  },
  {
   "cell_type": "markdown",
   "metadata": {},
   "source": [
    "Here we see that some users do not have an exclusive payment plan and have switched from plan to plan over their lifetime. In order to have an accurate analysis we will segment across users with single plans vs users with various plans. Let's add these values as a new feature."
   ]
  },
  {
   "cell_type": "code",
   "execution_count": 31,
   "metadata": {},
   "outputs": [],
   "source": [
    "# Add unique_payment_plan_days to Master DF\n",
    "temp.columns = ['msno', 'unique_payment_plans']\n",
    "clv_data_2016 = pd.merge(clv_data_master, temp, on='msno', how='inner')"
   ]
  },
  {
   "cell_type": "markdown",
   "metadata": {},
   "source": [
    "### <font color=purple>*Add Payment Plan: Days, List Price, Discount*</font>"
   ]
  },
  {
   "cell_type": "code",
   "execution_count": 32,
   "metadata": {},
   "outputs": [],
   "source": [
    "# Add payment plan days to master df\n",
    "temp = transactions.groupby('msno')['payment_plan_days'].median().reset_index()\n",
    "clv_data_2016 = pd.merge(clv_data_2016, temp, on='msno')"
   ]
  },
  {
   "cell_type": "code",
   "execution_count": 33,
   "metadata": {},
   "outputs": [],
   "source": [
    "# Add payment plan price to master df\n",
    "temp = transactions.groupby('msno')['plan_list_price'].median().reset_index()\n",
    "clv_data_2016 = pd.merge(clv_data_2016, temp, on='msno')"
   ]
  },
  {
   "cell_type": "code",
   "execution_count": 34,
   "metadata": {},
   "outputs": [],
   "source": [
    "# Add discount categorical to master df\n",
    "temp = transactions.groupby('msno')[['plan_list_price','actual_amount_paid']].sum().reset_index()\n",
    "temp['discount'] = temp['plan_list_price'] - temp['actual_amount_paid']\n",
    "temp['discount'] = temp['discount'].apply(lambda x: 'Discount' if x > 0 else 'No Discount')\n",
    "clv_data_2016 = pd.merge(clv_data_2016, temp[['msno','discount']], on='msno')"
   ]
  },
  {
   "cell_type": "markdown",
   "metadata": {},
   "source": [
    "### <font color=purple>*Calculate Tenure and Amount Spent Per Day Over Tenure*</font>"
   ]
  },
  {
   "cell_type": "markdown",
   "metadata": {},
   "source": [
    "Now we will calculate membership tenure. As our dataset is from January 1st 2016 to March 31st 2017, we will calculate tenure as ***March 31st 2017 - Earliest Transaction Date***."
   ]
  },
  {
   "cell_type": "code",
   "execution_count": 35,
   "metadata": {},
   "outputs": [],
   "source": [
    "# Add tenure\n",
    "temp = transactions.groupby('msno')['transaction_date'].min().reset_index()\n",
    "temp['tenure'] = (datetime.datetime(2016,2,28) - temp['transaction_date']).dt.days\n",
    "\n",
    "# Add paid_per_day\n",
    "temp2 = transactions.groupby('msno')['actual_amount_paid'].sum().reset_index()\n",
    "temp = pd.merge(temp[['msno','tenure']], temp2[['msno','actual_amount_paid']], on='msno')\n",
    "temp['avg_paid_per_day'] = temp['actual_amount_paid'] / temp['tenure']\n",
    "\n",
    "# Add both features to df\n",
    "clv_data_2016 = pd.merge(clv_data_2016, temp[['msno','tenure','avg_paid_per_day']], on='msno')"
   ]
  },
  {
   "cell_type": "code",
   "execution_count": 36,
   "metadata": {},
   "outputs": [
    {
     "data": {
      "text/html": [
       "<div>\n",
       "<style scoped>\n",
       "    .dataframe tbody tr th:only-of-type {\n",
       "        vertical-align: middle;\n",
       "    }\n",
       "\n",
       "    .dataframe tbody tr th {\n",
       "        vertical-align: top;\n",
       "    }\n",
       "\n",
       "    .dataframe thead th {\n",
       "        text-align: right;\n",
       "    }\n",
       "</style>\n",
       "<table border=\"1\" class=\"dataframe\">\n",
       "  <thead>\n",
       "    <tr style=\"text-align: right;\">\n",
       "      <th></th>\n",
       "      <th>msno</th>\n",
       "      <th>city</th>\n",
       "      <th>bd</th>\n",
       "      <th>gender</th>\n",
       "      <th>registered_via</th>\n",
       "      <th>registration_init_time</th>\n",
       "      <th>is_churn</th>\n",
       "      <th>Cluster</th>\n",
       "      <th>city_agg</th>\n",
       "      <th>unique_payment_plans</th>\n",
       "      <th>payment_plan_days</th>\n",
       "      <th>plan_list_price</th>\n",
       "      <th>discount</th>\n",
       "      <th>tenure</th>\n",
       "      <th>avg_paid_per_day</th>\n",
       "    </tr>\n",
       "  </thead>\n",
       "  <tbody>\n",
       "    <tr>\n",
       "      <td>0</td>\n",
       "      <td>P/Jw4MNLvfODOLBMXnuprsWoTDk2Tvez9k9uYPUDOH4=</td>\n",
       "      <td>20</td>\n",
       "      <td>0</td>\n",
       "      <td>NaN</td>\n",
       "      <td>3</td>\n",
       "      <td>2013-03-31</td>\n",
       "      <td>0</td>\n",
       "      <td>2</td>\n",
       "      <td>0</td>\n",
       "      <td>1</td>\n",
       "      <td>30.0</td>\n",
       "      <td>149.0</td>\n",
       "      <td>No Discount</td>\n",
       "      <td>234</td>\n",
       "      <td>5.094017</td>\n",
       "    </tr>\n",
       "    <tr>\n",
       "      <td>1</td>\n",
       "      <td>BZugFTI+gk693KTVjzn4H+uENNjuOfoafXc73bkehQ0=</td>\n",
       "      <td>10</td>\n",
       "      <td>0</td>\n",
       "      <td>NaN</td>\n",
       "      <td>3</td>\n",
       "      <td>2013-05-02</td>\n",
       "      <td>0</td>\n",
       "      <td>2</td>\n",
       "      <td>0</td>\n",
       "      <td>2</td>\n",
       "      <td>30.0</td>\n",
       "      <td>149.0</td>\n",
       "      <td>No Discount</td>\n",
       "      <td>410</td>\n",
       "      <td>5.087805</td>\n",
       "    </tr>\n",
       "    <tr>\n",
       "      <td>2</td>\n",
       "      <td>/84Qsm0+k8byRbnq4Uhcneu/Zp/BgicaGLgJ+wuZLXU=</td>\n",
       "      <td>21</td>\n",
       "      <td>0</td>\n",
       "      <td>NaN</td>\n",
       "      <td>3</td>\n",
       "      <td>2014-03-25</td>\n",
       "      <td>0</td>\n",
       "      <td>1</td>\n",
       "      <td>0</td>\n",
       "      <td>1</td>\n",
       "      <td>30.0</td>\n",
       "      <td>149.0</td>\n",
       "      <td>No Discount</td>\n",
       "      <td>40</td>\n",
       "      <td>7.450000</td>\n",
       "    </tr>\n",
       "    <tr>\n",
       "      <td>3</td>\n",
       "      <td>TRdjEyUSvy9ou8lgD5/LPuOZSJwKTiwoNXNJu6CQD0k=</td>\n",
       "      <td>3</td>\n",
       "      <td>0</td>\n",
       "      <td>NaN</td>\n",
       "      <td>3</td>\n",
       "      <td>2013-02-17</td>\n",
       "      <td>0</td>\n",
       "      <td>1</td>\n",
       "      <td>0</td>\n",
       "      <td>2</td>\n",
       "      <td>30.0</td>\n",
       "      <td>149.0</td>\n",
       "      <td>No Discount</td>\n",
       "      <td>419</td>\n",
       "      <td>4.978520</td>\n",
       "    </tr>\n",
       "    <tr>\n",
       "      <td>4</td>\n",
       "      <td>XXvj8r0kqkT10F0mRnFCThXHZCra/BRuGvwXCiym+VI=</td>\n",
       "      <td>17</td>\n",
       "      <td>0</td>\n",
       "      <td>NaN</td>\n",
       "      <td>3</td>\n",
       "      <td>2013-11-08</td>\n",
       "      <td>0</td>\n",
       "      <td>1</td>\n",
       "      <td>0</td>\n",
       "      <td>1</td>\n",
       "      <td>30.0</td>\n",
       "      <td>149.0</td>\n",
       "      <td>No Discount</td>\n",
       "      <td>407</td>\n",
       "      <td>5.125307</td>\n",
       "    </tr>\n",
       "  </tbody>\n",
       "</table>\n",
       "</div>"
      ],
      "text/plain": [
       "                                           msno  city  bd gender  \\\n",
       "0  P/Jw4MNLvfODOLBMXnuprsWoTDk2Tvez9k9uYPUDOH4=    20   0    NaN   \n",
       "1  BZugFTI+gk693KTVjzn4H+uENNjuOfoafXc73bkehQ0=    10   0    NaN   \n",
       "2  /84Qsm0+k8byRbnq4Uhcneu/Zp/BgicaGLgJ+wuZLXU=    21   0    NaN   \n",
       "3  TRdjEyUSvy9ou8lgD5/LPuOZSJwKTiwoNXNJu6CQD0k=     3   0    NaN   \n",
       "4  XXvj8r0kqkT10F0mRnFCThXHZCra/BRuGvwXCiym+VI=    17   0    NaN   \n",
       "\n",
       "   registered_via registration_init_time  is_churn  Cluster  city_agg  \\\n",
       "0               3             2013-03-31         0        2         0   \n",
       "1               3             2013-05-02         0        2         0   \n",
       "2               3             2014-03-25         0        1         0   \n",
       "3               3             2013-02-17         0        1         0   \n",
       "4               3             2013-11-08         0        1         0   \n",
       "\n",
       "   unique_payment_plans  payment_plan_days  plan_list_price     discount  \\\n",
       "0                     1               30.0            149.0  No Discount   \n",
       "1                     2               30.0            149.0  No Discount   \n",
       "2                     1               30.0            149.0  No Discount   \n",
       "3                     2               30.0            149.0  No Discount   \n",
       "4                     1               30.0            149.0  No Discount   \n",
       "\n",
       "   tenure  avg_paid_per_day  \n",
       "0     234          5.094017  \n",
       "1     410          5.087805  \n",
       "2      40          7.450000  \n",
       "3     419          4.978520  \n",
       "4     407          5.125307  "
      ]
     },
     "execution_count": 36,
     "metadata": {},
     "output_type": "execute_result"
    }
   ],
   "source": [
    "clv_data_2016.head()"
   ]
  },
  {
   "cell_type": "markdown",
   "metadata": {},
   "source": [
    "## Export Data"
   ]
  },
  {
   "cell_type": "code",
   "execution_count": 41,
   "metadata": {},
   "outputs": [],
   "source": [
    "clv_data_2016.to_csv('D:/J-5 Local/CLV_Feb2016.csv')"
   ]
  }
 ],
 "metadata": {
  "kernelspec": {
   "display_name": "Python 3",
   "language": "python",
   "name": "python3"
  },
  "language_info": {
   "codemirror_mode": {
    "name": "ipython",
    "version": 3
   },
   "file_extension": ".py",
   "mimetype": "text/x-python",
   "name": "python",
   "nbconvert_exporter": "python",
   "pygments_lexer": "ipython3",
   "version": "3.7.3"
  }
 },
 "nbformat": 4,
 "nbformat_minor": 4
}
