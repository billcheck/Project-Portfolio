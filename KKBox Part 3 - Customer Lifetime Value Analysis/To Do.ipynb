{
 "cells": [
  {
   "cell_type": "code",
   "execution_count": null,
   "metadata": {},
   "outputs": [],
   "source": [
    "CLV Project to do:\n",
    "- Prep Data\n",
    "- Conduct Survival Analysis\n",
    "\n",
    "- Cox Prop Hazard Analysis\n",
    "- CLV = Regression Expected Day X Past Spending (We need to take Discount into consideration)\n",
    "    - https://www.ibm.com/support/knowledgecenter/en/SSCJHT_1.0.0/com.ibm.swg.ba.cognos.pci_oth.1.0.0.doc/c_pci_pm_insure_cltv.html\n",
    "        \n",
    "- Distribution of CLV\n",
    "\n",
    "- \n",
    "\n",
    "- Add Interpretation to existing model"
   ]
  },
  {
   "cell_type": "markdown",
   "metadata": {},
   "source": [
    "Based on generalization, the best in class features were as follows.\n",
    "- **gbt_model_1to175** - 0.024326\n",
    "- **gbt_model_3to125** - 0.028995\n",
    "- **gbt_model_5to175** - 0.040094\n",
    "- **gbt_model_7to150** - 0.041693\n",
    "- **gbt_model_9to175** - 0.049611\n",
    "- **gbt_model_11to1mean** - 0.050464\n",
    "- **gbt_model_13to1mean** - 0.052361"
   ]
  },
  {
   "cell_type": "code",
   "execution_count": null,
   "metadata": {},
   "outputs": [],
   "source": [
    "Feature Ideas\n",
    "- Payment Plan Days +\n",
    "- City +\n",
    "- Registered via +\n",
    "- List Price +\n",
    "- Discount recieved +\n",
    "- Unique Plan +\n",
    "- Tenure +\n",
    "\n",
    "Segments:\n",
    "- Number of Unique Plans vs each other +\n",
    "- Number of Unique Plans @ 1 vs Payment plan days\n",
    "- "
   ]
  },
  {
   "cell_type": "markdown",
   "metadata": {},
   "source": [
    "**Inspiration:**\n",
    "    \n",
    "Looker Video on Overall Simplicity of Analysis - Kaplan Mier Estimate:\n",
    "- https://www.youtube.com/watch?v=gFc1n7Pz9zU\n",
    "\n",
    "Worked-through example:\n",
    "- https://towardsdatascience.com/survival-analysis-intuition-implementation-in-python-504fde4fcf8e"
   ]
  },
  {
   "cell_type": "code",
   "execution_count": null,
   "metadata": {},
   "outputs": [],
   "source": []
  }
 ],
 "metadata": {
  "kernelspec": {
   "display_name": "Python 3",
   "language": "python",
   "name": "python3"
  },
  "language_info": {
   "codemirror_mode": {
    "name": "ipython",
    "version": 3
   },
   "file_extension": ".py",
   "mimetype": "text/x-python",
   "name": "python",
   "nbconvert_exporter": "python",
   "pygments_lexer": "ipython3",
   "version": "3.7.3"
  }
 },
 "nbformat": 4,
 "nbformat_minor": 4
}
