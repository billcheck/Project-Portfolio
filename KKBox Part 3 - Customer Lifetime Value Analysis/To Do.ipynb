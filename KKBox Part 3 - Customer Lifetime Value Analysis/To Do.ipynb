{
 "cells": [
  {
   "cell_type": "code",
   "execution_count": null,
   "metadata": {},
   "outputs": [],
   "source": [
    "Questions:\n",
    "- How should I calculate net present value?"
   ]
  },
  {
   "cell_type": "code",
   "execution_count": null,
   "metadata": {},
   "outputs": [],
   "source": [
    "CLV Project to do:\n",
    "\n",
    "Article:\n",
    "- Trim first article completely. Only show two models. What you want to showcase is the businss wisdom \n",
    "  and approach to solving a problem\n",
    "\n",
    "- Redo Assests\n",
    "\n",
    "Theme: This is all to create a framework to make quick and value-driven decisions. \n",
    "    - Based on our at-risk-members defined by our churn model, who do we go after??\n",
    "    - How much LTV does each memeber have? Make decisions based on how much LTV they have and Cumm_Hazard_Prob\n",
    "\n",
    "# Calculations\n",
    "# - Total Value of cohort Entirely and How much does it have left\n",
    "# - Without doing anything how much Value are we loosing from those churning.\n",
    "\n",
    "- For each model\n",
    "#     - How much Value are we risking (FN), to have a chance in retaining (TN)\n",
    "#     - How many non-at-risk memebers (FP) will we need to re-approach\n",
    "#     - Cumm_Hazard_Prob \n",
    "\n",
    "Let's look at the at-risk population and see the effect on FP and TN by making decisions on:\n",
    "- See how much value they have left\n",
    "- Cumm_Hazard_Prob\n",
    "- Odds that he leaves in 30 days\n",
    "- How many days till he has a 50% chance of leaving\n",
    "- tenure = X, what are his ODDS for leaving\n",
    "\n",
    "Are those at risk even worth that much?? (Do I need to get Jan and look at this as if Train Set)\n",
    "\n",
    "Describe the variables you get to work with from LTV POV. We are giving perspective to reader on how to use.\n",
    "\n",
    "Cumm_Hazard_Prob vs is_churn\n",
    "fdd\n",
    "Add all new sexy features to churn models!! LAST THING TO DO."
   ]
  },
  {
   "cell_type": "code",
   "execution_count": null,
   "metadata": {},
   "outputs": [],
   "source": [
    "The first project is all about cost. Thats how it was concluded. Without cost we can't select a model.\n",
    "\n",
    "SO this project is about understanding customer lifetime value, so we could determine:\n",
    "    - What are the channels that are yeilding the Highest CLV\n",
    "    - A starting point for determining cost of acquisition\n",
    "    - Determining who we should save via intervention.\n",
    "    \n",
    "    "
   ]
  },
  {
   "cell_type": "code",
   "execution_count": null,
   "metadata": {},
   "outputs": [],
   "source": [
    "# Presntation #1: Acquisistion\n",
    "#   - Registered Via\n",
    "#   - Knowing how much to spend based on total received value\n",
    "#   - Assumptions: Costs are currently zero\n",
    "\n",
    "Presntation #2: Retention vs Costs/CLV\n",
    " - out of everyone who is high-risk, what are their remaining CLV?\n",
    " - How much are we willing to spend to convince them to stay? How much is this total?\n",
    " - Compare what we are risking vs to what we hope to save vs how much we are willing to invest\n",
    "    "
   ]
  },
  {
   "cell_type": "markdown",
   "metadata": {},
   "source": [
    "If we were to go off our predictions we would "
   ]
  },
  {
   "cell_type": "code",
   "execution_count": null,
   "metadata": {},
   "outputs": [],
   "source": [
    "This is all to create a framework to make quick and value-driven decisions\n",
    "- We know how much Expected Value a member has left\n",
    "- We can look at cummulative probability to see how much "
   ]
  },
  {
   "cell_type": "markdown",
   "metadata": {},
   "source": [
    "**Inspiration:**\n",
    "    \n",
    "Looker Video on Overall Simplicity of Analysis - Kaplan Mier Estimate:\n",
    "- https://www.youtube.com/watch?v=gFc1n7Pz9zU\n",
    "\n",
    "Worked-through example:\n",
    "- https://towardsdatascience.com/survival-analysis-intuition-implementation-in-python-504fde4fcf8e"
   ]
  },
  {
   "cell_type": "code",
   "execution_count": null,
   "metadata": {},
   "outputs": [],
   "source": []
  },
  {
   "cell_type": "code",
   "execution_count": null,
   "metadata": {},
   "outputs": [],
   "source": [
    "- Rod Danan\n",
    "- Yunus\n",
    "- Micah\n",
    "- Tiago\n",
    "- Mike Ricos\n",
    "- John Ahfield\n",
    "\n",
    "- Pydata Miami\n",
    "- Steven + Dilfs\n",
    "- Vaibhav\n",
    "\n",
    "- "
   ]
  }
 ],
 "metadata": {
  "kernelspec": {
   "display_name": "Python 3",
   "language": "python",
   "name": "python3"
  },
  "language_info": {
   "codemirror_mode": {
    "name": "ipython",
    "version": 3
   },
   "file_extension": ".py",
   "mimetype": "text/x-python",
   "name": "python",
   "nbconvert_exporter": "python",
   "pygments_lexer": "ipython3",
   "version": "3.7.3"
  }
 },
 "nbformat": 4,
 "nbformat_minor": 4
}
