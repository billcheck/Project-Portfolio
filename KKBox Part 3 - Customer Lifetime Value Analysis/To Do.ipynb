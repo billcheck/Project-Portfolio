{
 "cells": [
  {
   "cell_type": "code",
   "execution_count": null,
   "metadata": {},
   "outputs": [],
   "source": [
    "Questions:\n",
    "- How should I calculate net present value?"
   ]
  },
  {
   "cell_type": "code",
   "execution_count": null,
   "metadata": {},
   "outputs": [],
   "source": [
    "CLV Project to do:\n",
    "\n",
    "Article 1:\n",
    "- Trim first article completely. Only show two models. What you want to showcase is the businss wisdom \n",
    "  and approach to solving a problem\n",
    "\n",
    "- Redo Assests\n",
    "\n",
    "\n",
    "Article 2:\n",
    "- Start it.\n",
    "\n",
    "Churn Model\n",
    "- Add all new sexy features to churn models!! LAST THING TO DO."
   ]
  },
  {
   "cell_type": "code",
   "execution_count": null,
   "metadata": {},
   "outputs": [],
   "source": [
    "# Presntation #1: Acquisistion\n",
    "#   - Registered Via\n",
    "#   - Knowing how much to spend based on total received value\n",
    "#   - Assumptions: Costs are currently zero\n",
    "\n",
    "# Presntation #2: Retention vs Costs/CLV\n",
    "#  - out of everyone who is high-risk, what are their remaining CLV?\n",
    "#  - How much are we willing to spend to convince them to stay? How much is this total?\n",
    "#  - Compare what we are risking vs to what we hope to save vs how much we are willing to invest"
   ]
  },
  {
   "cell_type": "markdown",
   "metadata": {},
   "source": [
    "If we were to go off our predictions we would "
   ]
  },
  {
   "cell_type": "markdown",
   "metadata": {},
   "source": [
    "**Inspiration:**\n",
    "    \n",
    "Looker Video on Overall Simplicity of Analysis - Kaplan Mier Estimate:\n",
    "- https://www.youtube.com/watch?v=gFc1n7Pz9zU\n",
    "\n",
    "Worked-through example:\n",
    "- https://towardsdatascience.com/survival-analysis-intuition-implementation-in-python-504fde4fcf8e"
   ]
  },
  {
   "cell_type": "code",
   "execution_count": null,
   "metadata": {},
   "outputs": [],
   "source": []
  },
  {
   "cell_type": "code",
   "execution_count": null,
   "metadata": {},
   "outputs": [],
   "source": [
    "- Rod Danan\n",
    "- Yunus\n",
    "- Micah\n",
    "- Tiago\n",
    "- Mike Ricos\n",
    "- John Ahfield\n",
    "\n",
    "- Pydata Miami\n",
    "- Steven + Dilfs\n",
    "- Vaibhav\n",
    "\n",
    "- "
   ]
  }
 ],
 "metadata": {
  "kernelspec": {
   "display_name": "Python 3",
   "language": "python",
   "name": "python3"
  },
  "language_info": {
   "codemirror_mode": {
    "name": "ipython",
    "version": 3
   },
   "file_extension": ".py",
   "mimetype": "text/x-python",
   "name": "python",
   "nbconvert_exporter": "python",
   "pygments_lexer": "ipython3",
   "version": "3.7.3"
  }
 },
 "nbformat": 4,
 "nbformat_minor": 4
}
