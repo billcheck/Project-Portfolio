{
 "cells": [
  {
   "cell_type": "markdown",
   "metadata": {},
   "source": [
    "## - Future Improvements - \n",
    "#### This is a laundry list of things I wish I had and had more time for:\n",
    "\n",
    "**Features/Information I wish KKBOX provided:**\n",
    "\n",
    " - Complete Gender info (>50% of this data was missing)\n",
    " \n",
    " - User Age\n",
    " \n",
    " - Quantities of Songs Liked, Disliked, and Saved\n",
    " \n",
    " - Platform Usage (Desktop vs Mobile)\n",
    " \n",
    " - Platform Errors\n",
    " \n",
    " - Support Page Visits\n",
    " \n",
    " \n",
    "**Feature Ideas To Create:**\n",
    "\n",
    " - Features revolving around past cancellations\n",
    " \n",
    " - Features capturing activity after the membership expiration date but before the end of the 30-day window\n",
    " \n",
    " \n",
    "**Changing the scope of my Train set to get more Churn data:**\n",
    "\n",
    " - Try training on other months than January, different parts of the year. Training on the first month of the year may be affected by seasonality.\n",
    " \n",
    " - Currently, we are using one month to predict forward. However, using the data from such a largely imbalanced dataset from a single month could be very limiting. We can try to use the data from the past three months to get more churn observations in our Train set.\n",
    " \n",
    " \n",
    "**Other Ensemble of Best Models Ideas:**\n",
    "\n",
    " - Ensemble of Continuous Prob Results instead of Binaries\n",
    " \n",
    " - Ensemble of Continuous Prob Results with Adjusted Thresholds to make churn prediction more/less sensitive depending on the Train set.\n",
    " \n",
    " \n",
    "**Getting Better Results with Current Model:**\n",
    "\n",
    " - Taking three samples of each ratio set to add a bit more stability"
   ]
  },
  {
   "cell_type": "code",
   "execution_count": null,
   "metadata": {},
   "outputs": [],
   "source": []
  }
 ],
 "metadata": {
  "kernelspec": {
   "display_name": "Python 3",
   "language": "python",
   "name": "python3"
  },
  "language_info": {
   "codemirror_mode": {
    "name": "ipython",
    "version": 3
   },
   "file_extension": ".py",
   "mimetype": "text/x-python",
   "name": "python",
   "nbconvert_exporter": "python",
   "pygments_lexer": "ipython3",
   "version": "3.7.3"
  }
 },
 "nbformat": 4,
 "nbformat_minor": 4
}
